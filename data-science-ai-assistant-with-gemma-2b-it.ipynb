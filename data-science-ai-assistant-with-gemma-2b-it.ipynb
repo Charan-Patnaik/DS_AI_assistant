{
 "cells": [
  {
   "cell_type": "markdown",
   "id": "6bdf08b1",
   "metadata": {
    "papermill": {
     "duration": 0.017898,
     "end_time": "2024-03-21T10:09:57.467588",
     "exception": false,
     "start_time": "2024-03-21T10:09:57.449690",
     "status": "completed"
    },
    "tags": []
   },
   "source": [
    "# Data Science AI Assistant with Gemma 2b-it"
   ]
  },
  {
   "cell_type": "markdown",
   "id": "ef41ecde",
   "metadata": {
    "papermill": {
     "duration": 0.015999,
     "end_time": "2024-03-21T10:09:57.500542",
     "exception": false,
     "start_time": "2024-03-21T10:09:57.484543",
     "status": "completed"
    },
    "tags": []
   },
   "source": [
    "For the Kaggle competition **\"Google – AI Assistants for Data Tasks with Gemma,\"** I've prepared this AI Assistant that can accomplish the task of **\"Explaining or teaching basic data science concepts,\"** as required by the competition.\n",
    "\n",
    "This project is also an occasion to explain how a basic **retrieval-augmented generation (RAG)** system works, by showing the role of the data, which constitutes the backbone of the system, the function of embeddings and distance measures, how to retrieve relevant information for the task of answering a question, and how to process such information by first using a distillation prompt and then assembling the answer required by the user in a meaningful and useful way.\n",
    "\n",
    "In this project, the lion's share is done by **Gemma**, the state-of-the-art open LLM model released by Google, in its <U>2b-it implementation, the smallest in terms of parameters</U>. Gemma is not the only Google technology presented in the project because I also make use of **ScaNN** ([ScaNN Github repository](https://github.com/google-research/google-research/tree/master/scann)) for recalling the information. Apart from Gemma, ScaNN, and HuggingFace packages for transformers and embeddings, there are no ready-made solutions such as vector stores or RAG packages. You can actually see how everything works under the hood, and if you like it, reuse it for your own projects.\n",
    "\n"
   ]
  },
  {
   "cell_type": "markdown",
   "id": "d2563f7e",
   "metadata": {
    "papermill": {
     "duration": 0.016699,
     "end_time": "2024-03-21T10:09:57.533311",
     "exception": false,
     "start_time": "2024-03-21T10:09:57.516612",
     "status": "completed"
    },
    "tags": []
   },
   "source": [
    "![AI with Gemma](https://th.bing.com/th/id/OIG2.MHcSMMiDt6p95N.mjds0?pid=ImgGn)"
   ]
  },
  {
   "cell_type": "markdown",
   "id": "18769e71",
   "metadata": {
    "papermill": {
     "duration": 0.015713,
     "end_time": "2024-03-21T10:09:57.565056",
     "exception": false,
     "start_time": "2024-03-21T10:09:57.549343",
     "status": "completed"
    },
    "tags": []
   },
   "source": [
    "# 1. What is a RAG and how it can help to explain or teach basic data science concepts"
   ]
  },
  {
   "cell_type": "markdown",
   "id": "91d947c1",
   "metadata": {
    "papermill": {
     "duration": 0.015818,
     "end_time": "2024-03-21T10:09:57.596800",
     "exception": false,
     "start_time": "2024-03-21T10:09:57.580982",
     "status": "completed"
    },
    "tags": []
   },
   "source": [
    "A **Retrieval-Augmented Generation (RAG)** is a solution that improves text generation of a large language model by integrating its answers using some kind of external knowledge retrieval.\n",
    "\n",
    "Hence, it combines a **retriever** to fetch relevant information and a **generator** to produce accurate responses based on this retrieved knowledge. Basically, it is just like first doing a search engine query (the retriever), getting the best answers, and then asking a large language model such as **Gemma** or **Gemini** to process the information (generator) to answer an initial question."
   ]
  },
  {
   "cell_type": "markdown",
   "id": "b5f58533",
   "metadata": {
    "papermill": {
     "duration": 0.015746,
     "end_time": "2024-03-21T10:09:57.628690",
     "exception": false,
     "start_time": "2024-03-21T10:09:57.612944",
     "status": "completed"
    },
    "tags": []
   },
   "source": [
    "![High-level RAG architecture](https://raw.githubusercontent.com/lmassaron/useful_stuff/main/High-Level%20RAG%20Architecture_rev2.jpg)"
   ]
  },
  {
   "cell_type": "markdown",
   "id": "6f984c19",
   "metadata": {
    "papermill": {
     "duration": 0.015762,
     "end_time": "2024-03-21T10:09:57.660519",
     "exception": false,
     "start_time": "2024-03-21T10:09:57.644757",
     "status": "completed"
    },
    "tags": []
   },
   "source": [
    "Such an approach ensures AI models have access to up-to-date and relevant facts, improving the quality and reliability of their generated text, especially in tasks like question-answering where factual accuracy is crucial and LLMs are infamous for sometimes coming up with made-up information (hallucinations).\n",
    "\n",
    "In this case, **Google Gemma** seems already quite apt at answering basic questions about data science, but the idea is to further improve its competencies by providing it reliable information about AI, statistics, machine learning, and data science in general."
   ]
  },
  {
   "cell_type": "markdown",
   "id": "74429179",
   "metadata": {
    "papermill": {
     "duration": 0.015871,
     "end_time": "2024-03-21T10:09:57.692436",
     "exception": false,
     "start_time": "2024-03-21T10:09:57.676565",
     "status": "completed"
    },
    "tags": []
   },
   "source": [
    "# 2. Setting up the necessary stuff"
   ]
  },
  {
   "cell_type": "markdown",
   "id": "db6ddf5b",
   "metadata": {
    "papermill": {
     "duration": 0.015761,
     "end_time": "2024-03-21T10:09:57.724229",
     "exception": false,
     "start_time": "2024-03-21T10:09:57.708468",
     "status": "completed"
    },
    "tags": []
   },
   "source": [
    "In the first cell of this notebook, some key packages for the project are installed or updated to the latest version:\n",
    "\n",
    "1. The first command installs or upgrades the **torch** package quietly, specifying version compatibility for CUDA 11.7 from the PyTorch repository.\n",
    "2. The second command installs or upgrades the **transformers** package to version **4.38.2**, a popular library for natural language processing tasks.\n",
    "3. The third command installs the **accelerate** package, which is used for optimizing machine learning training pipelines.\n",
    "4. The fourth command installs the **bitsandbytes** package from the specified index URL, potentially a custom or private package repository.\n",
    "5. The fifth command installs or upgrades the **sentence_transformers** package, known for providing pre-trained models for sentence embeddings.\n",
    "6. The sixth command installs or upgrades the **scann** package, likely used for approximate nearest neighbor search implementations.\n",
    "7. The seventh command installs or upgrades the **wikipedia-api** package, which provides an interface to interact with Wikipedia data programmatically.\n"
   ]
  },
  {
   "cell_type": "code",
   "execution_count": 1,
   "id": "f4818cc7",
   "metadata": {
    "execution": {
     "iopub.execute_input": "2024-03-21T10:09:57.758235Z",
     "iopub.status.busy": "2024-03-21T10:09:57.757510Z",
     "iopub.status.idle": "2024-03-21T10:12:40.605287Z",
     "shell.execute_reply": "2024-03-21T10:12:40.604177Z"
    },
    "papermill": {
     "duration": 162.867983,
     "end_time": "2024-03-21T10:12:40.608059",
     "exception": false,
     "start_time": "2024-03-21T10:09:57.740076",
     "status": "completed"
    },
    "tags": []
   },
   "outputs": [
    {
     "name": "stdout",
     "output_type": "stream",
     "text": [
      "\u001b[31mERROR: pip's dependency resolver does not currently take into account all the packages that are installed. This behaviour is the source of the following dependency conflicts.\r\n",
      "cudf 23.8.0 requires cubinlinker, which is not installed.\r\n",
      "cudf 23.8.0 requires cupy-cuda11x>=12.0.0, which is not installed.\r\n",
      "cudf 23.8.0 requires ptxcompiler, which is not installed.\r\n",
      "cuml 23.8.0 requires cupy-cuda11x>=12.0.0, which is not installed.\r\n",
      "dask-cudf 23.8.0 requires cupy-cuda11x>=12.0.0, which is not installed.\r\n",
      "keras-nlp 0.8.1 requires keras-core, which is not installed.\r\n",
      "tensorflow-decision-forests 1.8.1 requires wurlitzer, which is not installed.\r\n",
      "sqlalchemy 2.0.25 requires typing-extensions>=4.6.0, but you have typing-extensions 4.5.0 which is incompatible.\r\n",
      "albumentations 1.4.0 requires numpy>=1.24.4, but you have numpy 1.24.3 which is incompatible.\r\n",
      "apache-beam 2.46.0 requires dill<0.3.2,>=0.3.1.1, but you have dill 0.3.8 which is incompatible.\r\n",
      "apache-beam 2.46.0 requires pyarrow<10.0.0,>=3.0.0, but you have pyarrow 11.0.0 which is incompatible.\r\n",
      "cudf 23.8.0 requires cuda-python<12.0a0,>=11.7.1, but you have cuda-python 12.3.0 which is incompatible.\r\n",
      "cudf 23.8.0 requires pandas<1.6.0dev0,>=1.3, but you have pandas 2.1.4 which is incompatible.\r\n",
      "cudf 23.8.0 requires protobuf<5,>=4.21, but you have protobuf 3.20.3 which is incompatible.\r\n",
      "cuml 23.8.0 requires dask==2023.7.1, but you have dask 2024.2.0 which is incompatible.\r\n",
      "dask-cuda 23.8.0 requires dask==2023.7.1, but you have dask 2024.2.0 which is incompatible.\r\n",
      "dask-cuda 23.8.0 requires pandas<1.6.0dev0,>=1.3, but you have pandas 2.1.4 which is incompatible.\r\n",
      "dask-cudf 23.8.0 requires dask==2023.7.1, but you have dask 2024.2.0 which is incompatible.\r\n",
      "dask-cudf 23.8.0 requires pandas<1.6.0dev0,>=1.3, but you have pandas 2.1.4 which is incompatible.\r\n",
      "fastapi 0.108.0 requires typing-extensions>=4.8.0, but you have typing-extensions 4.5.0 which is incompatible.\r\n",
      "gcsfs 2023.12.2.post1 requires fsspec==2023.12.2, but you have fsspec 2024.2.0 which is incompatible.\r\n",
      "jupyterlab 4.1.2 requires jupyter-lsp>=2.0.0, but you have jupyter-lsp 1.5.1 which is incompatible.\r\n",
      "jupyterlab-lsp 5.0.3 requires jupyter-lsp>=2.0.0, but you have jupyter-lsp 1.5.1 which is incompatible.\r\n",
      "libpysal 4.9.2 requires packaging>=22, but you have packaging 21.3 which is incompatible.\r\n",
      "libpysal 4.9.2 requires shapely>=2.0.1, but you have shapely 1.8.5.post1 which is incompatible.\r\n",
      "momepy 0.7.0 requires shapely>=2, but you have shapely 1.8.5.post1 which is incompatible.\r\n",
      "osmnx 1.9.1 requires shapely>=2.0, but you have shapely 1.8.5.post1 which is incompatible.\r\n",
      "pydantic 2.5.3 requires typing-extensions>=4.6.1, but you have typing-extensions 4.5.0 which is incompatible.\r\n",
      "pydantic-core 2.14.6 requires typing-extensions!=4.7.0,>=4.6.0, but you have typing-extensions 4.5.0 which is incompatible.\r\n",
      "pylibraft 23.8.0 requires cuda-python<12.0a0,>=11.7.1, but you have cuda-python 12.3.0 which is incompatible.\r\n",
      "raft-dask 23.8.0 requires dask==2023.7.1, but you have dask 2024.2.0 which is incompatible.\r\n",
      "rmm 23.8.0 requires cuda-python<12.0a0,>=11.7.1, but you have cuda-python 12.3.0 which is incompatible.\r\n",
      "spopt 0.6.0 requires shapely>=2.0.1, but you have shapely 1.8.5.post1 which is incompatible.\r\n",
      "tensorflow-decision-forests 1.8.1 requires tensorflow~=2.15.0, but you have tensorflow 2.13.1 which is incompatible.\r\n",
      "tensorflow-serving-api 2.14.1 requires tensorflow<3,>=2.14.1, but you have tensorflow 2.13.1 which is incompatible.\r\n",
      "tensorflow-text 2.15.0 requires tensorflow<2.16,>=2.15.0; platform_machine != \"arm64\" or platform_system != \"Darwin\", but you have tensorflow 2.13.1 which is incompatible.\r\n",
      "tensorstore 0.1.53 requires ml-dtypes>=0.3.1, but you have ml-dtypes 0.2.0 which is incompatible.\r\n",
      "typeguard 4.1.5 requires typing-extensions>=4.7.0; python_version < \"3.12\", but you have typing-extensions 4.5.0 which is incompatible.\r\n",
      "woodwork 0.28.0 requires numpy<2.0.0,>=1.25.0, but you have numpy 1.24.3 which is incompatible.\r\n",
      "xarray 2024.2.0 requires packaging>=22, but you have packaging 21.3 which is incompatible.\u001b[0m\u001b[31m\r\n",
      "\u001b[0m"
     ]
    }
   ],
   "source": [
    "!pip install -q -U torch --index-url https://download.pytorch.org/whl/cu117\n",
    "!pip install -q -U transformers==\"4.38.2\"\n",
    "!pip install -q accelerate\n",
    "!pip install -q -i https://pypi.org/simple/ bitsandbytes\n",
    "!pip install -q -U sentence_transformers\n",
    "!pip install -q -U scann\n",
    "!pip install -q -U wikipedia-api"
   ]
  },
  {
   "cell_type": "markdown",
   "id": "35e60545",
   "metadata": {
    "papermill": {
     "duration": 0.016019,
     "end_time": "2024-03-21T10:12:40.640892",
     "exception": false,
     "start_time": "2024-03-21T10:12:40.624873",
     "status": "completed"
    },
    "tags": []
   },
   "source": [
    "In the next cell, the code uses the **os** module to set some environment variables. The first line sets the **CUDA_VISIBLE_DEVICES** variable to \"0,\" which instructs CUDA-enabled applications to use only the GPU with index 0 for computation, useful for managing GPU resources in multi-GPU systems. The second line sets **TOKENIZERS_PARALLELISM** to \"false,\" disabling parallelism in the Hugging Face Tokenizers library, potentially useful for troubleshooting or ensuring single-threaded execution. These environment variable configurations help control GPU usage and tokenizer behavior within the Python environment where this code is executed."
   ]
  },
  {
   "cell_type": "code",
   "execution_count": 2,
   "id": "0237ad33",
   "metadata": {
    "execution": {
     "iopub.execute_input": "2024-03-21T10:12:40.674903Z",
     "iopub.status.busy": "2024-03-21T10:12:40.674557Z",
     "iopub.status.idle": "2024-03-21T10:12:40.679526Z",
     "shell.execute_reply": "2024-03-21T10:12:40.678694Z"
    },
    "papermill": {
     "duration": 0.02436,
     "end_time": "2024-03-21T10:12:40.681450",
     "exception": false,
     "start_time": "2024-03-21T10:12:40.657090",
     "status": "completed"
    },
    "tags": []
   },
   "outputs": [],
   "source": [
    "import os\n",
    "os.environ[\"CUDA_VISIBLE_DEVICES\"] = \"0\"\n",
    "os.environ[\"TOKENIZERS_PARALLELISM\"] = \"false\""
   ]
  },
  {
   "cell_type": "markdown",
   "id": "c23d71fe",
   "metadata": {
    "papermill": {
     "duration": 0.016019,
     "end_time": "2024-03-21T10:12:40.713749",
     "exception": false,
     "start_time": "2024-03-21T10:12:40.697730",
     "status": "completed"
    },
    "tags": []
   },
   "source": [
    "Moreover, since warnings may occur when using new versions of Python packages (aligning versions is often a task in itself), the following cell imports the **warnings** package and suppresses warnings during this session."
   ]
  },
  {
   "cell_type": "code",
   "execution_count": 3,
   "id": "8d9fa106",
   "metadata": {
    "execution": {
     "iopub.execute_input": "2024-03-21T10:12:40.747203Z",
     "iopub.status.busy": "2024-03-21T10:12:40.746922Z",
     "iopub.status.idle": "2024-03-21T10:12:40.750997Z",
     "shell.execute_reply": "2024-03-21T10:12:40.750065Z"
    },
    "papermill": {
     "duration": 0.022893,
     "end_time": "2024-03-21T10:12:40.752900",
     "exception": false,
     "start_time": "2024-03-21T10:12:40.730007",
     "status": "completed"
    },
    "tags": []
   },
   "outputs": [],
   "source": [
    "import warnings\n",
    "warnings.filterwarnings(\"ignore\")"
   ]
  },
  {
   "cell_type": "markdown",
   "id": "3e320756",
   "metadata": {
    "papermill": {
     "duration": 0.016725,
     "end_time": "2024-03-21T10:12:40.785856",
     "exception": false,
     "start_time": "2024-03-21T10:12:40.769131",
     "status": "completed"
    },
    "tags": []
   },
   "source": [
    "In the next cell, the notebook loads Python libraries and modules for natural language processing tasks. It also includes libraries like **re** for regular expressions, **numpy** and **pandas** for data manipulation, **tqdm** for progress bars, **scann** for approximate nearest neighbor search, and **wikipediaapi** for accessing Wikipedia content (yes, we are going to use Wikipedia as a knowledge base).\n"
   ]
  },
  {
   "cell_type": "code",
   "execution_count": 4,
   "id": "20b0a459",
   "metadata": {
    "execution": {
     "iopub.execute_input": "2024-03-21T10:12:40.819404Z",
     "iopub.status.busy": "2024-03-21T10:12:40.819083Z",
     "iopub.status.idle": "2024-03-21T10:12:51.687461Z",
     "shell.execute_reply": "2024-03-21T10:12:51.686655Z"
    },
    "papermill": {
     "duration": 10.887665,
     "end_time": "2024-03-21T10:12:51.689731",
     "exception": false,
     "start_time": "2024-03-21T10:12:40.802066",
     "status": "completed"
    },
    "tags": []
   },
   "outputs": [],
   "source": [
    "import re\n",
    "import numpy as np\n",
    "import pandas as pd\n",
    "from tqdm import tqdm\n",
    "import scann\n",
    "import wikipediaapi\n",
    "\n",
    "import torch\n",
    "\n",
    "import transformers\n",
    "from transformers import (AutoModelForCausalLM, \n",
    "                          AutoTokenizer, \n",
    "                          BitsAndBytesConfig,\n",
    "                         )\n",
    "from sentence_transformers import SentenceTransformer\n",
    "import bitsandbytes as bnb"
   ]
  },
  {
   "cell_type": "markdown",
   "id": "54a7bbce",
   "metadata": {
    "papermill": {
     "duration": 0.015983,
     "end_time": "2024-03-21T10:12:51.722440",
     "exception": false,
     "start_time": "2024-03-21T10:12:51.706457",
     "status": "completed"
    },
    "tags": []
   },
   "source": [
    "# 3. Proceeding by building blocks"
   ]
  },
  {
   "cell_type": "markdown",
   "id": "98d1a531",
   "metadata": {
    "papermill": {
     "duration": 0.015847,
     "end_time": "2024-03-21T10:12:51.754334",
     "exception": false,
     "start_time": "2024-03-21T10:12:51.738487",
     "status": "completed"
    },
    "tags": []
   },
   "source": [
    "Before proceeding with the notebook, it is necessary to spend a word about how I will proceed in building the solution in a way that can be clear, easily explainable, and both reusable as well as hackable."
   ]
  },
  {
   "cell_type": "markdown",
   "id": "f1c6ac46",
   "metadata": {
    "papermill": {
     "duration": 0.015969,
     "end_time": "2024-03-21T10:12:51.786375",
     "exception": false,
     "start_time": "2024-03-21T10:12:51.770406",
     "status": "completed"
    },
    "tags": []
   },
   "source": [
    "The AI assistant will simply be a class containing all you need for it to work and with methods for changing some settings (such as the temperature, which corresponds to its creativity, or the impersonated role, which influences how it responds) and for asking questions.\n",
    "\n",
    "All the internal functions, however, are external, hence they are easier to present as stand-alone code snippets, easily reusable for different purposes or projects, and easily upgradable or hackable. Because as you change an external function, you immediately change the behavior of the class, without having to reinstantiate it again (it actually takes some time to re-index all the knowledge base, which may prevent some fast experimentation).\n"
   ]
  },
  {
   "cell_type": "markdown",
   "id": "8ae76739",
   "metadata": {
    "papermill": {
     "duration": 0.061713,
     "end_time": "2024-03-21T10:12:51.864074",
     "exception": false,
     "start_time": "2024-03-21T10:12:51.802361",
     "status": "completed"
    },
    "tags": []
   },
   "source": [
    "Here, as a first piece of code, the next cell presents a function that returns the device where to map the model and the data when working with the PyTorch library (used by the HF packages). It works with a **CPU-based** computer, a **GPU** one, and with a **macOS with MPS**."
   ]
  },
  {
   "cell_type": "code",
   "execution_count": 5,
   "id": "ac601754",
   "metadata": {
    "execution": {
     "iopub.execute_input": "2024-03-21T10:12:51.903315Z",
     "iopub.status.busy": "2024-03-21T10:12:51.902646Z",
     "iopub.status.idle": "2024-03-21T10:12:51.909759Z",
     "shell.execute_reply": "2024-03-21T10:12:51.908869Z"
    },
    "papermill": {
     "duration": 0.02703,
     "end_time": "2024-03-21T10:12:51.911735",
     "exception": false,
     "start_time": "2024-03-21T10:12:51.884705",
     "status": "completed"
    },
    "tags": []
   },
   "outputs": [],
   "source": [
    "def define_device():\n",
    "    \"\"\"Define the device to be used by PyTorch\"\"\"\n",
    "\n",
    "    # Get the PyTorch version\n",
    "    torch_version = torch.__version__\n",
    "\n",
    "    # Print the PyTorch version\n",
    "    print(f\"PyTorch version: {torch_version}\", end=\" -- \")\n",
    "\n",
    "    # Check if MPS (Multi-Process Service) device is available on MacOS\n",
    "    if torch.backends.mps.is_available():\n",
    "        # If MPS is available, print a message indicating its usage\n",
    "        print(\"using MPS device on MacOS\")\n",
    "        # Define the device as MPS\n",
    "        defined_device = torch.device(\"mps\")\n",
    "    else:\n",
    "        # If MPS is not available, determine the device based on GPU availability\n",
    "        defined_device = torch.device(\"cuda\" if torch.cuda.is_available() else \"cpu\")\n",
    "        # Print a message indicating the selected device\n",
    "        print(f\"using {defined_device}\")\n",
    "\n",
    "    # Return the defined device\n",
    "    return defined_device\n"
   ]
  },
  {
   "cell_type": "markdown",
   "id": "b6671a4c",
   "metadata": {
    "papermill": {
     "duration": 0.016448,
     "end_time": "2024-03-21T10:12:51.944905",
     "exception": false,
     "start_time": "2024-03-21T10:12:51.928457",
     "status": "completed"
    },
    "tags": []
   },
   "source": [
    "The next cells, instead, present two functions designed to operate using the **SentenceTransformers** package ([the package home page](https://www.sbert.net/index.html)), that can operate with lists of text and map them into embeddings.\n"
   ]
  },
  {
   "cell_type": "markdown",
   "id": "87bc2657",
   "metadata": {
    "papermill": {
     "duration": 0.017077,
     "end_time": "2024-03-21T10:12:51.978923",
     "exception": false,
     "start_time": "2024-03-21T10:12:51.961846",
     "status": "completed"
    },
    "tags": []
   },
   "source": [
    "Embeddings, such as those processed by packages like **SentenceTransformers**, are representations of text or sentences in a numerical form that capture their semantic meaning. These embeddings are created by transforming words or sentences into high-dimensional vectors, where similar vectors represent similar meanings."
   ]
  },
  {
   "cell_type": "markdown",
   "id": "dab5b3c7",
   "metadata": {
    "papermill": {
     "duration": 0.024521,
     "end_time": "2024-03-21T10:12:52.025168",
     "exception": false,
     "start_time": "2024-03-21T10:12:52.000647",
     "status": "completed"
    },
    "tags": []
   },
   "source": [
    "In the context of **SentenceTransformers**, these embeddings are generated using models like BERT or XLNet that have been fine-tuned to produce meaningful sentence representations. These embeddings can be used for various tasks like clustering, semantic textual similarity, and information retrieval (in our project we actually need a retrieval function) by comparing the vectors using metrics like cosine similarity."
   ]
  },
  {
   "cell_type": "code",
   "execution_count": 6,
   "id": "ef58fc64",
   "metadata": {
    "execution": {
     "iopub.execute_input": "2024-03-21T10:12:52.065416Z",
     "iopub.status.busy": "2024-03-21T10:12:52.065045Z",
     "iopub.status.idle": "2024-03-21T10:12:52.071663Z",
     "shell.execute_reply": "2024-03-21T10:12:52.070779Z"
    },
    "papermill": {
     "duration": 0.026267,
     "end_time": "2024-03-21T10:12:52.073524",
     "exception": false,
     "start_time": "2024-03-21T10:12:52.047257",
     "status": "completed"
    },
    "tags": []
   },
   "outputs": [],
   "source": [
    "def get_embedding(text, embedding_model):\n",
    "    \"\"\"Get embeddings for a given text using the provided embedding model\"\"\"\n",
    "    \n",
    "    # Encode the text to obtain embeddings using the provided embedding model\n",
    "    embedding = embedding_model.encode(text, show_progress_bar=False)\n",
    "    \n",
    "    # Convert the embeddings to a list of floats and return\n",
    "    return embedding.tolist()\n",
    "\n",
    "def map2embeddings(data, embedding_model):\n",
    "    \"\"\"Map a list of texts to their embeddings using the provided embedding model\"\"\"\n",
    "    \n",
    "    # Initialize an empty list to store embeddings\n",
    "    embeddings = []\n",
    "\n",
    "    # Iterate over each text in the input data list\n",
    "    no_texts = len(data)\n",
    "    print(f\"Mapping {no_texts} pieces of information\")\n",
    "    for i in tqdm(range(no_texts)):\n",
    "        # Get embeddings for the current text using the provided embedding model\n",
    "        embeddings.append(get_embedding(data[i], embedding_model))\n",
    "    \n",
    "    # Return the list of embeddings\n",
    "    return embeddings"
   ]
  },
  {
   "cell_type": "markdown",
   "id": "efe32e65",
   "metadata": {
    "papermill": {
     "duration": 0.016442,
     "end_time": "2024-03-21T10:12:52.106555",
     "exception": false,
     "start_time": "2024-03-21T10:12:52.090113",
     "status": "completed"
    },
    "tags": []
   },
   "source": [
    "The next cell contains a simple function capable of removing artifacts such as tokens, double asterisks, or spaces which sometimes appear in outputs from large language models.\n"
   ]
  },
  {
   "cell_type": "code",
   "execution_count": 7,
   "id": "4946112e",
   "metadata": {
    "execution": {
     "iopub.execute_input": "2024-03-21T10:12:52.140549Z",
     "iopub.status.busy": "2024-03-21T10:12:52.140257Z",
     "iopub.status.idle": "2024-03-21T10:12:52.145251Z",
     "shell.execute_reply": "2024-03-21T10:12:52.144509Z"
    },
    "papermill": {
     "duration": 0.024464,
     "end_time": "2024-03-21T10:12:52.147247",
     "exception": false,
     "start_time": "2024-03-21T10:12:52.122783",
     "status": "completed"
    },
    "tags": []
   },
   "outputs": [],
   "source": [
    "def clean_text(txt, EOS_TOKEN):\n",
    "    \"\"\"Clean text by removing specific tokens and redundant spaces\"\"\"\n",
    "    txt = (txt\n",
    "           .replace(EOS_TOKEN, \"\") # Replace the end-of-sentence token with an empty string\n",
    "           .replace(\"**\", \"\")      # Replace double asterisks with an empty string\n",
    "           .replace(\"<pad>\", \"\")   # Replace \"<pad>\" with an empty string\n",
    "           .replace(\"  \", \" \")     # Replace double spaces with single spaces\n",
    "          ).strip()                # Strip leading and trailing spaces from the text\n",
    "    return txt"
   ]
  },
  {
   "cell_type": "markdown",
   "id": "a9cca4bb",
   "metadata": {
    "papermill": {
     "duration": 0.016231,
     "end_time": "2024-03-21T10:12:52.180325",
     "exception": false,
     "start_time": "2024-03-21T10:12:52.164094",
     "status": "completed"
    },
    "tags": []
   },
   "source": [
    "The following function, instead, simply adds an indefinite article to a role name, something useful to make a prompt nicer and easier to read.\n"
   ]
  },
  {
   "cell_type": "code",
   "execution_count": 8,
   "id": "acf7b0a5",
   "metadata": {
    "execution": {
     "iopub.execute_input": "2024-03-21T10:12:52.213879Z",
     "iopub.status.busy": "2024-03-21T10:12:52.213608Z",
     "iopub.status.idle": "2024-03-21T10:12:52.219032Z",
     "shell.execute_reply": "2024-03-21T10:12:52.218200Z"
    },
    "papermill": {
     "duration": 0.024435,
     "end_time": "2024-03-21T10:12:52.220991",
     "exception": false,
     "start_time": "2024-03-21T10:12:52.196556",
     "status": "completed"
    },
    "tags": []
   },
   "outputs": [],
   "source": [
    "def add_indefinite_article(role_name):\n",
    "    \"\"\"Check if a role name has a determinative adjective before it, and if not, add the correct one\"\"\"\n",
    "    \n",
    "    # Check if the first word is a determinative adjective\n",
    "    determinative_adjectives = [\"a\", \"an\", \"the\"]\n",
    "    words = role_name.split()\n",
    "    if words[0].lower() not in determinative_adjectives:\n",
    "        # Use \"a\" or \"an\" based on the first letter of the role name\n",
    "        determinative_adjective = \"an\" if words[0][0].lower() in \"aeiou\" else \"a\"\n",
    "        role_name = f\"{determinative_adjective} {role_name}\"\n",
    "\n",
    "    return role_name"
   ]
  },
  {
   "cell_type": "markdown",
   "id": "5bb043a2",
   "metadata": {
    "papermill": {
     "duration": 0.016002,
     "end_time": "2024-03-21T10:12:52.253190",
     "exception": false,
     "start_time": "2024-03-21T10:12:52.237188",
     "status": "completed"
    },
    "tags": []
   },
   "source": [
    "After the previous functions, mostly devoted to processing text for better readability, the next class helps first to load and initialize Gemma by quantizing it to 4-bit, reducing its memory footprint and allowing for faster responses, and then to generate text from it. <u>**Gemma** is the core of our generative functions</u>, making it a crucial element for processing information and returning it to the user in the most usable and useful form.\n"
   ]
  },
  {
   "cell_type": "markdown",
   "id": "74980424",
   "metadata": {
    "papermill": {
     "duration": 0.016457,
     "end_time": "2024-03-21T10:12:52.286056",
     "exception": false,
     "start_time": "2024-03-21T10:12:52.269599",
     "status": "completed"
    },
    "tags": []
   },
   "source": [
    "The `GemmaHF` class serves as a wrapper for the Transformers implementation of Gemma. Upon initialization, it sets up the model and tokenizer using the specified model name and a maximum sequence length for the tokenizer. \n",
    "\n",
    "In short, the method `initialize_model` is designed to set up a 4-bit quantized causal language model (LLM) and tokenizer and configure them. It begins by defining the data type for computation as `float16`. Then, it creates a configuration for quantization using the `BitsAndBytesConfig` class with settings for 4-bit quantization. The function loads a pre-trained model (Gemma 2b-it in the project, but you can try also the 7b version) with the specified quantization configuration. It also loads a tokenizer with the selected device mapping and maximum sequence length settings. Finally, the method returns the initialized model and tokenizer, ready for use by our AI assistant.\n",
    "\n",
    "Finally, its `generate_text` method takes a prompt as input and generates a text using the instantiated tokenizer and model, allowing for customization of parameters such as maximum new tokens and temperature for sampling. Under the hood, it encodes the prompt, generates text based on it, decodes the output into text, and returns a list of generated text results.\n"
   ]
  },
  {
   "cell_type": "code",
   "execution_count": 9,
   "id": "fe8bfa6f",
   "metadata": {
    "execution": {
     "iopub.execute_input": "2024-03-21T10:12:52.320411Z",
     "iopub.status.busy": "2024-03-21T10:12:52.320120Z",
     "iopub.status.idle": "2024-03-21T10:12:52.330883Z",
     "shell.execute_reply": "2024-03-21T10:12:52.329924Z"
    },
    "papermill": {
     "duration": 0.030364,
     "end_time": "2024-03-21T10:12:52.333019",
     "exception": false,
     "start_time": "2024-03-21T10:12:52.302655",
     "status": "completed"
    },
    "tags": []
   },
   "outputs": [],
   "source": [
    "class GemmaHF():\n",
    "    \"\"\"Wrapper for the Transformers implementation of Gemma\"\"\"\n",
    "    \n",
    "    def __init__(self, model_name, max_seq_length=2048):\n",
    "        self.model_name = model_name\n",
    "        self.max_seq_length = max_seq_length\n",
    "        \n",
    "        # Initialize the model and tokenizer\n",
    "        print(\"\\nInitializing model:\")\n",
    "        self.device = define_device()\n",
    "        self.model, self.tokenizer = self.initialize_model(self.model_name, self.device, self.max_seq_length)\n",
    "        \n",
    "    def initialize_model(self, model_name, device, max_seq_length):\n",
    "        \"\"\"Initialize a 4-bit quantized causal language model (LLM) and tokenizer with specified settings\"\"\"\n",
    "\n",
    "        # Define the data type for computation\n",
    "        compute_dtype = getattr(torch, \"float16\")\n",
    "\n",
    "        # Define the configuration for quantization\n",
    "        bnb_config = BitsAndBytesConfig(\n",
    "            load_in_4bit=True,\n",
    "            bnb_4bit_use_double_quant=True,\n",
    "            bnb_4bit_quant_type=\"nf4\",\n",
    "            bnb_4bit_compute_dtype=compute_dtype,\n",
    "        )\n",
    "\n",
    "        # Load the pre-trained model with quantization configuration\n",
    "        model = AutoModelForCausalLM.from_pretrained(\n",
    "            model_name,\n",
    "            device_map=device,\n",
    "            quantization_config=bnb_config,\n",
    "        )\n",
    "\n",
    "        # Load the tokenizer with specified device and max_seq_length\n",
    "        tokenizer = AutoTokenizer.from_pretrained(\n",
    "            model_name,\n",
    "            device_map=device,\n",
    "            max_seq_length=max_seq_length\n",
    "        )\n",
    "        \n",
    "        # Return the initialized model and tokenizer\n",
    "        return model, tokenizer\n",
    "    \n",
    "    def generate_text(self, prompt, max_new_tokens=2048, temperature=0.0):\n",
    "        \"\"\"Generate text using the instantiated tokenizer and model with specified settings\"\"\"\n",
    "    \n",
    "        # Encode the prompt and convert to PyTorch tensor\n",
    "        input_ids = self.tokenizer(prompt, return_tensors=\"pt\", padding=True).to(self.device)\n",
    "\n",
    "        # Determine if sampling should be performed based on temperature\n",
    "        do_sample = True if temperature > 0 else False\n",
    "\n",
    "        # Generate text based on the input prompt\n",
    "        outputs = self.model.generate(**input_ids, \n",
    "                                      max_new_tokens=max_new_tokens, \n",
    "                                      do_sample=do_sample, \n",
    "                                      temperature=temperature\n",
    "                                     )\n",
    "\n",
    "        # Decode the generated output into text\n",
    "        results = [self.tokenizer.decode(output) for output in outputs]\n",
    "\n",
    "        # Return the list of generated text results\n",
    "        return results"
   ]
  },
  {
   "cell_type": "markdown",
   "id": "a71ab0f3",
   "metadata": {
    "papermill": {
     "duration": 0.016061,
     "end_time": "2024-03-21T10:12:52.365934",
     "exception": false,
     "start_time": "2024-03-21T10:12:52.349873",
     "status": "completed"
    },
    "tags": []
   },
   "source": [
    "And here we arrive at the core of the generative function (before we just initialized the generative engine, Gemma)."
   ]
  },
  {
   "cell_type": "markdown",
   "id": "926d5b7f",
   "metadata": {
    "papermill": {
     "duration": 0.016175,
     "end_time": "2024-03-21T10:12:52.398527",
     "exception": false,
     "start_time": "2024-03-21T10:12:52.382352",
     "status": "completed"
    },
    "tags": []
   },
   "source": [
    "The `generate_summary_and_answer` function, generates an answer for a given question using context from a dataset. It embeds the input question (using the `get_embedding` function we previously saw), finds similar contexts in the dataset, extracts relevant context based on similarity indices, generates prompts for summarizing the context and providing an answer, generates summaries and answers using the a generative method from a \"model\" class, which can be a wrapper class containing Gemma implementations based on HF Transformers, Keras, Gemma C++ or any other available. Afterwards, the function cleans the generated summary and answer, and returns the cleaned answer for further processing. This function works as a sequence of steps in order to generate informative responses starting from an input question and some knowledge base data previously provided.\n"
   ]
  },
  {
   "cell_type": "markdown",
   "id": "7df4606d",
   "metadata": {
    "papermill": {
     "duration": 0.016064,
     "end_time": "2024-03-21T10:12:52.431117",
     "exception": false,
     "start_time": "2024-03-21T10:12:52.415053",
     "status": "completed"
    },
    "tags": []
   },
   "source": [
    "The two-step execution processing the information retrieved from the knowledge base is necessary because extraction based on embedded vectors sometimes returns irrelevant information. It is a problem based on the fact that embeddings are a mapping that has many facets (they are high-dimensional themselves) and that distance measures, and methods for finding what documents or text are most similar to your question, are often approximate for performance reasons resulting sometimes in unexpected retrieved results. First summarizing relevant information, a task that Gemma can execute with prowess, helps in having a shorter, more compact, and surely more relevant context to provide to the further processing by Gemma, which consists of writing an answer to your question.\n"
   ]
  },
  {
   "cell_type": "markdown",
   "id": "453eae48",
   "metadata": {
    "papermill": {
     "duration": 0.0164,
     "end_time": "2024-03-21T10:12:52.463943",
     "exception": false,
     "start_time": "2024-03-21T10:12:52.447543",
     "status": "completed"
    },
    "tags": []
   },
   "source": [
    "In this process, temperature, the level of creativity, and the role may result in different answers and also different answering styles. I decided to rely on the \"expert data scientist\" role, but you may decide for the \"ELI5 divulgator\" or the \"verbose scholarly narrator\" (at your own risk XD).\n"
   ]
  },
  {
   "cell_type": "markdown",
   "id": "362a2a3f",
   "metadata": {
    "papermill": {
     "duration": 0.017228,
     "end_time": "2024-03-21T10:12:52.497588",
     "exception": false,
     "start_time": "2024-03-21T10:12:52.480360",
     "status": "completed"
    },
    "tags": []
   },
   "source": [
    "Finally, notice the part of the generative prompt that says: \"If the context doesn't provide any relevant information, answer with <I couldn't find a good match in my knowledge base for your query, hence I answer based on my own knowledge>\". This is partly to prevent the assistant from losing its usefulness and to alert the user regarding the assistant providing peculiar answers when the question is off-topic, too difficult, or lacks sufficient information.\n"
   ]
  },
  {
   "cell_type": "code",
   "execution_count": 10,
   "id": "3ce818e3",
   "metadata": {
    "execution": {
     "iopub.execute_input": "2024-03-21T10:12:52.531611Z",
     "iopub.status.busy": "2024-03-21T10:12:52.531331Z",
     "iopub.status.idle": "2024-03-21T10:12:52.540530Z",
     "shell.execute_reply": "2024-03-21T10:12:52.539719Z"
    },
    "papermill": {
     "duration": 0.028384,
     "end_time": "2024-03-21T10:12:52.542408",
     "exception": false,
     "start_time": "2024-03-21T10:12:52.514024",
     "status": "completed"
    },
    "tags": []
   },
   "outputs": [],
   "source": [
    "def generate_summary_and_answer(question, data, searcher, embedding_model, model,\n",
    "                                max_new_tokens=2048, temperature=0.4, role=\"expert\"):\n",
    "    \"\"\"Generate an answer for a given question using context from a dataset\"\"\"\n",
    "    \n",
    "    # Embed the input question using the provided embedding model\n",
    "    embeded_question = np.array(get_embedding(question, embedding_model)).reshape(1, -1)\n",
    "    \n",
    "    # Find similar contexts in the dataset based on the embedded question\n",
    "    neighbors, distances = searcher.search_batched(embeded_question)\n",
    "    \n",
    "    # Extract context from the dataset based on the indices of similar contexts\n",
    "    context = \" \".join([data[pos] for pos in np.ravel(neighbors)])\n",
    "    \n",
    "    # Get the end-of-sentence token from the tokenizer\n",
    "    try:\n",
    "        EOS_TOKEN = model.tokenizer.eos_token\n",
    "    except:\n",
    "        EOS_TOKEN = \"<eos>\"\n",
    "    \n",
    "    # Add a determinative adjective to the role\n",
    "    role = add_indefinite_article(role)\n",
    "    \n",
    "    # Generate a prompt for summarizing the context\n",
    "    prompt = f\"\"\"\n",
    "             Summarize this context: \"{context}\" in order to answer the question \"{question}\" as {role}\\\n",
    "             SUMMARY:\n",
    "             \"\"\".strip() + EOS_TOKEN\n",
    "    \n",
    "    # Generate a summary based on the prompt\n",
    "    results = model.generate_text(prompt, max_new_tokens, temperature)\n",
    "    \n",
    "    # Clean the generated summary\n",
    "    summary = clean_text(results[0].split(\"SUMMARY:\")[-1], EOS_TOKEN)\n",
    "\n",
    "    # Generate a prompt for providing an answer\n",
    "    prompt = f\"\"\"\n",
    "             Here is the context: {summary}\n",
    "             Using the relevant information from the context \n",
    "             and integrating it with your knowledge,\n",
    "             provide an answer as {role} to the question: {question}.\n",
    "             If the context doesn't provide\n",
    "             any relevant information answer with \n",
    "             [I couldn't find a good match in my\n",
    "             knowledge base for your question, \n",
    "             hence I answer based on my own knowledge] \\\n",
    "             ANSWER:\n",
    "             \"\"\".strip() + EOS_TOKEN\n",
    "\n",
    "    # Generate an answer based on the prompt\n",
    "    results = model.generate_text(prompt, max_new_tokens, temperature)\n",
    "    \n",
    "    # Clean the generated answer\n",
    "    answer = clean_text(results[0].split(\"ANSWER:\")[-1], EOS_TOKEN)\n",
    "\n",
    "    # Return the cleaned answer\n",
    "    return answer"
   ]
  },
  {
   "cell_type": "markdown",
   "id": "1ed8a6c2",
   "metadata": {
    "papermill": {
     "duration": 0.016053,
     "end_time": "2024-03-21T10:12:52.574952",
     "exception": false,
     "start_time": "2024-03-21T10:12:52.558899",
     "status": "completed"
    },
    "tags": []
   },
   "source": [
    "# 4. Wrapping up everything"
   ]
  },
  {
   "cell_type": "markdown",
   "id": "72f269e6",
   "metadata": {
    "papermill": {
     "duration": 0.016189,
     "end_time": "2024-03-21T10:12:52.607504",
     "exception": false,
     "start_time": "2024-03-21T10:12:52.591315",
     "status": "completed"
    },
    "tags": []
   },
   "source": [
    "At this point, the next cell wraps all the functions into an `AIAssistant` class.\n"
   ]
  },
  {
   "cell_type": "markdown",
   "id": "fb3ef27c",
   "metadata": {
    "papermill": {
     "duration": 0.016369,
     "end_time": "2024-03-21T10:12:52.640691",
     "exception": false,
     "start_time": "2024-03-21T10:12:52.624322",
     "status": "completed"
    },
    "tags": []
   },
   "source": [
    "The `AIAssistant` class impersonates an AI assistant that interacts with users by providing answers based on a given knowledge base (basically a list of texts containing the knowledge).\n",
    "\n",
    "Upon initialization, the class loads an embedding model, indexes the knowledge base for efficient search, initializes a language model and tokenizer, and builds a searcher for similarity search using the SCANN library. The class includes functions to query the knowledge base, adjust the assistant's temperature (creativity), and define its answering style.\n",
    "\n",
    "- The `query` function generates and prints an answer to a user query by utilizing the `generate_summary_and_answer` function.\n",
    "- The `set_temperature` function allows adjusting the assistant's creativity level, while the `set_role` function defines the answering style of the AI assistant.\n",
    "\n",
    "This class wraps all together the functionality of an AI assistant that makes good use of embeddings, powerful language models such as Gemma, and similarity search to provide informative responses to user queries based on a predefined knowledge base.\n"
   ]
  },
  {
   "cell_type": "markdown",
   "id": "97ed376a",
   "metadata": {
    "papermill": {
     "duration": 0.016332,
     "end_time": "2024-03-21T10:12:52.673863",
     "exception": false,
     "start_time": "2024-03-21T10:12:52.657531",
     "status": "completed"
    },
    "tags": []
   },
   "source": [
    "A few notes about ScaNN. ScaNN is a library developed by Google Research that offers efficient and scalable nearest neighbor search capabilities. It provides advantages over other solutions by utilizing techniques like quantization and Anisotropic Hashing, which enhance search performance.\n",
    "\n",
    "Anisotropic Hashing is a method used in hashing techniques for multimodal retrieval that involves learning projection functions to produce dimensions with varying lengths or scales. This flexibility in scaling can be beneficial for capturing complex relationships and structures in high-dimensional data, offering improved retrieval performance in scenarios where isotropic methods may not be as effective. You can read everything about this method in the paper:\n",
    "\n",
    "Guo, Ruiqi, et al. \"Accelerating large-scale inference with anisotropic vector quantization.\" International Conference on Machine Learning. PMLR, 2020. ([Paper Link](https://arxiv.org/abs/1908.10396))\n",
    "\n",
    "or by browsing the code repository at [https://github.com/google-research/google-research/tree/master/scann](https://github.com/google-research/google-research/tree/master/scann)\n",
    "\n",
    "What is interesting to note is that in my solution I do not use the cosine distance but simply the dot product as suggested by this paper:\n",
    "\n",
    "Steck, Harald, Chaitanya Ekanadham, and Nathan Kallus. \"Is Cosine-Similarity of Embeddings Really About Similarity?.\" arXiv preprint arXiv:2403.05440 (2024). ([Paper Link](https://arxiv.org/html/2403.05440v1))\n",
    "\n",
    "And it works pretty well!\n"
   ]
  },
  {
   "cell_type": "code",
   "execution_count": 11,
   "id": "7b83a3f1",
   "metadata": {
    "execution": {
     "iopub.execute_input": "2024-03-21T10:12:52.710485Z",
     "iopub.status.busy": "2024-03-21T10:12:52.710177Z",
     "iopub.status.idle": "2024-03-21T10:12:52.724009Z",
     "shell.execute_reply": "2024-03-21T10:12:52.723122Z"
    },
    "papermill": {
     "duration": 0.035132,
     "end_time": "2024-03-21T10:12:52.726009",
     "exception": false,
     "start_time": "2024-03-21T10:12:52.690877",
     "status": "completed"
    },
    "tags": []
   },
   "outputs": [],
   "source": [
    "\n",
    "class AIAssistant():\n",
    "    \"\"\"An AI assistant that interacts with users by providing answers based on a provided knowledge base\"\"\"\n",
    "    \n",
    "    def __init__(self, gemma_model, embeddings_name=\"thenlper/gte-large\", temperature=0.4, role=\"expert\"):\n",
    "        \"\"\"Initialize the AI assistant.\"\"\"\n",
    "        # Initialize attributes\n",
    "        self.embeddings_name = embeddings_name\n",
    "        self.knowledge_base = []\n",
    "        self.temperature = temperature\n",
    "        self.role = role\n",
    "        \n",
    "        # Initialize Gemma model (it can be transformer-based or any other)\n",
    "        self.gemma_model = gemma_model\n",
    "        \n",
    "        # Load the embedding model\n",
    "        self.embedding_model = SentenceTransformer(self.embeddings_name)\n",
    "        \n",
    "    def store_knowledge_base(self, knowledge_base):\n",
    "        \"\"\"Store the knowledge base\"\"\"\n",
    "        self.knowledge_base=knowledge_base\n",
    "        \n",
    "    def learn_knowledge_base(self, knowledge_base):\n",
    "        \"\"\"Store and index the knowledge based to be used by the assistant\"\"\"\n",
    "        # Storing the knowledge base\n",
    "        self.store_knowledge_base(knowledge_base)\n",
    "        \n",
    "        # Load and index the knowledge base\n",
    "        print(\"Indexing and mapping the knowledge base:\")\n",
    "        embeddings = map2embeddings(self.knowledge_base, self.embedding_model)\n",
    "        self.embeddings = np.array(embeddings).astype(np.float32)\n",
    "        \n",
    "        # Instantiate the searcher for similarity search\n",
    "        self.index_embeddings()\n",
    "        \n",
    "    def index_embeddings(self):\n",
    "        \"\"\"Index the embeddings using ScaNN \"\"\"\n",
    "        self.searcher = (scann.scann_ops_pybind.builder(db=self.embeddings, num_neighbors=10, distance_measure=\"dot_product\")\n",
    "                 .tree(num_leaves=min(self.embeddings.shape[0] // 2, 1000), \n",
    "                       num_leaves_to_search=100, \n",
    "                       training_sample_size=self.embeddings.shape[0])\n",
    "                 .score_ah(2, anisotropic_quantization_threshold=0.2)\n",
    "                 .reorder(100)\n",
    "                 .build()\n",
    "           )\n",
    "        \n",
    "    def query(self, query):\n",
    "        \"\"\"Query the knowledge base of the AI assistant.\"\"\"\n",
    "        # Generate and print an answer to the query\n",
    "        answer = generate_summary_and_answer(query, \n",
    "                                             self.knowledge_base, \n",
    "                                             self.searcher, \n",
    "                                             self.embedding_model, \n",
    "                                             self.gemma_model,\n",
    "                                             temperature=self.temperature,\n",
    "                                             role=self.role)\n",
    "        print(answer)\n",
    "        \n",
    "    def set_temperature(self, temperature):\n",
    "        \"\"\"Set the temperature (creativity) of the AI assistant.\"\"\"\n",
    "        self.temperature = temperature\n",
    "        \n",
    "    def set_role(self, role):\n",
    "        \"\"\"Define the answering style of the AI assistant.\"\"\"\n",
    "        self.role = role\n",
    "        \n",
    "    def save_embeddings(self, filename=\"embeddings.npy\"):\n",
    "        \"\"\"Save the embeddings to disk\"\"\"\n",
    "        np.save(filename, self.embeddings)\n",
    "        \n",
    "    def load_embeddings(self, filename=\"embeddings.npy\"):\n",
    "        \"\"\"Load the embeddings from disk and index them\"\"\"\n",
    "        self.embeddings = np.load(filename)\n",
    "        # Re-instantiate the searcher\n",
    "        self.index_embeddings()"
   ]
  },
  {
   "cell_type": "markdown",
   "id": "563ce71b",
   "metadata": {
    "papermill": {
     "duration": 0.017675,
     "end_time": "2024-03-21T10:12:52.761557",
     "exception": false,
     "start_time": "2024-03-21T10:12:52.743882",
     "status": "completed"
    },
    "tags": []
   },
   "source": [
    "# 5. Providing the knowledge base from Wikipedia"
   ]
  },
  {
   "cell_type": "markdown",
   "id": "a1d3338d",
   "metadata": {
    "papermill": {
     "duration": 0.017665,
     "end_time": "2024-03-21T10:12:52.797393",
     "exception": false,
     "start_time": "2024-03-21T10:12:52.779728",
     "status": "completed"
    },
    "tags": []
   },
   "source": [
    "In order to provide a **knowledge base** for the AI Assistant to work confidently with data science questions, I decided to retrieve some information from Wikipedia."
   ]
  },
  {
   "cell_type": "markdown",
   "id": "2fab8ba6",
   "metadata": {
    "papermill": {
     "duration": 0.017514,
     "end_time": "2024-03-21T10:12:52.832499",
     "exception": false,
     "start_time": "2024-03-21T10:12:52.814985",
     "status": "completed"
    },
    "tags": []
   },
   "source": [
    "**Why Wikipedia?**\n",
    "\n",
    "Actually, Wikipedia provides a vast and diverse range of information on various topics, making it a rich source for context data. Also, its structured organization allows for easy extraction and processing, also thanks to the wikipediaapi interface.\n"
   ]
  },
  {
   "cell_type": "markdown",
   "id": "a3231d1f",
   "metadata": {
    "papermill": {
     "duration": 0.017453,
     "end_time": "2024-03-21T10:12:52.867859",
     "exception": false,
     "start_time": "2024-03-21T10:12:52.850406",
     "status": "completed"
    },
    "tags": []
   },
   "source": [
    "The following code, apart from the first two functions useful for cleaning the text from tags and formatting, extracts references, such as pages or other Wikipedia categories, using the `extract_wikipedia_pages` function. Then, the `get_wikipedia_pages` function takes care to crawl to all the pages and information related to some initial Wikipedia category or page.\n"
   ]
  },
  {
   "cell_type": "code",
   "execution_count": 12,
   "id": "4b33bbef",
   "metadata": {
    "execution": {
     "iopub.execute_input": "2024-03-21T10:12:52.903908Z",
     "iopub.status.busy": "2024-03-21T10:12:52.903410Z",
     "iopub.status.idle": "2024-03-21T10:12:52.909267Z",
     "shell.execute_reply": "2024-03-21T10:12:52.908420Z"
    },
    "papermill": {
     "duration": 0.02559,
     "end_time": "2024-03-21T10:12:52.911149",
     "exception": false,
     "start_time": "2024-03-21T10:12:52.885559",
     "status": "completed"
    },
    "tags": []
   },
   "outputs": [],
   "source": [
    "# Pre-compile the regular expression pattern for better performance\n",
    "BRACES_PATTERN = re.compile(r'\\{.*?\\}|\\}')\n",
    "\n",
    "def remove_braces_and_content(text):\n",
    "    \"\"\"Remove all occurrences of curly braces and their content from the given text\"\"\"\n",
    "    return BRACES_PATTERN.sub('', text)\n",
    "\n",
    "def clean_string(input_string):\n",
    "    \"\"\"Clean the input string.\"\"\"\n",
    "    \n",
    "    # Remove extra spaces by splitting the string by spaces and joining back together\n",
    "    cleaned_string = ' '.join(input_string.split())\n",
    "    \n",
    "    # Remove consecutive carriage return characters until there are no more consecutive occurrences\n",
    "    cleaned_string = re.sub(r'\\r+', '\\r', cleaned_string)\n",
    "    \n",
    "    # Remove all occurrences of curly braces and their content from the cleaned string\n",
    "    cleaned_string = remove_braces_and_content(cleaned_string)\n",
    "    \n",
    "    # Return the cleaned string\n",
    "    return cleaned_string"
   ]
  },
  {
   "cell_type": "code",
   "execution_count": 13,
   "id": "db91e3ca",
   "metadata": {
    "execution": {
     "iopub.execute_input": "2024-03-21T10:12:52.946338Z",
     "iopub.status.busy": "2024-03-21T10:12:52.946007Z",
     "iopub.status.idle": "2024-03-21T10:12:52.952781Z",
     "shell.execute_reply": "2024-03-21T10:12:52.952039Z"
    },
    "papermill": {
     "duration": 0.02675,
     "end_time": "2024-03-21T10:12:52.954763",
     "exception": false,
     "start_time": "2024-03-21T10:12:52.928013",
     "status": "completed"
    },
    "tags": []
   },
   "outputs": [],
   "source": [
    "def extract_wikipedia_pages(wiki_wiki, category_name):\n",
    "    \"\"\"Extract all references from a category on Wikipedia\"\"\"\n",
    "    \n",
    "    # Get the Wikipedia page corresponding to the provided category name\n",
    "    category = wiki_wiki.page(\"Category:\" + category_name)\n",
    "    \n",
    "    # Initialize an empty list to store page titles\n",
    "    pages = []\n",
    "    \n",
    "    # Check if the category exists\n",
    "    if category.exists():\n",
    "        # Iterate through each article in the category and append its title to the list\n",
    "        for article in category.categorymembers.values():\n",
    "            pages.append(article.title)\n",
    "    \n",
    "    # Return the list of page titles\n",
    "    return pages"
   ]
  },
  {
   "cell_type": "code",
   "execution_count": 14,
   "id": "378298b7",
   "metadata": {
    "execution": {
     "iopub.execute_input": "2024-03-21T10:12:52.990754Z",
     "iopub.status.busy": "2024-03-21T10:12:52.990480Z",
     "iopub.status.idle": "2024-03-21T10:12:53.002894Z",
     "shell.execute_reply": "2024-03-21T10:12:53.002059Z"
    },
    "papermill": {
     "duration": 0.032906,
     "end_time": "2024-03-21T10:12:53.004902",
     "exception": false,
     "start_time": "2024-03-21T10:12:52.971996",
     "status": "completed"
    },
    "tags": []
   },
   "outputs": [],
   "source": [
    "def get_wikipedia_pages(categories):\n",
    "    \"\"\"Retrieve Wikipedia pages from a list of categories and extract their content\"\"\"\n",
    "    \n",
    "    # Create a Wikipedia object\n",
    "    wiki_wiki = wikipediaapi.Wikipedia('Gemma AI Assistant (gemma@example.com)', 'en')\n",
    "    \n",
    "    # Initialize lists to store explored categories and Wikipedia pages\n",
    "    explored_categories = []\n",
    "    wikipedia_pages = []\n",
    "\n",
    "    # Iterate through each category\n",
    "    print(\"- Processing Wikipedia categories:\")\n",
    "    for category_name in categories:\n",
    "        print(f\"\\tExploring {category_name} on Wikipedia\")\n",
    "        \n",
    "        # Get the Wikipedia page corresponding to the category\n",
    "        category = wiki_wiki.page(\"Category:\" + category_name)\n",
    "        \n",
    "        # Extract Wikipedia pages from the category and extend the list\n",
    "        wikipedia_pages.extend(extract_wikipedia_pages(wiki_wiki, category_name))\n",
    "        \n",
    "        # Add the explored category to the list\n",
    "        explored_categories.append(category_name)\n",
    "\n",
    "    # Extract subcategories and remove duplicate categories\n",
    "    categories_to_explore = [item.replace(\"Category:\", \"\") for item in wikipedia_pages if \"Category:\" in item]\n",
    "    wikipedia_pages = list(set([item for item in wikipedia_pages if \"Category:\" not in item]))\n",
    "    \n",
    "    # Explore subcategories recursively\n",
    "    while categories_to_explore:\n",
    "        category_name = categories_to_explore.pop()\n",
    "        print(f\"\\tExploring {category_name} on Wikipedia\")\n",
    "        \n",
    "        # Extract more references from the subcategory\n",
    "        more_refs = extract_wikipedia_pages(wiki_wiki, category_name)\n",
    "\n",
    "        # Iterate through the references\n",
    "        for ref in more_refs:\n",
    "            # Check if the reference is a category\n",
    "            if \"Category:\" in ref:\n",
    "                new_category = ref.replace(\"Category:\", \"\")\n",
    "                # Add the new category to the explored categories list\n",
    "                if new_category not in explored_categories:\n",
    "                    explored_categories.append(new_category)\n",
    "            else:\n",
    "                # Add the reference to the Wikipedia pages list\n",
    "                if ref not in wikipedia_pages:\n",
    "                    wikipedia_pages.append(ref)\n",
    "\n",
    "    # Initialize a list to store extracted texts\n",
    "    extracted_texts = []\n",
    "    \n",
    "    # Iterate through each Wikipedia page\n",
    "    print(\"- Processing Wikipedia pages:\")\n",
    "    for page_title in tqdm(wikipedia_pages):\n",
    "        try:\n",
    "            # Make a request to the Wikipedia page\n",
    "            page = wiki_wiki.page(page_title)\n",
    "\n",
    "            # Check if the page summary does not contain certain keywords\n",
    "            if \"Biden\" not in page.summary and \"Trump\" not in page.summary:\n",
    "                # Append the page title and summary to the extracted texts list\n",
    "                if len(page.summary) > len(page.title):\n",
    "                    extracted_texts.append(page.title + \" : \" + clean_string(page.summary))\n",
    "\n",
    "                # Iterate through the sections in the page\n",
    "                for section in page.sections:\n",
    "                    # Append the page title and section text to the extracted texts list\n",
    "                    if len(section.text) > len(page.title):\n",
    "                        extracted_texts.append(page.title + \" : \" + clean_string(section.text))\n",
    "                        \n",
    "        except Exception as e:\n",
    "            print(f\"Error processing page {page.title}: {e}\")\n",
    "                    \n",
    "    # Return the extracted texts\n",
    "    return extracted_texts"
   ]
  },
  {
   "cell_type": "markdown",
   "id": "68e04f66",
   "metadata": {
    "papermill": {
     "duration": 0.017086,
     "end_time": "2024-03-21T10:12:53.039216",
     "exception": false,
     "start_time": "2024-03-21T10:12:53.022130",
     "status": "completed"
    },
    "tags": []
   },
   "source": [
    "To develop an AI assistant capable of answering questions about data science, I've chosen to begin with topics such as machine learning, data science, statistics, and deep learning artificial intelligence. As evident from the output, the range of topics it covers is truly impressive, even for a seasoned data scientist!\n"
   ]
  },
  {
   "cell_type": "code",
   "execution_count": 15,
   "id": "60d854ae",
   "metadata": {
    "execution": {
     "iopub.execute_input": "2024-03-21T10:12:53.074847Z",
     "iopub.status.busy": "2024-03-21T10:12:53.074576Z",
     "iopub.status.idle": "2024-03-21T10:22:32.759006Z",
     "shell.execute_reply": "2024-03-21T10:22:32.758056Z"
    },
    "papermill": {
     "duration": 579.704692,
     "end_time": "2024-03-21T10:22:32.761229",
     "exception": false,
     "start_time": "2024-03-21T10:12:53.056537",
     "status": "completed"
    },
    "tags": []
   },
   "outputs": [
    {
     "name": "stdout",
     "output_type": "stream",
     "text": [
      "- Processing Wikipedia categories:\n",
      "\tExploring Machine_learning on Wikipedia\n",
      "\tExploring Data_science on Wikipedia\n",
      "\tExploring Statistics on Wikipedia\n",
      "\tExploring Deep_learning on Wikipedia\n",
      "\tExploring Artificial_intelligence on Wikipedia\n",
      "\tExploring Artificial intelligence stubs on Wikipedia\n",
      "\tExploring Works created using artificial intelligence on Wikipedia\n",
      "\tExploring Virtual assistants on Wikipedia\n",
      "\tExploring Turing tests on Wikipedia\n",
      "\tExploring AI software on Wikipedia\n",
      "\tExploring Rule engines on Wikipedia\n",
      "\tExploring Artificial intelligence publications on Wikipedia\n",
      "\tExploring Philosophy of artificial intelligence on Wikipedia\n",
      "\tExploring Artificial intelligence people on Wikipedia\n",
      "\tExploring Open-source artificial intelligence on Wikipedia\n",
      "\tExploring Non-fiction books about Artificial intelligence on Wikipedia\n",
      "\tExploring Neural networks on Wikipedia\n",
      "\tExploring Multi-agent systems on Wikipedia\n",
      "\tExploring Mind–body problem on Wikipedia\n",
      "\tExploring Machine learning on Wikipedia\n",
      "\tExploring Artificial intelligence laboratories on Wikipedia\n",
      "\tExploring Knowledge representation on Wikipedia\n",
      "\tExploring History of artificial intelligence on Wikipedia\n",
      "\tExploring Generative artificial intelligence on Wikipedia\n",
      "\tExploring Game artificial intelligence on Wikipedia\n",
      "\tExploring Fuzzy logic on Wikipedia\n",
      "\tExploring Fiction about artificial intelligence on Wikipedia\n",
      "\tExploring Existential risk from artificial general intelligence on Wikipedia\n",
      "\tExploring Evolutionary computation on Wikipedia\n",
      "\tExploring Artificial intelligence entertainment on Wikipedia\n",
      "\tExploring Distributed artificial intelligence on Wikipedia\n",
      "\tExploring Signal processing conferences on Wikipedia\n",
      "\tExploring Artificial intelligence conferences on Wikipedia\n",
      "\tExploring Computer vision on Wikipedia\n",
      "\tExploring Artificial intelligence competitions on Wikipedia\n",
      "\tExploring AI companies on Wikipedia\n",
      "\tExploring Cognitive architecture on Wikipedia\n",
      "\tExploring Cloud robotics on Wikipedia\n",
      "\tExploring Chatbots on Wikipedia\n",
      "\tExploring Automated reasoning on Wikipedia\n",
      "\tExploring Artificial intelligence associations on Wikipedia\n",
      "\tExploring Artificial intelligence templates on Wikipedia\n",
      "\tExploring Artificial immune systems on Wikipedia\n",
      "\tExploring Artificial intelligence art on Wikipedia\n",
      "\tExploring Argument technology on Wikipedia\n",
      "\tExploring Applications of artificial intelligence on Wikipedia\n",
      "\tExploring Ambient intelligence on Wikipedia\n",
      "\tExploring AI accelerators on Wikipedia\n",
      "\tExploring Affective computing on Wikipedia\n",
      "\tExploring Text-to-image generation on Wikipedia\n",
      "\tExploring Google DeepMind on Wikipedia\n",
      "\tExploring Deepfakes on Wikipedia\n",
      "\tExploring Deep learning software on Wikipedia\n",
      "\tExploring Statistics stubs on Wikipedia\n",
      "\tExploring Statistical concepts on Wikipedia\n",
      "\tExploring Statistical software on Wikipedia\n",
      "\tExploring Statistical methods on Wikipedia\n",
      "\tExploring Statistical data on Wikipedia\n",
      "\tExploring Subfields of statistics on Wikipedia\n",
      "\tExploring Statistics profession and organizations on Wikipedia\n",
      "\tExploring Statistics-related lists on Wikipedia\n",
      "\tExploring Statisticians on Wikipedia\n",
      "\tExploring Data scientists on Wikipedia\n",
      "\tExploring Unsupervised learning on Wikipedia\n",
      "\tExploring Support vector machines on Wikipedia\n",
      "\tExploring Supervised learning on Wikipedia\n",
      "\tExploring Structured prediction on Wikipedia\n",
      "\tExploring Statistical natural language processing on Wikipedia\n",
      "\tExploring Semisupervised learning on Wikipedia\n",
      "\tExploring Natural language processing researchers on Wikipedia\n",
      "\tExploring Machine learning researchers on Wikipedia\n",
      "\tExploring Reinforcement learning on Wikipedia\n",
      "\tExploring Ontology learning (computer science) on Wikipedia\n",
      "\tExploring Markov models on Wikipedia\n",
      "\tExploring Machine learning task on Wikipedia\n",
      "\tExploring Machine learning algorithms on Wikipedia\n",
      "\tExploring Loss functions on Wikipedia\n",
      "\tExploring Log-linear models on Wikipedia\n",
      "\tExploring Learning in computer vision on Wikipedia\n",
      "\tExploring Latent variable models on Wikipedia\n",
      "\tExploring Kernel methods for machine learning on Wikipedia\n",
      "\tExploring Inductive logic programming on Wikipedia\n",
      "\tExploring Genetic programming on Wikipedia\n",
      "\tExploring Evolutionary algorithms on Wikipedia\n",
      "\tExploring Ensemble learning on Wikipedia\n",
      "\tExploring Dimension reduction on Wikipedia\n",
      "\tExploring Datasets in machine learning on Wikipedia\n",
      "\tExploring Data mining and machine learning software on Wikipedia\n",
      "\tExploring Signal processing conferences on Wikipedia\n",
      "\tExploring Artificial intelligence conferences on Wikipedia\n",
      "\tExploring Computational learning theory on Wikipedia\n",
      "\tExploring Cluster analysis on Wikipedia\n",
      "\tExploring Classification algorithms on Wikipedia\n",
      "\tExploring Blockmodeling on Wikipedia\n",
      "\tExploring Bayesian networks on Wikipedia\n",
      "\tExploring Artificial neural networks on Wikipedia\n",
      "\tExploring Applied machine learning on Wikipedia\n",
      "- Processing Wikipedia pages:\n"
     ]
    },
    {
     "name": "stderr",
     "output_type": "stream",
     "text": [
      "100%|██████████| 3439/3439 [09:10<00:00,  6.24it/s]"
     ]
    },
    {
     "name": "stdout",
     "output_type": "stream",
     "text": [
      "Found 16161 Wikipedia pages\n"
     ]
    },
    {
     "name": "stderr",
     "output_type": "stream",
     "text": [
      "\n"
     ]
    }
   ],
   "source": [
    "categories = [\"Machine_learning\", \"Data_science\", \"Statistics\", \"Deep_learning\", \"Artificial_intelligence\"]\n",
    "extracted_texts = get_wikipedia_pages(categories)\n",
    "print(\"Found\", len(extracted_texts), \"Wikipedia pages\")"
   ]
  },
  {
   "cell_type": "markdown",
   "id": "4b10c7a6",
   "metadata": {
    "papermill": {
     "duration": 0.288318,
     "end_time": "2024-03-21T10:22:33.339825",
     "exception": false,
     "start_time": "2024-03-21T10:22:33.051507",
     "status": "completed"
    },
    "tags": []
   },
   "source": [
    "As a last step, the extracted knowledge base is saved to disk for later usage"
   ]
  },
  {
   "cell_type": "code",
   "execution_count": 16,
   "id": "27a69536",
   "metadata": {
    "execution": {
     "iopub.execute_input": "2024-03-21T10:22:33.917533Z",
     "iopub.status.busy": "2024-03-21T10:22:33.916643Z",
     "iopub.status.idle": "2024-03-21T10:22:34.533634Z",
     "shell.execute_reply": "2024-03-21T10:22:34.532767Z"
    },
    "papermill": {
     "duration": 0.907034,
     "end_time": "2024-03-21T10:22:34.535568",
     "exception": false,
     "start_time": "2024-03-21T10:22:33.628534",
     "status": "completed"
    },
    "tags": []
   },
   "outputs": [
    {
     "data": {
      "text/html": [
       "<div>\n",
       "<style scoped>\n",
       "    .dataframe tbody tr th:only-of-type {\n",
       "        vertical-align: middle;\n",
       "    }\n",
       "\n",
       "    .dataframe tbody tr th {\n",
       "        vertical-align: top;\n",
       "    }\n",
       "\n",
       "    .dataframe thead th {\n",
       "        text-align: right;\n",
       "    }\n",
       "</style>\n",
       "<table border=\"1\" class=\"dataframe\">\n",
       "  <thead>\n",
       "    <tr style=\"text-align: right;\">\n",
       "      <th></th>\n",
       "      <th>wikipedia_text</th>\n",
       "    </tr>\n",
       "  </thead>\n",
       "  <tbody>\n",
       "    <tr>\n",
       "      <th>0</th>\n",
       "      <td>National Security Commission on Artificial Int...</td>\n",
       "    </tr>\n",
       "    <tr>\n",
       "      <th>1</th>\n",
       "      <td>National Security Commission on Artificial Int...</td>\n",
       "    </tr>\n",
       "    <tr>\n",
       "      <th>2</th>\n",
       "      <td>National Security Commission on Artificial Int...</td>\n",
       "    </tr>\n",
       "    <tr>\n",
       "      <th>3</th>\n",
       "      <td>Leakage (machine learning) : In statistics and...</td>\n",
       "    </tr>\n",
       "    <tr>\n",
       "      <th>4</th>\n",
       "      <td>Leakage (machine learning) : Leakage can occur...</td>\n",
       "    </tr>\n",
       "  </tbody>\n",
       "</table>\n",
       "</div>"
      ],
      "text/plain": [
       "                                      wikipedia_text\n",
       "0  National Security Commission on Artificial Int...\n",
       "1  National Security Commission on Artificial Int...\n",
       "2  National Security Commission on Artificial Int...\n",
       "3  Leakage (machine learning) : In statistics and...\n",
       "4  Leakage (machine learning) : Leakage can occur..."
      ]
     },
     "execution_count": 16,
     "metadata": {},
     "output_type": "execute_result"
    }
   ],
   "source": [
    "wikipedia_data_science_kb = pd.DataFrame(extracted_texts, columns=[\"wikipedia_text\"])\n",
    "wikipedia_data_science_kb.to_csv(\"wikipedia_data_science_kb.csv\", index=False)\n",
    "wikipedia_data_science_kb.head()"
   ]
  },
  {
   "cell_type": "markdown",
   "id": "cbf0935b",
   "metadata": {
    "papermill": {
     "duration": 0.286485,
     "end_time": "2024-03-21T10:22:35.150900",
     "exception": false,
     "start_time": "2024-03-21T10:22:34.864415",
     "status": "completed"
    },
    "tags": []
   },
   "source": [
    "# 6. A test run"
   ]
  },
  {
   "cell_type": "markdown",
   "id": "67152f55",
   "metadata": {
    "papermill": {
     "duration": 0.291138,
     "end_time": "2024-03-21T10:22:35.732965",
     "exception": false,
     "start_time": "2024-03-21T10:22:35.441827",
     "status": "completed"
    },
    "tags": []
   },
   "source": [
    "We are now ready to test our AI assistant!\n",
    "\n",
    "We instantiate it using the Gemma 2b-it and the gte-large embeddings and provide the extracts from Wikipedia as a knowledge base.\n",
    "\n",
    "The Generate Text Embedding (gte) model is a variant of the BERT model developed by Alibaba DAMO Academy. This embedding model is available in three versions (large, base, small) and is specifically designed for English text processing. In comparisons with other embedding models, the gte-large variant demonstrates superior performance in retrieval tasks, but it also needs more storage space for embedding vectors compared to competitors (we do not worry much about that because ScaNN is quite fast for this application).\n",
    "\n",
    "The instantiation will take a short while, then you can ask a few questions to the AI assistant.\n",
    "\n"
   ]
  },
  {
   "cell_type": "code",
   "execution_count": 17,
   "id": "35cd6557",
   "metadata": {
    "execution": {
     "iopub.execute_input": "2024-03-21T10:22:36.315955Z",
     "iopub.status.busy": "2024-03-21T10:22:36.315091Z",
     "iopub.status.idle": "2024-03-21T10:34:55.735510Z",
     "shell.execute_reply": "2024-03-21T10:34:55.734642Z"
    },
    "papermill": {
     "duration": 739.719533,
     "end_time": "2024-03-21T10:34:55.737763",
     "exception": false,
     "start_time": "2024-03-21T10:22:36.018230",
     "status": "completed"
    },
    "tags": []
   },
   "outputs": [
    {
     "name": "stdout",
     "output_type": "stream",
     "text": [
      "\n",
      "Initializing model:\n",
      "PyTorch version: 2.1.2 -- using cuda\n"
     ]
    },
    {
     "data": {
      "application/vnd.jupyter.widget-view+json": {
       "model_id": "37592fad40454bf78b2f7af718270a49",
       "version_major": 2,
       "version_minor": 0
      },
      "text/plain": [
       "Loading checkpoint shards:   0%|          | 0/2 [00:00<?, ?it/s]"
      ]
     },
     "metadata": {},
     "output_type": "display_data"
    },
    {
     "data": {
      "application/vnd.jupyter.widget-view+json": {
       "model_id": "4f817fe71dc447a69faedb8cf9982696",
       "version_major": 2,
       "version_minor": 0
      },
      "text/plain": [
       "modules.json:   0%|          | 0.00/385 [00:00<?, ?B/s]"
      ]
     },
     "metadata": {},
     "output_type": "display_data"
    },
    {
     "data": {
      "application/vnd.jupyter.widget-view+json": {
       "model_id": "9d2353a254324e8396129adccfec5dc3",
       "version_major": 2,
       "version_minor": 0
      },
      "text/plain": [
       "README.md:   0%|          | 0.00/67.9k [00:00<?, ?B/s]"
      ]
     },
     "metadata": {},
     "output_type": "display_data"
    },
    {
     "data": {
      "application/vnd.jupyter.widget-view+json": {
       "model_id": "cd7bfb4be844444190d6e55275ed04d6",
       "version_major": 2,
       "version_minor": 0
      },
      "text/plain": [
       "sentence_bert_config.json:   0%|          | 0.00/57.0 [00:00<?, ?B/s]"
      ]
     },
     "metadata": {},
     "output_type": "display_data"
    },
    {
     "data": {
      "application/vnd.jupyter.widget-view+json": {
       "model_id": "71cb3df7dd6b41558c3325a75430a0c7",
       "version_major": 2,
       "version_minor": 0
      },
      "text/plain": [
       "config.json:   0%|          | 0.00/619 [00:00<?, ?B/s]"
      ]
     },
     "metadata": {},
     "output_type": "display_data"
    },
    {
     "data": {
      "application/vnd.jupyter.widget-view+json": {
       "model_id": "a3f9fced78ab4d70b164238468de9894",
       "version_major": 2,
       "version_minor": 0
      },
      "text/plain": [
       "model.safetensors:   0%|          | 0.00/670M [00:00<?, ?B/s]"
      ]
     },
     "metadata": {},
     "output_type": "display_data"
    },
    {
     "data": {
      "application/vnd.jupyter.widget-view+json": {
       "model_id": "90084c9e3d5045c6877ce19e24e20310",
       "version_major": 2,
       "version_minor": 0
      },
      "text/plain": [
       "tokenizer_config.json:   0%|          | 0.00/342 [00:00<?, ?B/s]"
      ]
     },
     "metadata": {},
     "output_type": "display_data"
    },
    {
     "data": {
      "application/vnd.jupyter.widget-view+json": {
       "model_id": "e8c915adc665499cb6864de0b8f561f5",
       "version_major": 2,
       "version_minor": 0
      },
      "text/plain": [
       "vocab.txt:   0%|          | 0.00/232k [00:00<?, ?B/s]"
      ]
     },
     "metadata": {},
     "output_type": "display_data"
    },
    {
     "data": {
      "application/vnd.jupyter.widget-view+json": {
       "model_id": "4ffa8c800ae54579b86922c2123de592",
       "version_major": 2,
       "version_minor": 0
      },
      "text/plain": [
       "tokenizer.json:   0%|          | 0.00/712k [00:00<?, ?B/s]"
      ]
     },
     "metadata": {},
     "output_type": "display_data"
    },
    {
     "data": {
      "application/vnd.jupyter.widget-view+json": {
       "model_id": "baa7b772101846a39c8555071a93433d",
       "version_major": 2,
       "version_minor": 0
      },
      "text/plain": [
       "special_tokens_map.json:   0%|          | 0.00/125 [00:00<?, ?B/s]"
      ]
     },
     "metadata": {},
     "output_type": "display_data"
    },
    {
     "data": {
      "application/vnd.jupyter.widget-view+json": {
       "model_id": "7f8f51bcd50747159af172ef8bcb6027",
       "version_major": 2,
       "version_minor": 0
      },
      "text/plain": [
       "1_Pooling/config.json:   0%|          | 0.00/191 [00:00<?, ?B/s]"
      ]
     },
     "metadata": {},
     "output_type": "display_data"
    },
    {
     "name": "stdout",
     "output_type": "stream",
     "text": [
      "Indexing and mapping the knowledge base:\n",
      "Mapping 16161 pieces of information\n"
     ]
    },
    {
     "name": "stderr",
     "output_type": "stream",
     "text": [
      "100%|██████████| 16161/16161 [10:53<00:00, 24.72it/s]\n"
     ]
    }
   ],
   "source": [
    "# Initialize the name of the embeddings and model\n",
    "embeddings_name = \"thenlper/gte-large\"\n",
    "model_name = \"/kaggle/input/gemma/transformers/2b-it/1\"\n",
    "\n",
    "# Create an instance of AIAssistant with specified parameters\n",
    "gemma_ai_assistant = AIAssistant(gemma_model=GemmaHF(model_name), embeddings_name=embeddings_name)\n",
    "\n",
    "# Map the intended knowledge base to embeddings and index it\n",
    "gemma_ai_assistant.learn_knowledge_base(knowledge_base=extracted_texts)\n",
    "\n",
    "# Save the embeddings to disk (for later use)\n",
    "gemma_ai_assistant.save_embeddings()\n",
    "\n",
    "# Set the temperature (creativity) of the AI assistant and set the role\n",
    "gemma_ai_assistant.set_temperature(0.0)\n",
    "gemma_ai_assistant.set_role(\"data science expert whose explanations are useful, clear and complete\")"
   ]
  },
  {
   "cell_type": "markdown",
   "id": "03a09f61",
   "metadata": {
    "papermill": {
     "duration": 0.682445,
     "end_time": "2024-03-21T10:34:57.155396",
     "exception": false,
     "start_time": "2024-03-21T10:34:56.472951",
     "status": "completed"
    },
    "tags": []
   },
   "source": [
    "Let's start with a warm-up question: \"What is the difference between data science, machine learning, and artificial intelligence?\"\n"
   ]
  },
  {
   "cell_type": "code",
   "execution_count": 18,
   "id": "8d01c989",
   "metadata": {
    "execution": {
     "iopub.execute_input": "2024-03-21T10:34:58.591414Z",
     "iopub.status.busy": "2024-03-21T10:34:58.590642Z",
     "iopub.status.idle": "2024-03-21T10:35:32.779563Z",
     "shell.execute_reply": "2024-03-21T10:35:32.778674Z"
    },
    "papermill": {
     "duration": 35.626042,
     "end_time": "2024-03-21T10:35:33.460798",
     "exception": false,
     "start_time": "2024-03-21T10:34:57.834756",
     "status": "completed"
    },
    "tags": []
   },
   "outputs": [
    {
     "name": "stdout",
     "output_type": "stream",
     "text": [
      "Sure, here's the difference between data science, machine learning, and artificial intelligence:\n",
      "\n",
      "Data Science is an interdisciplinary field that focuses on extracting knowledge and insights from data in various forms, both structured and unstructured. It employs techniques and theories drawn from many fields within the context of mathematics, statistics, information science, and computer science.\n",
      "\n",
      "Machine Learning is a subfield of soft computing within computer science that explores the study and construction of algorithms that can learn from and make predictions on data. It uses techniques and theories drawn from many fields within the context of mathematics, statistics, information science, and computer science.\n",
      "\n",
      "Artificial Intelligence is a broader field of study that encompasses the study of reasoning, knowledge representation, planning, learning, natural language processing, perception, and support for robotics. It involves tasks such the development of algorithms and techniques that can mimic human intelligence.\n"
     ]
    }
   ],
   "source": [
    "gemma_ai_assistant.query(\"What is the difference between data science, machine learning, and artificial intelligence?\")"
   ]
  },
  {
   "cell_type": "markdown",
   "id": "a6a68bb7",
   "metadata": {
    "papermill": {
     "duration": 0.675409,
     "end_time": "2024-03-21T10:35:34.810016",
     "exception": false,
     "start_time": "2024-03-21T10:35:34.134607",
     "status": "completed"
    },
    "tags": []
   },
   "source": [
    "Now a more complicated question, that you may also encounter in a data science interview!\n"
   ]
  },
  {
   "cell_type": "code",
   "execution_count": 19,
   "id": "c6eb456a",
   "metadata": {
    "execution": {
     "iopub.execute_input": "2024-03-21T10:35:36.221465Z",
     "iopub.status.busy": "2024-03-21T10:35:36.221075Z",
     "iopub.status.idle": "2024-03-21T10:36:14.873699Z",
     "shell.execute_reply": "2024-03-21T10:36:14.872756Z"
    },
    "papermill": {
     "duration": 40.077062,
     "end_time": "2024-03-21T10:36:15.624619",
     "exception": false,
     "start_time": "2024-03-21T10:35:35.547557",
     "status": "completed"
    },
    "tags": []
   },
   "outputs": [
    {
     "name": "stdout",
     "output_type": "stream",
     "text": [
      "Sure, here's an explanation of how linear regression works:\n",
      "\n",
      "Linear regression is a statistical method used to predict a dependent variable based on one or more independent variables. It is a simple but powerful technique that can be used to model a wide range of relationships between the dependent and independent variables.\n",
      "\n",
      "The basic idea behind linear regression is that the dependent variable can be expressed as a linear function of the independent variables. This means that the dependent variable can be represented by a straight line.\n",
      "\n",
      "The linear predictor function is a function that relates the independent variables to the dependent variable. The weights of the independent variables are chosen to optimize the relationship between the prediction and the criterion.\n",
      "\n",
      "The process of linear regression involves the following steps:\n",
      "\n",
      "1. Define the linear predictor function.\n",
      "2. Choose a regression method.\n",
      "3. Fit the model to the data.\n",
      "4. Evaluate the model's performance.\n",
      "\n",
      "The linear predictor function is a function that expresses the relationship between the dependent and independent variables in a linear equation. The coefficients of the independent variables in this equation represent the weights of the variables in the linear predictor function.\n",
      "\n",
      "The regression method is chosen based on the data and the research question. There are many different regression methods available, each with its own strengths and weaknesses.\n",
      "\n",
      "Once the linear predictor function and regression method have been chosen, the model is fitted to the data. This process involves finding the values of the coefficients that minimize the sum of the squared errors between the predicted values and the actual values.\n",
      "\n",
      "The model's performance is then evaluated to determine how well it fits the data. There are many different metrics that can be used to evaluate model performance, including mean squared error (MSE), root mean squared error (RMSE), and adjusted R-squared.\n",
      "\n",
      "If the model's performance is satisfactory, it can be used to make predictions about the dependent variable based on the independent variables.\n"
     ]
    }
   ],
   "source": [
    "gemma_ai_assistant.query(\"Explain how linear regression works\")"
   ]
  },
  {
   "cell_type": "markdown",
   "id": "6f4f3748",
   "metadata": {
    "papermill": {
     "duration": 0.674696,
     "end_time": "2024-03-21T10:36:16.994592",
     "exception": false,
     "start_time": "2024-03-21T10:36:16.319896",
     "status": "completed"
    },
    "tags": []
   },
   "source": [
    "Let's ask for more complex methods and algorithms, such as decision trees.\n"
   ]
  },
  {
   "cell_type": "code",
   "execution_count": 20,
   "id": "a8874b06",
   "metadata": {
    "execution": {
     "iopub.execute_input": "2024-03-21T10:36:18.430579Z",
     "iopub.status.busy": "2024-03-21T10:36:18.429744Z",
     "iopub.status.idle": "2024-03-21T10:36:53.227701Z",
     "shell.execute_reply": "2024-03-21T10:36:53.226785Z"
    },
    "papermill": {
     "duration": 36.217801,
     "end_time": "2024-03-21T10:36:53.920237",
     "exception": false,
     "start_time": "2024-03-21T10:36:17.702436",
     "status": "completed"
    },
    "tags": []
   },
   "outputs": [
    {
     "name": "stdout",
     "output_type": "stream",
     "text": [
      "Sure, here's a summary of the context:\n",
      "\n",
      "Decision Tree Learning is a supervised machine learning approach used to predict the value of a target variable based on several input variables.\n",
      "\n",
      "Types of Decision Trees:\n",
      "\n",
      "* Classification Tree (CART): Predicts the class of an instance based on the most prominent features.\n",
      "* Regression Tree (CRT): Predicts a real-valued value of an instance based on the most prominent features.\n",
      "\n",
      "Key Concepts:\n",
      "\n",
      "* Tree Structure: A tree in which each internal node represents a feature, and branches represent combinations of features.\n",
      "* Splitting Rules: Criteria used to split the data at each node.\n",
      "* Metrics for Splitting: Measures the homogeneity of the target variable within the subsets.\n",
      "* Ensemble Methods: Combine multiple decision trees to improve accuracy and interpretability.\n",
      "\n",
      "Applications of Decision Tree Learning:\n",
      "\n",
      "* Classification: Predicting the class of an instance.\n",
      "* Regression: Predicting a real-valued value of an instance.\n",
      "\n",
      "Notable Decision Tree Algorithms:\n",
      "\n",
      "* ID3\n",
      "* C4.5\n",
      "* CART\n",
      "* Chi-square Automatic Interaction Detection (CHAID)\n",
      "* Random Forest\n",
      "* Bootstrap Aggregated Trees (BAGging)\n",
      "* Decision List\n"
     ]
    }
   ],
   "source": [
    "gemma_ai_assistant.query(\"What are decision trees, and how do they work in machine learning?\")"
   ]
  },
  {
   "cell_type": "markdown",
   "id": "e8d32886",
   "metadata": {
    "papermill": {
     "duration": 0.740928,
     "end_time": "2024-03-21T10:36:55.338002",
     "exception": false,
     "start_time": "2024-03-21T10:36:54.597074",
     "status": "completed"
    },
    "tags": []
   },
   "source": [
    "The next question, about cross-validation, is a return to fundamentals."
   ]
  },
  {
   "cell_type": "code",
   "execution_count": 21,
   "id": "1f21cd95",
   "metadata": {
    "execution": {
     "iopub.execute_input": "2024-03-21T10:36:56.786556Z",
     "iopub.status.busy": "2024-03-21T10:36:56.786228Z",
     "iopub.status.idle": "2024-03-21T10:37:12.819534Z",
     "shell.execute_reply": "2024-03-21T10:37:12.818550Z"
    },
    "papermill": {
     "duration": 16.779742,
     "end_time": "2024-03-21T10:37:12.821740",
     "exception": false,
     "start_time": "2024-03-21T10:36:56.041998",
     "status": "completed"
    },
    "tags": []
   },
   "outputs": [
    {
     "name": "stdout",
     "output_type": "stream",
     "text": [
      "Cross-validation is a statistical technique used in machine learning to assess how well a predictive model will generalize to an independent data set. It involves resampling and sample splitting methods that use different portions of the data to test and train a model on different iterations. This allows the model to be evaluated under different conditions and to identify potential overfitting or underfitting issues. Cross-validation can be used for both model selection and hyperparameter tuning.\n"
     ]
    }
   ],
   "source": [
    "gemma_ai_assistant.query(\"What is cross-validation, and why is it used in machine learning?\")"
   ]
  },
  {
   "cell_type": "markdown",
   "id": "c95fbe7a",
   "metadata": {
    "papermill": {
     "duration": 0.689969,
     "end_time": "2024-03-21T10:37:14.195292",
     "exception": false,
     "start_time": "2024-03-21T10:37:13.505323",
     "status": "completed"
    },
    "tags": []
   },
   "source": [
    "Finally, a tricky question on regularization. How will the AI Assistant handle it?"
   ]
  },
  {
   "cell_type": "code",
   "execution_count": 22,
   "id": "2687c339",
   "metadata": {
    "execution": {
     "iopub.execute_input": "2024-03-21T10:37:15.656343Z",
     "iopub.status.busy": "2024-03-21T10:37:15.655431Z",
     "iopub.status.idle": "2024-03-21T10:37:51.019046Z",
     "shell.execute_reply": "2024-03-21T10:37:51.018141Z"
    },
    "papermill": {
     "duration": 36.809262,
     "end_time": "2024-03-21T10:37:51.716698",
     "exception": false,
     "start_time": "2024-03-21T10:37:14.907436",
     "status": "completed"
    },
    "tags": []
   },
   "outputs": [
    {
     "name": "stdout",
     "output_type": "stream",
     "text": [
      "Regularization is a process of introducing additional information into a machine learning model to prevent overfitting. Overfitting occurs when a model becomes too closely fit to the training data, leading to poor performance on unseen data. Regularization introduces a penalty term that penalizes complex functions, forcing the model to be simpler and more generalizable.\n",
      "\n",
      "Regularization has several important benefits for preventing overfitting:\n",
      "\n",
      "- Reduces variance: By penalizing complex functions, regularization reduces the variance of the model's predictions, leading to improved generalization performance.\n",
      "- Improves generalization ability: Regularization forces the model to be more generalizable, allowing it to perform well on unseen data.\n",
      "- Reduces bias-variance tradeoff: Regularization helps to balance the bias and variance of the model, leading to a more accurate and robust model.\n",
      "\n",
      "There are various regularization techniques in machine learning, including:\n",
      "\n",
      "- L1 regularization (Lasso): Minimizes the sum of the absolute values of the model's weights.\n",
      "- L2 regularization (Ridge): Minimizes the squared value of the model's weights.\n",
      "- Tikhonov regularization: Minimizes a combination of the L1 and L2 norms of the model's weights.\n"
     ]
    }
   ],
   "source": [
    "gemma_ai_assistant.query(\"Explain the concept of regularization and its importance in preventing overfitting in machine learning models\")"
   ]
  },
  {
   "cell_type": "markdown",
   "id": "a3ef8bf3",
   "metadata": {
    "papermill": {
     "duration": 0.744815,
     "end_time": "2024-03-21T10:37:53.159316",
     "exception": false,
     "start_time": "2024-03-21T10:37:52.414501",
     "status": "completed"
    },
    "tags": []
   },
   "source": [
    "# 7. Preparing for deploying the model"
   ]
  },
  {
   "cell_type": "markdown",
   "id": "e38711f7",
   "metadata": {
    "papermill": {
     "duration": 0.734702,
     "end_time": "2024-03-21T10:37:54.574202",
     "exception": false,
     "start_time": "2024-03-21T10:37:53.839500",
     "status": "completed"
    },
    "tags": []
   },
   "source": [
    "In order to deploy the model, you just need the files that we saved and a copy of the functions and classes that we used in this notebook. The procedure is the same, although you don't need to embed again the knowledge base, you just reload the previously calcualted embeddings. However, the previously seen code works speedly with a GPU available."
   ]
  },
  {
   "cell_type": "markdown",
   "id": "4c6d9b4a",
   "metadata": {
    "papermill": {
     "duration": 0.67967,
     "end_time": "2024-03-21T10:37:55.931223",
     "exception": false,
     "start_time": "2024-03-21T10:37:55.251553",
     "status": "completed"
    },
    "tags": []
   },
   "source": [
    "If you actually have access only with CPU machine at the inference phase, you can leverage the C++ version of Gemma, which, based on 8-bit switched floating point compressed weights, can offer an adequate speed of text processing. I take the compiled version from another notebook (see https://www.kaggle.com/code/lucamassaron/gemma-cpp for more details on the compiling procedure) from where I copy the Gemma C++ executable. I also allow the exacutable to be executed and install Google SentencePiece, whose libraries are necessary for the executable to work (in particular the libsentencepiece.so library)."
   ]
  },
  {
   "cell_type": "code",
   "execution_count": 23,
   "id": "c78bf620",
   "metadata": {
    "execution": {
     "iopub.execute_input": "2024-03-21T10:37:57.356816Z",
     "iopub.status.busy": "2024-03-21T10:37:57.356373Z",
     "iopub.status.idle": "2024-03-21T10:40:41.582523Z",
     "shell.execute_reply": "2024-03-21T10:40:41.581437Z"
    },
    "papermill": {
     "duration": 164.971103,
     "end_time": "2024-03-21T10:40:41.584815",
     "exception": false,
     "start_time": "2024-03-21T10:37:56.613712",
     "status": "completed"
    },
    "tags": []
   },
   "outputs": [
    {
     "name": "stdout",
     "output_type": "stream",
     "text": [
      "Retrieving notices: ...working... done\r\n",
      "Collecting package metadata (current_repodata.json): ...working... WARNING conda.models.version:get_matcher(556): Using .* with relational operator is superfluous and deprecated and will be removed in a future version of conda. Your spec was 1.7.1.*, but conda is ignoring the .* and treating it as 1.7.1\r\n",
      "done\r\n",
      "Solving environment: ...working... done\r\n",
      "\r\n",
      "## Package Plan ##\r\n",
      "\r\n",
      "  environment location: /opt/conda\r\n",
      "\r\n",
      "  added / updated specs:\r\n",
      "    - sentencepiece\r\n",
      "\r\n",
      "\r\n",
      "The following packages will be downloaded:\r\n",
      "\r\n",
      "    package                    |            build\r\n",
      "    ---------------------------|-----------------\r\n",
      "    openssl-3.2.1              |       hd590300_1         2.7 MB  conda-forge\r\n",
      "    sentencepiece-0.1.99       |  py310hdb19cb5_0         4.7 MB\r\n",
      "    ------------------------------------------------------------\r\n",
      "                                           Total:         7.4 MB\r\n",
      "\r\n",
      "The following NEW packages will be INSTALLED:\r\n",
      "\r\n",
      "  sentencepiece      pkgs/main/linux-64::sentencepiece-0.1.99-py310hdb19cb5_0 \r\n",
      "\r\n",
      "The following packages will be UPDATED:\r\n",
      "\r\n",
      "  openssl                                  3.2.1-hd590300_0 --> 3.2.1-hd590300_1 \r\n",
      "\r\n",
      "\r\n",
      "Preparing transaction: ...working... done\r\n",
      "Verifying transaction: ...working... done\r\n",
      "Executing transaction: ...working... done\r\n"
     ]
    }
   ],
   "source": [
    "!cp -r /kaggle/input/gemma-cpp/gemma_cpp /kaggle/working/gemma_cpp # Copy compiled Gemma C++\n",
    "!chmod +x ./gemma_cpp/gemma # Make Gemma C++ executable\n",
    "!conda install -q -c conda-forge sentencepiece -y # Install Google SentencePiece (https://github.com/google/sentencepiece)"
   ]
  },
  {
   "cell_type": "markdown",
   "id": "3ff4e46d",
   "metadata": {
    "papermill": {
     "duration": 0.674903,
     "end_time": "2024-03-21T10:40:43.011839",
     "exception": false,
     "start_time": "2024-03-21T10:40:42.336936",
     "status": "completed"
    },
    "tags": []
   },
   "source": [
    "The following Python code defines a class named `GemmaCPP`, which works as a wrapper for interacting with the C++ implementation of Gemma (https://github.com/google/gemma.cpp). \n",
    "\n",
    "The class has an initializer method that takes four parameters: `gemma_cpp`, `tokenizer`, `compressed_weights`, and `model`. These parameters are used to initialize attributes of the class instance with the same names which will later serve for interacting with the commands for the C++ compiled Gemma. Additionally, the class contains a method named `generate_text`, which takes a prompt as input along with optional args and kwargs (for compatibility with other Gemma implementations). Within this method, a shell command is constructed using the provided prompt and other parameters, formatted appropriately to be executed with the Gemma C++ executable. \n",
    "\n",
    "The `subprocess.Popen` function is then called to execute the shell command, capturing the standard output (stdout) and standard error (stderr) streams. The stdout data is decoded from bytes to a string, and if there is any error message in stderr, it is printed out. Finally, the method returns the output text wrapped in a list. This code facilitates the generation of text using Gemma's C++ implementation via Python, allowing the integration between the two languages."
   ]
  },
  {
   "cell_type": "code",
   "execution_count": 24,
   "id": "9144d264",
   "metadata": {
    "execution": {
     "iopub.execute_input": "2024-03-21T10:40:44.386404Z",
     "iopub.status.busy": "2024-03-21T10:40:44.385969Z",
     "iopub.status.idle": "2024-03-21T10:40:44.400255Z",
     "shell.execute_reply": "2024-03-21T10:40:44.399338Z"
    },
    "papermill": {
     "duration": 0.710482,
     "end_time": "2024-03-21T10:40:44.402306",
     "exception": false,
     "start_time": "2024-03-21T10:40:43.691824",
     "status": "completed"
    },
    "tags": []
   },
   "outputs": [],
   "source": [
    "import subprocess\n",
    "import sys\n",
    "import re\n",
    "\n",
    "class GemmaCPP():\n",
    "    \"\"\"Wrapper for the C++ implementation of Gemma\"\"\"\n",
    "    \n",
    "    def __init__(self, gemma_cpp, tokenizer, compressed_weights, model):\n",
    "        self.gemma_cpp = gemma_cpp\n",
    "        self.tokenizer = tokenizer\n",
    "        self.compressed_weights = compressed_weights\n",
    "        self.model = model\n",
    "        \n",
    "    def eliminate_long_dots(self, input_string):\n",
    "        \"\"\"Eliminate long sequences of dots from the input string\"\"\"\n",
    "        # Define a regular expression pattern to match sequences of 2 or more dots\n",
    "        pattern = r'\\.{2,}'\n",
    "\n",
    "        # Replace all occurrences of the pattern with a space\n",
    "        output_string = re.sub(pattern, ' ', input_string)\n",
    "\n",
    "        return output_string.strip()\n",
    "    \n",
    "    def beautify_string(self, input_string):\n",
    "        \"\"\"Clean the input string by removing non-letter characters at the beginning\n",
    "           and isolated letters at the end after multiple spaces\"\"\"\n",
    "        # Remove non-letter characters at the beginning of the string\n",
    "        output_string = re.sub(r'^[^a-zA-Z]+', '', input_string.strip())\n",
    "\n",
    "        # Remove isolated letters at the end of the output string after multiple spaces\n",
    "        output_string = re.sub(r'\\s{3,}(.+)\\Z', '', output_string.strip())\n",
    "\n",
    "        return output_string\n",
    "        \n",
    "    def generate_text(self, prompt, *args, **kwargs):\n",
    "        \"\"\"Generate text using the cpp tokenizer and model\"\"\"\n",
    "\n",
    "        # Define the shell command\n",
    "        prompt = prompt.replace('\"', '').replace(\"'\", \"\")\n",
    "        shell_command = f'echo \"{prompt}\" | {gemma_cpp} -- --tokenizer {tokenizer} --compressed_weights {compressed_weights} --model {model} --verbosity 0'\n",
    "\n",
    "        # Execute the shell command and redirect stdout to the Python script's stdout\n",
    "        process = subprocess.Popen(shell_command, shell=True, stdout=subprocess.PIPE, stderr=subprocess.STDOUT)\n",
    "\n",
    "        output_text = \"\"\n",
    "        reading_block = \"[ Reading prompt ]\"\n",
    "        \n",
    "        # Communicate with the process and capture stdout \n",
    "        for k, char in enumerate( iter(lambda: process.stdout.read(1), b'') ):\n",
    "            single_char = char.decode(sys.stdout.encoding)\n",
    "            output_text += single_char\n",
    "            if len(output_text) % 20 == 0:\n",
    "                count_reading_blocks = output_text.count(reading_block)\n",
    "                if count_reading_blocks > 1:\n",
    "                    break\n",
    "                    \n",
    "        # Remove long sequences of dots and the reading block, beautify the string\n",
    "        output_text = output_text.replace(reading_block, \"\")\n",
    "        output_text = self.eliminate_long_dots(output_text)\n",
    "        output_text = self.beautify_string(output_text)\n",
    "        output_text = prompt + output_text\n",
    "        \n",
    "        # Return output text\n",
    "        return [output_text]"
   ]
  },
  {
   "cell_type": "markdown",
   "id": "929d066f",
   "metadata": {
    "papermill": {
     "duration": 0.674026,
     "end_time": "2024-03-21T10:40:45.815990",
     "exception": false,
     "start_time": "2024-03-21T10:40:45.141964",
     "status": "completed"
    },
    "tags": []
   },
   "source": [
    "Now that everything is ready, I can reinstantiate a Gemma AI Assistant based on Gemma C++ and the knowledge base previously extractred and processed."
   ]
  },
  {
   "cell_type": "code",
   "execution_count": 25,
   "id": "3793f4a3",
   "metadata": {
    "execution": {
     "iopub.execute_input": "2024-03-21T10:40:47.255969Z",
     "iopub.status.busy": "2024-03-21T10:40:47.255260Z",
     "iopub.status.idle": "2024-03-21T10:41:02.906857Z",
     "shell.execute_reply": "2024-03-21T10:41:02.905774Z"
    },
    "papermill": {
     "duration": 16.391945,
     "end_time": "2024-03-21T10:41:02.909281",
     "exception": false,
     "start_time": "2024-03-21T10:40:46.517336",
     "status": "completed"
    },
    "tags": []
   },
   "outputs": [],
   "source": [
    "embeddings_name = \"thenlper/gte-large\"\n",
    "gemma_cpp = \"./gemma_cpp/gemma\"\n",
    "tokenizer = \"/kaggle/input/gemma/gemmacpp/2b-it-sfp/1/tokenizer.spm\"\n",
    "compressed_weights = \"/kaggle/input/gemma/gemmacpp/2b-it-sfp/1/2b-it-sfp.sbs\"\n",
    "model = \"2b-it\"\n",
    "\n",
    "# Create an instance of the class AIAssistant based on Gemma C++\n",
    "gemma_ai_assistant = AIAssistant(\n",
    "    gemma_model=GemmaCPP(gemma_cpp, tokenizer, compressed_weights, model),\n",
    "    embeddings_name=embeddings_name\n",
    ")\n",
    "\n",
    "# Loading the previously prepared knowledge base and embeddings\n",
    "wikipedia_data_science_kb = pd.read_csv(\"wikipedia_data_science_kb.csv\")\n",
    "knowledge_base = wikipedia_data_science_kb.wikipedia_text.tolist()\n",
    "\n",
    "# Uploading the knowledge base and embeddings to the AI assistant\n",
    "gemma_ai_assistant.store_knowledge_base(knowledge_base=knowledge_base)\n",
    "gemma_ai_assistant.load_embeddings(filename=\"embeddings.npy\")"
   ]
  },
  {
   "cell_type": "markdown",
   "id": "5473f81c",
   "metadata": {
    "papermill": {
     "duration": 0.671446,
     "end_time": "2024-03-21T10:41:04.267952",
     "exception": false,
     "start_time": "2024-03-21T10:41:03.596506",
     "status": "completed"
    },
    "tags": []
   },
   "source": [
    "Let's try a new query on machine learning topics and see how it takes to get an answer when only CPUs (Kaggle Notebooks have 4 cores) are working:"
   ]
  },
  {
   "cell_type": "code",
   "execution_count": 26,
   "id": "ba7b6c1a",
   "metadata": {
    "execution": {
     "iopub.execute_input": "2024-03-21T10:41:05.676739Z",
     "iopub.status.busy": "2024-03-21T10:41:05.676384Z",
     "iopub.status.idle": "2024-03-21T10:48:36.617256Z",
     "shell.execute_reply": "2024-03-21T10:48:36.616239Z"
    },
    "papermill": {
     "duration": 452.667258,
     "end_time": "2024-03-21T10:48:37.662270",
     "exception": false,
     "start_time": "2024-03-21T10:41:04.995012",
     "status": "completed"
    },
    "tags": []
   },
   "outputs": [
    {
     "name": "stdout",
     "output_type": "stream",
     "text": [
      "Gradient Boosting:\n",
      "\n",
      "* Uses a sequential ensemble of weak learners to iteratively improve the overall model.\n",
      "* Each weak learner is trained on a subset of the training data and makes a local decision.\n",
      "* The weak learners are then combined in a weighted manner to form the final model.\n",
      "* Gradient boosting is easy to interpret and can be used to create complex models.\n",
      "\n",
      "Random Forests:\n",
      "\n",
      "* Uses an ensemble of decision trees to iteratively improve the overall model.\n",
      "* Each decision tree is trained on a subset of the training data and makes a local decision.\n",
      "* The decision trees are then combined in a way that reduces the variance of the final model.\n",
      "* Random forests are more robust to overfitting than gradient boosting.\n",
      "\n",
      "Here are some of the key differences between gradient boosting and random forests:\n",
      "\n",
      "| Feature | Gradient Boosting | Random Forests |\n",
      "|---|---|---|\n",
      "| Training process | Iterative, weak learners are trained on a subset of the training data | Iterative, decision trees are trained on a subset of the training data |\n",
      "| Model combination | Weighted combination of weak learners | Averaging of the predictions from the decision trees |\n",
      "| Interpretability | Easy to interpret | Less easy to interpret |\n",
      "| Robustness to overfitting | Less robust | More robust |\n",
      "\n",
      "In general, gradient boosting is a good choice for problems where you want an easy-to-interpret model that can be used for both prediction and classification. Random forests are a good choice for problems where you want a robust model that is less likely to overfit.\n"
     ]
    }
   ],
   "source": [
    "gemma_ai_assistant.query(\"In short, what are the key differences between gradient boosting and random forests?\")"
   ]
  },
  {
   "cell_type": "markdown",
   "id": "7eb47d5d",
   "metadata": {
    "papermill": {
     "duration": 1.046626,
     "end_time": "2024-03-21T10:48:39.818074",
     "exception": false,
     "start_time": "2024-03-21T10:48:38.771448",
     "status": "completed"
    },
    "tags": []
   },
   "source": [
    "# 8. Conclusions"
   ]
  },
  {
   "cell_type": "markdown",
   "id": "d57100b3",
   "metadata": {
    "papermill": {
     "duration": 1.073697,
     "end_time": "2024-03-21T10:48:42.042474",
     "exception": false,
     "start_time": "2024-03-21T10:48:40.968777",
     "status": "completed"
    },
    "tags": []
   },
   "source": [
    "It seems that the AI Assistant is working fine and promptly answering questions in a correct and usable way. Using the same approach, the same code could also be used for other tasks of this competition such as:\n",
    "\n",
    "- Answering common questions about the Python programming language\n",
    "- Explaining or teaching concepts from Kaggle competition solution write-ups\n",
    "- Answering common questions about the Kaggle platform\n",
    "\n",
    "All you need is to prepare the context data by extraction from a website, a dataset, or other sources such as the meta-Kaggle meta.\n",
    "\n",
    "Enjoy your new AI assistant powered by Gemma 2b-it :-)\n"
   ]
  }
 ],
 "metadata": {
  "kaggle": {
   "accelerator": "gpu",
   "dataSources": [
    {
     "databundleVersionId": 7669720,
     "sourceId": 64148,
     "sourceType": "competition"
    },
    {
     "sourceId": 167793497,
     "sourceType": "kernelVersion"
    },
    {
     "isSourceIdPinned": true,
     "modelInstanceId": 8385,
     "sourceId": 10417,
     "sourceType": "modelInstanceVersion"
    },
    {
     "modelInstanceId": 8318,
     "sourceId": 11264,
     "sourceType": "modelInstanceVersion"
    }
   ],
   "dockerImageVersionId": 30664,
   "isGpuEnabled": true,
   "isInternetEnabled": true,
   "language": "python",
   "sourceType": "notebook"
  },
  "kernelspec": {
   "display_name": "Python 3",
   "language": "python",
   "name": "python3"
  },
  "language_info": {
   "codemirror_mode": {
    "name": "ipython",
    "version": 3
   },
   "file_extension": ".py",
   "mimetype": "text/x-python",
   "name": "python",
   "nbconvert_exporter": "python",
   "pygments_lexer": "ipython3",
   "version": "3.10.13"
  },
  "papermill": {
   "default_parameters": {},
   "duration": 2330.882132,
   "end_time": "2024-03-21T10:48:45.609493",
   "environment_variables": {},
   "exception": null,
   "input_path": "__notebook__.ipynb",
   "output_path": "__notebook__.ipynb",
   "parameters": {},
   "start_time": "2024-03-21T10:09:54.727361",
   "version": "2.5.0"
  },
  "widgets": {
   "application/vnd.jupyter.widget-state+json": {
    "state": {
     "0428d78fb4d7483d8eed1c264d7aae6e": {
      "model_module": "@jupyter-widgets/controls",
      "model_module_version": "1.5.0",
      "model_name": "DescriptionStyleModel",
      "state": {
       "_model_module": "@jupyter-widgets/controls",
       "_model_module_version": "1.5.0",
       "_model_name": "DescriptionStyleModel",
       "_view_count": null,
       "_view_module": "@jupyter-widgets/base",
       "_view_module_version": "1.2.0",
       "_view_name": "StyleView",
       "description_width": ""
      }
     },
     "044f65867d8b474dab65d683b0596788": {
      "model_module": "@jupyter-widgets/controls",
      "model_module_version": "1.5.0",
      "model_name": "FloatProgressModel",
      "state": {
       "_dom_classes": [],
       "_model_module": "@jupyter-widgets/controls",
       "_model_module_version": "1.5.0",
       "_model_name": "FloatProgressModel",
       "_view_count": null,
       "_view_module": "@jupyter-widgets/controls",
       "_view_module_version": "1.5.0",
       "_view_name": "ProgressView",
       "bar_style": "success",
       "description": "",
       "description_tooltip": null,
       "layout": "IPY_MODEL_7f2dc10faf704bebb8bc0966b22352f9",
       "max": 619.0,
       "min": 0.0,
       "orientation": "horizontal",
       "style": "IPY_MODEL_e648f6588d3b4ad3b3a0b909d19d7c23",
       "value": 619.0
      }
     },
     "0910b8ed8ede4a86b7f27ca3abb602e3": {
      "model_module": "@jupyter-widgets/controls",
      "model_module_version": "1.5.0",
      "model_name": "HTMLModel",
      "state": {
       "_dom_classes": [],
       "_model_module": "@jupyter-widgets/controls",
       "_model_module_version": "1.5.0",
       "_model_name": "HTMLModel",
       "_view_count": null,
       "_view_module": "@jupyter-widgets/controls",
       "_view_module_version": "1.5.0",
       "_view_name": "HTMLView",
       "description": "",
       "description_tooltip": null,
       "layout": "IPY_MODEL_17825320f01d4165ace0dcb19d9710e2",
       "placeholder": "​",
       "style": "IPY_MODEL_b2e135a7895f4be4a4c598dffc8a6dfc",
       "value": "README.md: 100%"
      }
     },
     "11251a8ac1da4929abf5948c125f4f55": {
      "model_module": "@jupyter-widgets/controls",
      "model_module_version": "1.5.0",
      "model_name": "ProgressStyleModel",
      "state": {
       "_model_module": "@jupyter-widgets/controls",
       "_model_module_version": "1.5.0",
       "_model_name": "ProgressStyleModel",
       "_view_count": null,
       "_view_module": "@jupyter-widgets/base",
       "_view_module_version": "1.2.0",
       "_view_name": "StyleView",
       "bar_color": null,
       "description_width": ""
      }
     },
     "1278e737c79b4639a5969764da7add55": {
      "model_module": "@jupyter-widgets/controls",
      "model_module_version": "1.5.0",
      "model_name": "DescriptionStyleModel",
      "state": {
       "_model_module": "@jupyter-widgets/controls",
       "_model_module_version": "1.5.0",
       "_model_name": "DescriptionStyleModel",
       "_view_count": null,
       "_view_module": "@jupyter-widgets/base",
       "_view_module_version": "1.2.0",
       "_view_name": "StyleView",
       "description_width": ""
      }
     },
     "17825320f01d4165ace0dcb19d9710e2": {
      "model_module": "@jupyter-widgets/base",
      "model_module_version": "1.2.0",
      "model_name": "LayoutModel",
      "state": {
       "_model_module": "@jupyter-widgets/base",
       "_model_module_version": "1.2.0",
       "_model_name": "LayoutModel",
       "_view_count": null,
       "_view_module": "@jupyter-widgets/base",
       "_view_module_version": "1.2.0",
       "_view_name": "LayoutView",
       "align_content": null,
       "align_items": null,
       "align_self": null,
       "border": null,
       "bottom": null,
       "display": null,
       "flex": null,
       "flex_flow": null,
       "grid_area": null,
       "grid_auto_columns": null,
       "grid_auto_flow": null,
       "grid_auto_rows": null,
       "grid_column": null,
       "grid_gap": null,
       "grid_row": null,
       "grid_template_areas": null,
       "grid_template_columns": null,
       "grid_template_rows": null,
       "height": null,
       "justify_content": null,
       "justify_items": null,
       "left": null,
       "margin": null,
       "max_height": null,
       "max_width": null,
       "min_height": null,
       "min_width": null,
       "object_fit": null,
       "object_position": null,
       "order": null,
       "overflow": null,
       "overflow_x": null,
       "overflow_y": null,
       "padding": null,
       "right": null,
       "top": null,
       "visibility": null,
       "width": null
      }
     },
     "18cb5cae98474813a26b65e2b878c361": {
      "model_module": "@jupyter-widgets/controls",
      "model_module_version": "1.5.0",
      "model_name": "DescriptionStyleModel",
      "state": {
       "_model_module": "@jupyter-widgets/controls",
       "_model_module_version": "1.5.0",
       "_model_name": "DescriptionStyleModel",
       "_view_count": null,
       "_view_module": "@jupyter-widgets/base",
       "_view_module_version": "1.2.0",
       "_view_name": "StyleView",
       "description_width": ""
      }
     },
     "1ca89ba083df4865ac32115d71b4ae75": {
      "model_module": "@jupyter-widgets/controls",
      "model_module_version": "1.5.0",
      "model_name": "HTMLModel",
      "state": {
       "_dom_classes": [],
       "_model_module": "@jupyter-widgets/controls",
       "_model_module_version": "1.5.0",
       "_model_name": "HTMLModel",
       "_view_count": null,
       "_view_module": "@jupyter-widgets/controls",
       "_view_module_version": "1.5.0",
       "_view_name": "HTMLView",
       "description": "",
       "description_tooltip": null,
       "layout": "IPY_MODEL_353def5f70a04c198c2bcb0e3be54ce0",
       "placeholder": "​",
       "style": "IPY_MODEL_fe575612b6b54e3c8a3e1fa4e3eb5b11",
       "value": " 385/385 [00:00&lt;00:00, 32.1kB/s]"
      }
     },
     "1df8f1eb1dc340ceb224d22318972ee7": {
      "model_module": "@jupyter-widgets/base",
      "model_module_version": "1.2.0",
      "model_name": "LayoutModel",
      "state": {
       "_model_module": "@jupyter-widgets/base",
       "_model_module_version": "1.2.0",
       "_model_name": "LayoutModel",
       "_view_count": null,
       "_view_module": "@jupyter-widgets/base",
       "_view_module_version": "1.2.0",
       "_view_name": "LayoutView",
       "align_content": null,
       "align_items": null,
       "align_self": null,
       "border": null,
       "bottom": null,
       "display": null,
       "flex": null,
       "flex_flow": null,
       "grid_area": null,
       "grid_auto_columns": null,
       "grid_auto_flow": null,
       "grid_auto_rows": null,
       "grid_column": null,
       "grid_gap": null,
       "grid_row": null,
       "grid_template_areas": null,
       "grid_template_columns": null,
       "grid_template_rows": null,
       "height": null,
       "justify_content": null,
       "justify_items": null,
       "left": null,
       "margin": null,
       "max_height": null,
       "max_width": null,
       "min_height": null,
       "min_width": null,
       "object_fit": null,
       "object_position": null,
       "order": null,
       "overflow": null,
       "overflow_x": null,
       "overflow_y": null,
       "padding": null,
       "right": null,
       "top": null,
       "visibility": null,
       "width": null
      }
     },
     "1f19936ac14944a0951f47fafa8e08b1": {
      "model_module": "@jupyter-widgets/base",
      "model_module_version": "1.2.0",
      "model_name": "LayoutModel",
      "state": {
       "_model_module": "@jupyter-widgets/base",
       "_model_module_version": "1.2.0",
       "_model_name": "LayoutModel",
       "_view_count": null,
       "_view_module": "@jupyter-widgets/base",
       "_view_module_version": "1.2.0",
       "_view_name": "LayoutView",
       "align_content": null,
       "align_items": null,
       "align_self": null,
       "border": null,
       "bottom": null,
       "display": null,
       "flex": null,
       "flex_flow": null,
       "grid_area": null,
       "grid_auto_columns": null,
       "grid_auto_flow": null,
       "grid_auto_rows": null,
       "grid_column": null,
       "grid_gap": null,
       "grid_row": null,
       "grid_template_areas": null,
       "grid_template_columns": null,
       "grid_template_rows": null,
       "height": null,
       "justify_content": null,
       "justify_items": null,
       "left": null,
       "margin": null,
       "max_height": null,
       "max_width": null,
       "min_height": null,
       "min_width": null,
       "object_fit": null,
       "object_position": null,
       "order": null,
       "overflow": null,
       "overflow_x": null,
       "overflow_y": null,
       "padding": null,
       "right": null,
       "top": null,
       "visibility": null,
       "width": null
      }
     },
     "1f20cfbba4a044e58ad379a8f6c51000": {
      "model_module": "@jupyter-widgets/base",
      "model_module_version": "1.2.0",
      "model_name": "LayoutModel",
      "state": {
       "_model_module": "@jupyter-widgets/base",
       "_model_module_version": "1.2.0",
       "_model_name": "LayoutModel",
       "_view_count": null,
       "_view_module": "@jupyter-widgets/base",
       "_view_module_version": "1.2.0",
       "_view_name": "LayoutView",
       "align_content": null,
       "align_items": null,
       "align_self": null,
       "border": null,
       "bottom": null,
       "display": null,
       "flex": null,
       "flex_flow": null,
       "grid_area": null,
       "grid_auto_columns": null,
       "grid_auto_flow": null,
       "grid_auto_rows": null,
       "grid_column": null,
       "grid_gap": null,
       "grid_row": null,
       "grid_template_areas": null,
       "grid_template_columns": null,
       "grid_template_rows": null,
       "height": null,
       "justify_content": null,
       "justify_items": null,
       "left": null,
       "margin": null,
       "max_height": null,
       "max_width": null,
       "min_height": null,
       "min_width": null,
       "object_fit": null,
       "object_position": null,
       "order": null,
       "overflow": null,
       "overflow_x": null,
       "overflow_y": null,
       "padding": null,
       "right": null,
       "top": null,
       "visibility": null,
       "width": null
      }
     },
     "229912c7374245b0ae3820eabda1790e": {
      "model_module": "@jupyter-widgets/controls",
      "model_module_version": "1.5.0",
      "model_name": "HTMLModel",
      "state": {
       "_dom_classes": [],
       "_model_module": "@jupyter-widgets/controls",
       "_model_module_version": "1.5.0",
       "_model_name": "HTMLModel",
       "_view_count": null,
       "_view_module": "@jupyter-widgets/controls",
       "_view_module_version": "1.5.0",
       "_view_name": "HTMLView",
       "description": "",
       "description_tooltip": null,
       "layout": "IPY_MODEL_1df8f1eb1dc340ceb224d22318972ee7",
       "placeholder": "​",
       "style": "IPY_MODEL_0428d78fb4d7483d8eed1c264d7aae6e",
       "value": "sentence_bert_config.json: 100%"
      }
     },
     "23c5767535a14e1a936f2803e6135982": {
      "model_module": "@jupyter-widgets/base",
      "model_module_version": "1.2.0",
      "model_name": "LayoutModel",
      "state": {
       "_model_module": "@jupyter-widgets/base",
       "_model_module_version": "1.2.0",
       "_model_name": "LayoutModel",
       "_view_count": null,
       "_view_module": "@jupyter-widgets/base",
       "_view_module_version": "1.2.0",
       "_view_name": "LayoutView",
       "align_content": null,
       "align_items": null,
       "align_self": null,
       "border": null,
       "bottom": null,
       "display": null,
       "flex": null,
       "flex_flow": null,
       "grid_area": null,
       "grid_auto_columns": null,
       "grid_auto_flow": null,
       "grid_auto_rows": null,
       "grid_column": null,
       "grid_gap": null,
       "grid_row": null,
       "grid_template_areas": null,
       "grid_template_columns": null,
       "grid_template_rows": null,
       "height": null,
       "justify_content": null,
       "justify_items": null,
       "left": null,
       "margin": null,
       "max_height": null,
       "max_width": null,
       "min_height": null,
       "min_width": null,
       "object_fit": null,
       "object_position": null,
       "order": null,
       "overflow": null,
       "overflow_x": null,
       "overflow_y": null,
       "padding": null,
       "right": null,
       "top": null,
       "visibility": null,
       "width": null
      }
     },
     "267c7903e1984a37a746080aa9611279": {
      "model_module": "@jupyter-widgets/controls",
      "model_module_version": "1.5.0",
      "model_name": "DescriptionStyleModel",
      "state": {
       "_model_module": "@jupyter-widgets/controls",
       "_model_module_version": "1.5.0",
       "_model_name": "DescriptionStyleModel",
       "_view_count": null,
       "_view_module": "@jupyter-widgets/base",
       "_view_module_version": "1.2.0",
       "_view_name": "StyleView",
       "description_width": ""
      }
     },
     "28592d8c78fb4b95b5efdd90212c8ed3": {
      "model_module": "@jupyter-widgets/base",
      "model_module_version": "1.2.0",
      "model_name": "LayoutModel",
      "state": {
       "_model_module": "@jupyter-widgets/base",
       "_model_module_version": "1.2.0",
       "_model_name": "LayoutModel",
       "_view_count": null,
       "_view_module": "@jupyter-widgets/base",
       "_view_module_version": "1.2.0",
       "_view_name": "LayoutView",
       "align_content": null,
       "align_items": null,
       "align_self": null,
       "border": null,
       "bottom": null,
       "display": null,
       "flex": null,
       "flex_flow": null,
       "grid_area": null,
       "grid_auto_columns": null,
       "grid_auto_flow": null,
       "grid_auto_rows": null,
       "grid_column": null,
       "grid_gap": null,
       "grid_row": null,
       "grid_template_areas": null,
       "grid_template_columns": null,
       "grid_template_rows": null,
       "height": null,
       "justify_content": null,
       "justify_items": null,
       "left": null,
       "margin": null,
       "max_height": null,
       "max_width": null,
       "min_height": null,
       "min_width": null,
       "object_fit": null,
       "object_position": null,
       "order": null,
       "overflow": null,
       "overflow_x": null,
       "overflow_y": null,
       "padding": null,
       "right": null,
       "top": null,
       "visibility": null,
       "width": null
      }
     },
     "28e06110cb714357a5c4d7af6dbf151a": {
      "model_module": "@jupyter-widgets/base",
      "model_module_version": "1.2.0",
      "model_name": "LayoutModel",
      "state": {
       "_model_module": "@jupyter-widgets/base",
       "_model_module_version": "1.2.0",
       "_model_name": "LayoutModel",
       "_view_count": null,
       "_view_module": "@jupyter-widgets/base",
       "_view_module_version": "1.2.0",
       "_view_name": "LayoutView",
       "align_content": null,
       "align_items": null,
       "align_self": null,
       "border": null,
       "bottom": null,
       "display": null,
       "flex": null,
       "flex_flow": null,
       "grid_area": null,
       "grid_auto_columns": null,
       "grid_auto_flow": null,
       "grid_auto_rows": null,
       "grid_column": null,
       "grid_gap": null,
       "grid_row": null,
       "grid_template_areas": null,
       "grid_template_columns": null,
       "grid_template_rows": null,
       "height": null,
       "justify_content": null,
       "justify_items": null,
       "left": null,
       "margin": null,
       "max_height": null,
       "max_width": null,
       "min_height": null,
       "min_width": null,
       "object_fit": null,
       "object_position": null,
       "order": null,
       "overflow": null,
       "overflow_x": null,
       "overflow_y": null,
       "padding": null,
       "right": null,
       "top": null,
       "visibility": null,
       "width": null
      }
     },
     "2a7540f42fb54da08e328ffd8f165125": {
      "model_module": "@jupyter-widgets/base",
      "model_module_version": "1.2.0",
      "model_name": "LayoutModel",
      "state": {
       "_model_module": "@jupyter-widgets/base",
       "_model_module_version": "1.2.0",
       "_model_name": "LayoutModel",
       "_view_count": null,
       "_view_module": "@jupyter-widgets/base",
       "_view_module_version": "1.2.0",
       "_view_name": "LayoutView",
       "align_content": null,
       "align_items": null,
       "align_self": null,
       "border": null,
       "bottom": null,
       "display": null,
       "flex": null,
       "flex_flow": null,
       "grid_area": null,
       "grid_auto_columns": null,
       "grid_auto_flow": null,
       "grid_auto_rows": null,
       "grid_column": null,
       "grid_gap": null,
       "grid_row": null,
       "grid_template_areas": null,
       "grid_template_columns": null,
       "grid_template_rows": null,
       "height": null,
       "justify_content": null,
       "justify_items": null,
       "left": null,
       "margin": null,
       "max_height": null,
       "max_width": null,
       "min_height": null,
       "min_width": null,
       "object_fit": null,
       "object_position": null,
       "order": null,
       "overflow": null,
       "overflow_x": null,
       "overflow_y": null,
       "padding": null,
       "right": null,
       "top": null,
       "visibility": null,
       "width": null
      }
     },
     "2b461f7c0bce4a5391f6be8c8ca75572": {
      "model_module": "@jupyter-widgets/controls",
      "model_module_version": "1.5.0",
      "model_name": "FloatProgressModel",
      "state": {
       "_dom_classes": [],
       "_model_module": "@jupyter-widgets/controls",
       "_model_module_version": "1.5.0",
       "_model_name": "FloatProgressModel",
       "_view_count": null,
       "_view_module": "@jupyter-widgets/controls",
       "_view_module_version": "1.5.0",
       "_view_name": "ProgressView",
       "bar_style": "success",
       "description": "",
       "description_tooltip": null,
       "layout": "IPY_MODEL_797042c635694f45805ed6df3a38eaea",
       "max": 125.0,
       "min": 0.0,
       "orientation": "horizontal",
       "style": "IPY_MODEL_79997e2b1406413987ed3d409200812d",
       "value": 125.0
      }
     },
     "2e1f700ca5a041bf84546fa0496635c3": {
      "model_module": "@jupyter-widgets/controls",
      "model_module_version": "1.5.0",
      "model_name": "HTMLModel",
      "state": {
       "_dom_classes": [],
       "_model_module": "@jupyter-widgets/controls",
       "_model_module_version": "1.5.0",
       "_model_name": "HTMLModel",
       "_view_count": null,
       "_view_module": "@jupyter-widgets/controls",
       "_view_module_version": "1.5.0",
       "_view_name": "HTMLView",
       "description": "",
       "description_tooltip": null,
       "layout": "IPY_MODEL_1f19936ac14944a0951f47fafa8e08b1",
       "placeholder": "​",
       "style": "IPY_MODEL_e6654dae5f2f45ccb799d9097e09e010",
       "value": "special_tokens_map.json: 100%"
      }
     },
     "30713be059c54edfb39410a3d9fdcf0f": {
      "model_module": "@jupyter-widgets/controls",
      "model_module_version": "1.5.0",
      "model_name": "HTMLModel",
      "state": {
       "_dom_classes": [],
       "_model_module": "@jupyter-widgets/controls",
       "_model_module_version": "1.5.0",
       "_model_name": "HTMLModel",
       "_view_count": null,
       "_view_module": "@jupyter-widgets/controls",
       "_view_module_version": "1.5.0",
       "_view_name": "HTMLView",
       "description": "",
       "description_tooltip": null,
       "layout": "IPY_MODEL_9ce9ba64ba4841ec944252b0c7f5b063",
       "placeholder": "​",
       "style": "IPY_MODEL_4b79e50af9094271a0d18d2ac14124fa",
       "value": " 57.0/57.0 [00:00&lt;00:00, 5.15kB/s]"
      }
     },
     "3313808f9aab42969c3b246231a79617": {
      "model_module": "@jupyter-widgets/base",
      "model_module_version": "1.2.0",
      "model_name": "LayoutModel",
      "state": {
       "_model_module": "@jupyter-widgets/base",
       "_model_module_version": "1.2.0",
       "_model_name": "LayoutModel",
       "_view_count": null,
       "_view_module": "@jupyter-widgets/base",
       "_view_module_version": "1.2.0",
       "_view_name": "LayoutView",
       "align_content": null,
       "align_items": null,
       "align_self": null,
       "border": null,
       "bottom": null,
       "display": null,
       "flex": null,
       "flex_flow": null,
       "grid_area": null,
       "grid_auto_columns": null,
       "grid_auto_flow": null,
       "grid_auto_rows": null,
       "grid_column": null,
       "grid_gap": null,
       "grid_row": null,
       "grid_template_areas": null,
       "grid_template_columns": null,
       "grid_template_rows": null,
       "height": null,
       "justify_content": null,
       "justify_items": null,
       "left": null,
       "margin": null,
       "max_height": null,
       "max_width": null,
       "min_height": null,
       "min_width": null,
       "object_fit": null,
       "object_position": null,
       "order": null,
       "overflow": null,
       "overflow_x": null,
       "overflow_y": null,
       "padding": null,
       "right": null,
       "top": null,
       "visibility": null,
       "width": null
      }
     },
     "353def5f70a04c198c2bcb0e3be54ce0": {
      "model_module": "@jupyter-widgets/base",
      "model_module_version": "1.2.0",
      "model_name": "LayoutModel",
      "state": {
       "_model_module": "@jupyter-widgets/base",
       "_model_module_version": "1.2.0",
       "_model_name": "LayoutModel",
       "_view_count": null,
       "_view_module": "@jupyter-widgets/base",
       "_view_module_version": "1.2.0",
       "_view_name": "LayoutView",
       "align_content": null,
       "align_items": null,
       "align_self": null,
       "border": null,
       "bottom": null,
       "display": null,
       "flex": null,
       "flex_flow": null,
       "grid_area": null,
       "grid_auto_columns": null,
       "grid_auto_flow": null,
       "grid_auto_rows": null,
       "grid_column": null,
       "grid_gap": null,
       "grid_row": null,
       "grid_template_areas": null,
       "grid_template_columns": null,
       "grid_template_rows": null,
       "height": null,
       "justify_content": null,
       "justify_items": null,
       "left": null,
       "margin": null,
       "max_height": null,
       "max_width": null,
       "min_height": null,
       "min_width": null,
       "object_fit": null,
       "object_position": null,
       "order": null,
       "overflow": null,
       "overflow_x": null,
       "overflow_y": null,
       "padding": null,
       "right": null,
       "top": null,
       "visibility": null,
       "width": null
      }
     },
     "37592fad40454bf78b2f7af718270a49": {
      "model_module": "@jupyter-widgets/controls",
      "model_module_version": "1.5.0",
      "model_name": "HBoxModel",
      "state": {
       "_dom_classes": [],
       "_model_module": "@jupyter-widgets/controls",
       "_model_module_version": "1.5.0",
       "_model_name": "HBoxModel",
       "_view_count": null,
       "_view_module": "@jupyter-widgets/controls",
       "_view_module_version": "1.5.0",
       "_view_name": "HBoxView",
       "box_style": "",
       "children": [
        "IPY_MODEL_cb2b86fb99944b93ad4277eab43bdad5",
        "IPY_MODEL_83a3f9eef85d4c85ab2ebd21f33db9c2",
        "IPY_MODEL_622d3af2a1a845a0bf5fec051735f518"
       ],
       "layout": "IPY_MODEL_6b9ce385f03847c4956f2bc751cd1130"
      }
     },
     "3d74afc601034354951cf9be30ad2c1a": {
      "model_module": "@jupyter-widgets/base",
      "model_module_version": "1.2.0",
      "model_name": "LayoutModel",
      "state": {
       "_model_module": "@jupyter-widgets/base",
       "_model_module_version": "1.2.0",
       "_model_name": "LayoutModel",
       "_view_count": null,
       "_view_module": "@jupyter-widgets/base",
       "_view_module_version": "1.2.0",
       "_view_name": "LayoutView",
       "align_content": null,
       "align_items": null,
       "align_self": null,
       "border": null,
       "bottom": null,
       "display": null,
       "flex": null,
       "flex_flow": null,
       "grid_area": null,
       "grid_auto_columns": null,
       "grid_auto_flow": null,
       "grid_auto_rows": null,
       "grid_column": null,
       "grid_gap": null,
       "grid_row": null,
       "grid_template_areas": null,
       "grid_template_columns": null,
       "grid_template_rows": null,
       "height": null,
       "justify_content": null,
       "justify_items": null,
       "left": null,
       "margin": null,
       "max_height": null,
       "max_width": null,
       "min_height": null,
       "min_width": null,
       "object_fit": null,
       "object_position": null,
       "order": null,
       "overflow": null,
       "overflow_x": null,
       "overflow_y": null,
       "padding": null,
       "right": null,
       "top": null,
       "visibility": null,
       "width": null
      }
     },
     "3f5c90f2093e4b1d980e8dc05b866968": {
      "model_module": "@jupyter-widgets/base",
      "model_module_version": "1.2.0",
      "model_name": "LayoutModel",
      "state": {
       "_model_module": "@jupyter-widgets/base",
       "_model_module_version": "1.2.0",
       "_model_name": "LayoutModel",
       "_view_count": null,
       "_view_module": "@jupyter-widgets/base",
       "_view_module_version": "1.2.0",
       "_view_name": "LayoutView",
       "align_content": null,
       "align_items": null,
       "align_self": null,
       "border": null,
       "bottom": null,
       "display": null,
       "flex": null,
       "flex_flow": null,
       "grid_area": null,
       "grid_auto_columns": null,
       "grid_auto_flow": null,
       "grid_auto_rows": null,
       "grid_column": null,
       "grid_gap": null,
       "grid_row": null,
       "grid_template_areas": null,
       "grid_template_columns": null,
       "grid_template_rows": null,
       "height": null,
       "justify_content": null,
       "justify_items": null,
       "left": null,
       "margin": null,
       "max_height": null,
       "max_width": null,
       "min_height": null,
       "min_width": null,
       "object_fit": null,
       "object_position": null,
       "order": null,
       "overflow": null,
       "overflow_x": null,
       "overflow_y": null,
       "padding": null,
       "right": null,
       "top": null,
       "visibility": null,
       "width": null
      }
     },
     "4131101d5d9c43baaebfe5df9bb587c6": {
      "model_module": "@jupyter-widgets/controls",
      "model_module_version": "1.5.0",
      "model_name": "DescriptionStyleModel",
      "state": {
       "_model_module": "@jupyter-widgets/controls",
       "_model_module_version": "1.5.0",
       "_model_name": "DescriptionStyleModel",
       "_view_count": null,
       "_view_module": "@jupyter-widgets/base",
       "_view_module_version": "1.2.0",
       "_view_name": "StyleView",
       "description_width": ""
      }
     },
     "457dca8f087e42369da14821fd31fbbd": {
      "model_module": "@jupyter-widgets/controls",
      "model_module_version": "1.5.0",
      "model_name": "HTMLModel",
      "state": {
       "_dom_classes": [],
       "_model_module": "@jupyter-widgets/controls",
       "_model_module_version": "1.5.0",
       "_model_name": "HTMLModel",
       "_view_count": null,
       "_view_module": "@jupyter-widgets/controls",
       "_view_module_version": "1.5.0",
       "_view_name": "HTMLView",
       "description": "",
       "description_tooltip": null,
       "layout": "IPY_MODEL_28592d8c78fb4b95b5efdd90212c8ed3",
       "placeholder": "​",
       "style": "IPY_MODEL_79a4d55f72a54cae91040f28b31aeb1b",
       "value": " 342/342 [00:00&lt;00:00, 23.9kB/s]"
      }
     },
     "4add4c99d38542618b17636aa3c3f0a6": {
      "model_module": "@jupyter-widgets/controls",
      "model_module_version": "1.5.0",
      "model_name": "ProgressStyleModel",
      "state": {
       "_model_module": "@jupyter-widgets/controls",
       "_model_module_version": "1.5.0",
       "_model_name": "ProgressStyleModel",
       "_view_count": null,
       "_view_module": "@jupyter-widgets/base",
       "_view_module_version": "1.2.0",
       "_view_name": "StyleView",
       "bar_color": null,
       "description_width": ""
      }
     },
     "4b79e50af9094271a0d18d2ac14124fa": {
      "model_module": "@jupyter-widgets/controls",
      "model_module_version": "1.5.0",
      "model_name": "DescriptionStyleModel",
      "state": {
       "_model_module": "@jupyter-widgets/controls",
       "_model_module_version": "1.5.0",
       "_model_name": "DescriptionStyleModel",
       "_view_count": null,
       "_view_module": "@jupyter-widgets/base",
       "_view_module_version": "1.2.0",
       "_view_name": "StyleView",
       "description_width": ""
      }
     },
     "4b876ee0747f492babb32cee22122c78": {
      "model_module": "@jupyter-widgets/base",
      "model_module_version": "1.2.0",
      "model_name": "LayoutModel",
      "state": {
       "_model_module": "@jupyter-widgets/base",
       "_model_module_version": "1.2.0",
       "_model_name": "LayoutModel",
       "_view_count": null,
       "_view_module": "@jupyter-widgets/base",
       "_view_module_version": "1.2.0",
       "_view_name": "LayoutView",
       "align_content": null,
       "align_items": null,
       "align_self": null,
       "border": null,
       "bottom": null,
       "display": null,
       "flex": null,
       "flex_flow": null,
       "grid_area": null,
       "grid_auto_columns": null,
       "grid_auto_flow": null,
       "grid_auto_rows": null,
       "grid_column": null,
       "grid_gap": null,
       "grid_row": null,
       "grid_template_areas": null,
       "grid_template_columns": null,
       "grid_template_rows": null,
       "height": null,
       "justify_content": null,
       "justify_items": null,
       "left": null,
       "margin": null,
       "max_height": null,
       "max_width": null,
       "min_height": null,
       "min_width": null,
       "object_fit": null,
       "object_position": null,
       "order": null,
       "overflow": null,
       "overflow_x": null,
       "overflow_y": null,
       "padding": null,
       "right": null,
       "top": null,
       "visibility": null,
       "width": null
      }
     },
     "4f817fe71dc447a69faedb8cf9982696": {
      "model_module": "@jupyter-widgets/controls",
      "model_module_version": "1.5.0",
      "model_name": "HBoxModel",
      "state": {
       "_dom_classes": [],
       "_model_module": "@jupyter-widgets/controls",
       "_model_module_version": "1.5.0",
       "_model_name": "HBoxModel",
       "_view_count": null,
       "_view_module": "@jupyter-widgets/controls",
       "_view_module_version": "1.5.0",
       "_view_name": "HBoxView",
       "box_style": "",
       "children": [
        "IPY_MODEL_88f44f4ac3254a42bf663a2d3ce0186d",
        "IPY_MODEL_b138d977ca534f5da07c6eb9daafbba8",
        "IPY_MODEL_1ca89ba083df4865ac32115d71b4ae75"
       ],
       "layout": "IPY_MODEL_72d9acc050db49359662d0fc850f925b"
      }
     },
     "4ffa8c800ae54579b86922c2123de592": {
      "model_module": "@jupyter-widgets/controls",
      "model_module_version": "1.5.0",
      "model_name": "HBoxModel",
      "state": {
       "_dom_classes": [],
       "_model_module": "@jupyter-widgets/controls",
       "_model_module_version": "1.5.0",
       "_model_name": "HBoxModel",
       "_view_count": null,
       "_view_module": "@jupyter-widgets/controls",
       "_view_module_version": "1.5.0",
       "_view_name": "HBoxView",
       "box_style": "",
       "children": [
        "IPY_MODEL_9eef70aebf744820b797251cdb9d344c",
        "IPY_MODEL_b9d655413cc6486dbf29649a25f2c8be",
        "IPY_MODEL_e4d8af625af3498bbadd9fed49345358"
       ],
       "layout": "IPY_MODEL_af16f7dca7b145b2836ae20e8db95fea"
      }
     },
     "5080dbb3170a4a4883877ad458f9b733": {
      "model_module": "@jupyter-widgets/base",
      "model_module_version": "1.2.0",
      "model_name": "LayoutModel",
      "state": {
       "_model_module": "@jupyter-widgets/base",
       "_model_module_version": "1.2.0",
       "_model_name": "LayoutModel",
       "_view_count": null,
       "_view_module": "@jupyter-widgets/base",
       "_view_module_version": "1.2.0",
       "_view_name": "LayoutView",
       "align_content": null,
       "align_items": null,
       "align_self": null,
       "border": null,
       "bottom": null,
       "display": null,
       "flex": null,
       "flex_flow": null,
       "grid_area": null,
       "grid_auto_columns": null,
       "grid_auto_flow": null,
       "grid_auto_rows": null,
       "grid_column": null,
       "grid_gap": null,
       "grid_row": null,
       "grid_template_areas": null,
       "grid_template_columns": null,
       "grid_template_rows": null,
       "height": null,
       "justify_content": null,
       "justify_items": null,
       "left": null,
       "margin": null,
       "max_height": null,
       "max_width": null,
       "min_height": null,
       "min_width": null,
       "object_fit": null,
       "object_position": null,
       "order": null,
       "overflow": null,
       "overflow_x": null,
       "overflow_y": null,
       "padding": null,
       "right": null,
       "top": null,
       "visibility": null,
       "width": null
      }
     },
     "5121ebb157224526bb3a8bb4e38f60ea": {
      "model_module": "@jupyter-widgets/controls",
      "model_module_version": "1.5.0",
      "model_name": "HTMLModel",
      "state": {
       "_dom_classes": [],
       "_model_module": "@jupyter-widgets/controls",
       "_model_module_version": "1.5.0",
       "_model_name": "HTMLModel",
       "_view_count": null,
       "_view_module": "@jupyter-widgets/controls",
       "_view_module_version": "1.5.0",
       "_view_name": "HTMLView",
       "description": "",
       "description_tooltip": null,
       "layout": "IPY_MODEL_f46895edb2a04e579a9ae785a2aaea8a",
       "placeholder": "​",
       "style": "IPY_MODEL_cd52b262a39243b09d7de12c4d80ac33",
       "value": " 232k/232k [00:01&lt;00:00, 175kB/s]"
      }
     },
     "51321eb72fe34b6aa2122c078291af48": {
      "model_module": "@jupyter-widgets/controls",
      "model_module_version": "1.5.0",
      "model_name": "FloatProgressModel",
      "state": {
       "_dom_classes": [],
       "_model_module": "@jupyter-widgets/controls",
       "_model_module_version": "1.5.0",
       "_model_name": "FloatProgressModel",
       "_view_count": null,
       "_view_module": "@jupyter-widgets/controls",
       "_view_module_version": "1.5.0",
       "_view_name": "ProgressView",
       "bar_style": "success",
       "description": "",
       "description_tooltip": null,
       "layout": "IPY_MODEL_fa29739daad44bf3931a22c0cf92f97d",
       "max": 342.0,
       "min": 0.0,
       "orientation": "horizontal",
       "style": "IPY_MODEL_11251a8ac1da4929abf5948c125f4f55",
       "value": 342.0
      }
     },
     "52ede2f391754924b6b81c3018b68244": {
      "model_module": "@jupyter-widgets/base",
      "model_module_version": "1.2.0",
      "model_name": "LayoutModel",
      "state": {
       "_model_module": "@jupyter-widgets/base",
       "_model_module_version": "1.2.0",
       "_model_name": "LayoutModel",
       "_view_count": null,
       "_view_module": "@jupyter-widgets/base",
       "_view_module_version": "1.2.0",
       "_view_name": "LayoutView",
       "align_content": null,
       "align_items": null,
       "align_self": null,
       "border": null,
       "bottom": null,
       "display": null,
       "flex": null,
       "flex_flow": null,
       "grid_area": null,
       "grid_auto_columns": null,
       "grid_auto_flow": null,
       "grid_auto_rows": null,
       "grid_column": null,
       "grid_gap": null,
       "grid_row": null,
       "grid_template_areas": null,
       "grid_template_columns": null,
       "grid_template_rows": null,
       "height": null,
       "justify_content": null,
       "justify_items": null,
       "left": null,
       "margin": null,
       "max_height": null,
       "max_width": null,
       "min_height": null,
       "min_width": null,
       "object_fit": null,
       "object_position": null,
       "order": null,
       "overflow": null,
       "overflow_x": null,
       "overflow_y": null,
       "padding": null,
       "right": null,
       "top": null,
       "visibility": null,
       "width": null
      }
     },
     "59fb59ce315e47f1b52609c261551c51": {
      "model_module": "@jupyter-widgets/base",
      "model_module_version": "1.2.0",
      "model_name": "LayoutModel",
      "state": {
       "_model_module": "@jupyter-widgets/base",
       "_model_module_version": "1.2.0",
       "_model_name": "LayoutModel",
       "_view_count": null,
       "_view_module": "@jupyter-widgets/base",
       "_view_module_version": "1.2.0",
       "_view_name": "LayoutView",
       "align_content": null,
       "align_items": null,
       "align_self": null,
       "border": null,
       "bottom": null,
       "display": null,
       "flex": null,
       "flex_flow": null,
       "grid_area": null,
       "grid_auto_columns": null,
       "grid_auto_flow": null,
       "grid_auto_rows": null,
       "grid_column": null,
       "grid_gap": null,
       "grid_row": null,
       "grid_template_areas": null,
       "grid_template_columns": null,
       "grid_template_rows": null,
       "height": null,
       "justify_content": null,
       "justify_items": null,
       "left": null,
       "margin": null,
       "max_height": null,
       "max_width": null,
       "min_height": null,
       "min_width": null,
       "object_fit": null,
       "object_position": null,
       "order": null,
       "overflow": null,
       "overflow_x": null,
       "overflow_y": null,
       "padding": null,
       "right": null,
       "top": null,
       "visibility": null,
       "width": null
      }
     },
     "61d6802ac5c2419abe4573ef2495546c": {
      "model_module": "@jupyter-widgets/base",
      "model_module_version": "1.2.0",
      "model_name": "LayoutModel",
      "state": {
       "_model_module": "@jupyter-widgets/base",
       "_model_module_version": "1.2.0",
       "_model_name": "LayoutModel",
       "_view_count": null,
       "_view_module": "@jupyter-widgets/base",
       "_view_module_version": "1.2.0",
       "_view_name": "LayoutView",
       "align_content": null,
       "align_items": null,
       "align_self": null,
       "border": null,
       "bottom": null,
       "display": null,
       "flex": null,
       "flex_flow": null,
       "grid_area": null,
       "grid_auto_columns": null,
       "grid_auto_flow": null,
       "grid_auto_rows": null,
       "grid_column": null,
       "grid_gap": null,
       "grid_row": null,
       "grid_template_areas": null,
       "grid_template_columns": null,
       "grid_template_rows": null,
       "height": null,
       "justify_content": null,
       "justify_items": null,
       "left": null,
       "margin": null,
       "max_height": null,
       "max_width": null,
       "min_height": null,
       "min_width": null,
       "object_fit": null,
       "object_position": null,
       "order": null,
       "overflow": null,
       "overflow_x": null,
       "overflow_y": null,
       "padding": null,
       "right": null,
       "top": null,
       "visibility": null,
       "width": null
      }
     },
     "622d3af2a1a845a0bf5fec051735f518": {
      "model_module": "@jupyter-widgets/controls",
      "model_module_version": "1.5.0",
      "model_name": "HTMLModel",
      "state": {
       "_dom_classes": [],
       "_model_module": "@jupyter-widgets/controls",
       "_model_module_version": "1.5.0",
       "_model_name": "HTMLModel",
       "_view_count": null,
       "_view_module": "@jupyter-widgets/controls",
       "_view_module_version": "1.5.0",
       "_view_name": "HTMLView",
       "description": "",
       "description_tooltip": null,
       "layout": "IPY_MODEL_d6bf59df0d6a496dafd468ed991fc872",
       "placeholder": "​",
       "style": "IPY_MODEL_18cb5cae98474813a26b65e2b878c361",
       "value": " 2/2 [00:47&lt;00:00, 19.55s/it]"
      }
     },
     "6554659b16e747c3bfd27605e409379b": {
      "model_module": "@jupyter-widgets/controls",
      "model_module_version": "1.5.0",
      "model_name": "ProgressStyleModel",
      "state": {
       "_model_module": "@jupyter-widgets/controls",
       "_model_module_version": "1.5.0",
       "_model_name": "ProgressStyleModel",
       "_view_count": null,
       "_view_module": "@jupyter-widgets/base",
       "_view_module_version": "1.2.0",
       "_view_name": "StyleView",
       "bar_color": null,
       "description_width": ""
      }
     },
     "65fe6235c6db41bc9e8ffa28a1e97217": {
      "model_module": "@jupyter-widgets/controls",
      "model_module_version": "1.5.0",
      "model_name": "DescriptionStyleModel",
      "state": {
       "_model_module": "@jupyter-widgets/controls",
       "_model_module_version": "1.5.0",
       "_model_name": "DescriptionStyleModel",
       "_view_count": null,
       "_view_module": "@jupyter-widgets/base",
       "_view_module_version": "1.2.0",
       "_view_name": "StyleView",
       "description_width": ""
      }
     },
     "67138bf991a748878fa2b55cee576e34": {
      "model_module": "@jupyter-widgets/controls",
      "model_module_version": "1.5.0",
      "model_name": "HTMLModel",
      "state": {
       "_dom_classes": [],
       "_model_module": "@jupyter-widgets/controls",
       "_model_module_version": "1.5.0",
       "_model_name": "HTMLModel",
       "_view_count": null,
       "_view_module": "@jupyter-widgets/controls",
       "_view_module_version": "1.5.0",
       "_view_name": "HTMLView",
       "description": "",
       "description_tooltip": null,
       "layout": "IPY_MODEL_4b876ee0747f492babb32cee22122c78",
       "placeholder": "​",
       "style": "IPY_MODEL_4131101d5d9c43baaebfe5df9bb587c6",
       "value": " 619/619 [00:00&lt;00:00, 53.9kB/s]"
      }
     },
     "694da3d6c04a437394013248b055aaa7": {
      "model_module": "@jupyter-widgets/base",
      "model_module_version": "1.2.0",
      "model_name": "LayoutModel",
      "state": {
       "_model_module": "@jupyter-widgets/base",
       "_model_module_version": "1.2.0",
       "_model_name": "LayoutModel",
       "_view_count": null,
       "_view_module": "@jupyter-widgets/base",
       "_view_module_version": "1.2.0",
       "_view_name": "LayoutView",
       "align_content": null,
       "align_items": null,
       "align_self": null,
       "border": null,
       "bottom": null,
       "display": null,
       "flex": null,
       "flex_flow": null,
       "grid_area": null,
       "grid_auto_columns": null,
       "grid_auto_flow": null,
       "grid_auto_rows": null,
       "grid_column": null,
       "grid_gap": null,
       "grid_row": null,
       "grid_template_areas": null,
       "grid_template_columns": null,
       "grid_template_rows": null,
       "height": null,
       "justify_content": null,
       "justify_items": null,
       "left": null,
       "margin": null,
       "max_height": null,
       "max_width": null,
       "min_height": null,
       "min_width": null,
       "object_fit": null,
       "object_position": null,
       "order": null,
       "overflow": null,
       "overflow_x": null,
       "overflow_y": null,
       "padding": null,
       "right": null,
       "top": null,
       "visibility": null,
       "width": null
      }
     },
     "6b9ce385f03847c4956f2bc751cd1130": {
      "model_module": "@jupyter-widgets/base",
      "model_module_version": "1.2.0",
      "model_name": "LayoutModel",
      "state": {
       "_model_module": "@jupyter-widgets/base",
       "_model_module_version": "1.2.0",
       "_model_name": "LayoutModel",
       "_view_count": null,
       "_view_module": "@jupyter-widgets/base",
       "_view_module_version": "1.2.0",
       "_view_name": "LayoutView",
       "align_content": null,
       "align_items": null,
       "align_self": null,
       "border": null,
       "bottom": null,
       "display": null,
       "flex": null,
       "flex_flow": null,
       "grid_area": null,
       "grid_auto_columns": null,
       "grid_auto_flow": null,
       "grid_auto_rows": null,
       "grid_column": null,
       "grid_gap": null,
       "grid_row": null,
       "grid_template_areas": null,
       "grid_template_columns": null,
       "grid_template_rows": null,
       "height": null,
       "justify_content": null,
       "justify_items": null,
       "left": null,
       "margin": null,
       "max_height": null,
       "max_width": null,
       "min_height": null,
       "min_width": null,
       "object_fit": null,
       "object_position": null,
       "order": null,
       "overflow": null,
       "overflow_x": null,
       "overflow_y": null,
       "padding": null,
       "right": null,
       "top": null,
       "visibility": null,
       "width": null
      }
     },
     "70d39f6a08be44ad83ad4c3364004f0b": {
      "model_module": "@jupyter-widgets/base",
      "model_module_version": "1.2.0",
      "model_name": "LayoutModel",
      "state": {
       "_model_module": "@jupyter-widgets/base",
       "_model_module_version": "1.2.0",
       "_model_name": "LayoutModel",
       "_view_count": null,
       "_view_module": "@jupyter-widgets/base",
       "_view_module_version": "1.2.0",
       "_view_name": "LayoutView",
       "align_content": null,
       "align_items": null,
       "align_self": null,
       "border": null,
       "bottom": null,
       "display": null,
       "flex": null,
       "flex_flow": null,
       "grid_area": null,
       "grid_auto_columns": null,
       "grid_auto_flow": null,
       "grid_auto_rows": null,
       "grid_column": null,
       "grid_gap": null,
       "grid_row": null,
       "grid_template_areas": null,
       "grid_template_columns": null,
       "grid_template_rows": null,
       "height": null,
       "justify_content": null,
       "justify_items": null,
       "left": null,
       "margin": null,
       "max_height": null,
       "max_width": null,
       "min_height": null,
       "min_width": null,
       "object_fit": null,
       "object_position": null,
       "order": null,
       "overflow": null,
       "overflow_x": null,
       "overflow_y": null,
       "padding": null,
       "right": null,
       "top": null,
       "visibility": null,
       "width": null
      }
     },
     "71cb3df7dd6b41558c3325a75430a0c7": {
      "model_module": "@jupyter-widgets/controls",
      "model_module_version": "1.5.0",
      "model_name": "HBoxModel",
      "state": {
       "_dom_classes": [],
       "_model_module": "@jupyter-widgets/controls",
       "_model_module_version": "1.5.0",
       "_model_name": "HBoxModel",
       "_view_count": null,
       "_view_module": "@jupyter-widgets/controls",
       "_view_module_version": "1.5.0",
       "_view_name": "HBoxView",
       "box_style": "",
       "children": [
        "IPY_MODEL_a908f46fb4144481ad057477b44f8eb5",
        "IPY_MODEL_044f65867d8b474dab65d683b0596788",
        "IPY_MODEL_67138bf991a748878fa2b55cee576e34"
       ],
       "layout": "IPY_MODEL_3d74afc601034354951cf9be30ad2c1a"
      }
     },
     "72d9acc050db49359662d0fc850f925b": {
      "model_module": "@jupyter-widgets/base",
      "model_module_version": "1.2.0",
      "model_name": "LayoutModel",
      "state": {
       "_model_module": "@jupyter-widgets/base",
       "_model_module_version": "1.2.0",
       "_model_name": "LayoutModel",
       "_view_count": null,
       "_view_module": "@jupyter-widgets/base",
       "_view_module_version": "1.2.0",
       "_view_name": "LayoutView",
       "align_content": null,
       "align_items": null,
       "align_self": null,
       "border": null,
       "bottom": null,
       "display": null,
       "flex": null,
       "flex_flow": null,
       "grid_area": null,
       "grid_auto_columns": null,
       "grid_auto_flow": null,
       "grid_auto_rows": null,
       "grid_column": null,
       "grid_gap": null,
       "grid_row": null,
       "grid_template_areas": null,
       "grid_template_columns": null,
       "grid_template_rows": null,
       "height": null,
       "justify_content": null,
       "justify_items": null,
       "left": null,
       "margin": null,
       "max_height": null,
       "max_width": null,
       "min_height": null,
       "min_width": null,
       "object_fit": null,
       "object_position": null,
       "order": null,
       "overflow": null,
       "overflow_x": null,
       "overflow_y": null,
       "padding": null,
       "right": null,
       "top": null,
       "visibility": null,
       "width": null
      }
     },
     "73972c720078454e8ebd08292d038a51": {
      "model_module": "@jupyter-widgets/controls",
      "model_module_version": "1.5.0",
      "model_name": "HTMLModel",
      "state": {
       "_dom_classes": [],
       "_model_module": "@jupyter-widgets/controls",
       "_model_module_version": "1.5.0",
       "_model_name": "HTMLModel",
       "_view_count": null,
       "_view_module": "@jupyter-widgets/controls",
       "_view_module_version": "1.5.0",
       "_view_name": "HTMLView",
       "description": "",
       "description_tooltip": null,
       "layout": "IPY_MODEL_bfcd33e935d445ef8c8de47e80e842b3",
       "placeholder": "​",
       "style": "IPY_MODEL_84b4f3c54d0a4f05977c3abff333436a",
       "value": " 670M/670M [00:02&lt;00:00, 279MB/s]"
      }
     },
     "74513005e58b4d2dba30755077717f82": {
      "model_module": "@jupyter-widgets/base",
      "model_module_version": "1.2.0",
      "model_name": "LayoutModel",
      "state": {
       "_model_module": "@jupyter-widgets/base",
       "_model_module_version": "1.2.0",
       "_model_name": "LayoutModel",
       "_view_count": null,
       "_view_module": "@jupyter-widgets/base",
       "_view_module_version": "1.2.0",
       "_view_name": "LayoutView",
       "align_content": null,
       "align_items": null,
       "align_self": null,
       "border": null,
       "bottom": null,
       "display": null,
       "flex": null,
       "flex_flow": null,
       "grid_area": null,
       "grid_auto_columns": null,
       "grid_auto_flow": null,
       "grid_auto_rows": null,
       "grid_column": null,
       "grid_gap": null,
       "grid_row": null,
       "grid_template_areas": null,
       "grid_template_columns": null,
       "grid_template_rows": null,
       "height": null,
       "justify_content": null,
       "justify_items": null,
       "left": null,
       "margin": null,
       "max_height": null,
       "max_width": null,
       "min_height": null,
       "min_width": null,
       "object_fit": null,
       "object_position": null,
       "order": null,
       "overflow": null,
       "overflow_x": null,
       "overflow_y": null,
       "padding": null,
       "right": null,
       "top": null,
       "visibility": null,
       "width": null
      }
     },
     "797042c635694f45805ed6df3a38eaea": {
      "model_module": "@jupyter-widgets/base",
      "model_module_version": "1.2.0",
      "model_name": "LayoutModel",
      "state": {
       "_model_module": "@jupyter-widgets/base",
       "_model_module_version": "1.2.0",
       "_model_name": "LayoutModel",
       "_view_count": null,
       "_view_module": "@jupyter-widgets/base",
       "_view_module_version": "1.2.0",
       "_view_name": "LayoutView",
       "align_content": null,
       "align_items": null,
       "align_self": null,
       "border": null,
       "bottom": null,
       "display": null,
       "flex": null,
       "flex_flow": null,
       "grid_area": null,
       "grid_auto_columns": null,
       "grid_auto_flow": null,
       "grid_auto_rows": null,
       "grid_column": null,
       "grid_gap": null,
       "grid_row": null,
       "grid_template_areas": null,
       "grid_template_columns": null,
       "grid_template_rows": null,
       "height": null,
       "justify_content": null,
       "justify_items": null,
       "left": null,
       "margin": null,
       "max_height": null,
       "max_width": null,
       "min_height": null,
       "min_width": null,
       "object_fit": null,
       "object_position": null,
       "order": null,
       "overflow": null,
       "overflow_x": null,
       "overflow_y": null,
       "padding": null,
       "right": null,
       "top": null,
       "visibility": null,
       "width": null
      }
     },
     "79997e2b1406413987ed3d409200812d": {
      "model_module": "@jupyter-widgets/controls",
      "model_module_version": "1.5.0",
      "model_name": "ProgressStyleModel",
      "state": {
       "_model_module": "@jupyter-widgets/controls",
       "_model_module_version": "1.5.0",
       "_model_name": "ProgressStyleModel",
       "_view_count": null,
       "_view_module": "@jupyter-widgets/base",
       "_view_module_version": "1.2.0",
       "_view_name": "StyleView",
       "bar_color": null,
       "description_width": ""
      }
     },
     "79a4d55f72a54cae91040f28b31aeb1b": {
      "model_module": "@jupyter-widgets/controls",
      "model_module_version": "1.5.0",
      "model_name": "DescriptionStyleModel",
      "state": {
       "_model_module": "@jupyter-widgets/controls",
       "_model_module_version": "1.5.0",
       "_model_name": "DescriptionStyleModel",
       "_view_count": null,
       "_view_module": "@jupyter-widgets/base",
       "_view_module_version": "1.2.0",
       "_view_name": "StyleView",
       "description_width": ""
      }
     },
     "7aea00547a8f4dec9934c1d2b9801fc4": {
      "model_module": "@jupyter-widgets/controls",
      "model_module_version": "1.5.0",
      "model_name": "DescriptionStyleModel",
      "state": {
       "_model_module": "@jupyter-widgets/controls",
       "_model_module_version": "1.5.0",
       "_model_name": "DescriptionStyleModel",
       "_view_count": null,
       "_view_module": "@jupyter-widgets/base",
       "_view_module_version": "1.2.0",
       "_view_name": "StyleView",
       "description_width": ""
      }
     },
     "7c35c46a14f8465fa62118e30e552686": {
      "model_module": "@jupyter-widgets/base",
      "model_module_version": "1.2.0",
      "model_name": "LayoutModel",
      "state": {
       "_model_module": "@jupyter-widgets/base",
       "_model_module_version": "1.2.0",
       "_model_name": "LayoutModel",
       "_view_count": null,
       "_view_module": "@jupyter-widgets/base",
       "_view_module_version": "1.2.0",
       "_view_name": "LayoutView",
       "align_content": null,
       "align_items": null,
       "align_self": null,
       "border": null,
       "bottom": null,
       "display": null,
       "flex": null,
       "flex_flow": null,
       "grid_area": null,
       "grid_auto_columns": null,
       "grid_auto_flow": null,
       "grid_auto_rows": null,
       "grid_column": null,
       "grid_gap": null,
       "grid_row": null,
       "grid_template_areas": null,
       "grid_template_columns": null,
       "grid_template_rows": null,
       "height": null,
       "justify_content": null,
       "justify_items": null,
       "left": null,
       "margin": null,
       "max_height": null,
       "max_width": null,
       "min_height": null,
       "min_width": null,
       "object_fit": null,
       "object_position": null,
       "order": null,
       "overflow": null,
       "overflow_x": null,
       "overflow_y": null,
       "padding": null,
       "right": null,
       "top": null,
       "visibility": null,
       "width": null
      }
     },
     "7f2dc10faf704bebb8bc0966b22352f9": {
      "model_module": "@jupyter-widgets/base",
      "model_module_version": "1.2.0",
      "model_name": "LayoutModel",
      "state": {
       "_model_module": "@jupyter-widgets/base",
       "_model_module_version": "1.2.0",
       "_model_name": "LayoutModel",
       "_view_count": null,
       "_view_module": "@jupyter-widgets/base",
       "_view_module_version": "1.2.0",
       "_view_name": "LayoutView",
       "align_content": null,
       "align_items": null,
       "align_self": null,
       "border": null,
       "bottom": null,
       "display": null,
       "flex": null,
       "flex_flow": null,
       "grid_area": null,
       "grid_auto_columns": null,
       "grid_auto_flow": null,
       "grid_auto_rows": null,
       "grid_column": null,
       "grid_gap": null,
       "grid_row": null,
       "grid_template_areas": null,
       "grid_template_columns": null,
       "grid_template_rows": null,
       "height": null,
       "justify_content": null,
       "justify_items": null,
       "left": null,
       "margin": null,
       "max_height": null,
       "max_width": null,
       "min_height": null,
       "min_width": null,
       "object_fit": null,
       "object_position": null,
       "order": null,
       "overflow": null,
       "overflow_x": null,
       "overflow_y": null,
       "padding": null,
       "right": null,
       "top": null,
       "visibility": null,
       "width": null
      }
     },
     "7f8f51bcd50747159af172ef8bcb6027": {
      "model_module": "@jupyter-widgets/controls",
      "model_module_version": "1.5.0",
      "model_name": "HBoxModel",
      "state": {
       "_dom_classes": [],
       "_model_module": "@jupyter-widgets/controls",
       "_model_module_version": "1.5.0",
       "_model_name": "HBoxModel",
       "_view_count": null,
       "_view_module": "@jupyter-widgets/controls",
       "_view_module_version": "1.5.0",
       "_view_name": "HBoxView",
       "box_style": "",
       "children": [
        "IPY_MODEL_b2633b44aef647758cf5ef341848d1af",
        "IPY_MODEL_ef5da42bf9e7461299d90f6839318bf1",
        "IPY_MODEL_9a65fdbea4384ff2bde19fef50bc935c"
       ],
       "layout": "IPY_MODEL_694da3d6c04a437394013248b055aaa7"
      }
     },
     "83a3f9eef85d4c85ab2ebd21f33db9c2": {
      "model_module": "@jupyter-widgets/controls",
      "model_module_version": "1.5.0",
      "model_name": "FloatProgressModel",
      "state": {
       "_dom_classes": [],
       "_model_module": "@jupyter-widgets/controls",
       "_model_module_version": "1.5.0",
       "_model_name": "FloatProgressModel",
       "_view_count": null,
       "_view_module": "@jupyter-widgets/controls",
       "_view_module_version": "1.5.0",
       "_view_name": "ProgressView",
       "bar_style": "success",
       "description": "",
       "description_tooltip": null,
       "layout": "IPY_MODEL_937e332d96fb4f54bcb0601b5849d9a7",
       "max": 2.0,
       "min": 0.0,
       "orientation": "horizontal",
       "style": "IPY_MODEL_e8e4f2af94094e479355f2d970c1eb8c",
       "value": 2.0
      }
     },
     "84b4f3c54d0a4f05977c3abff333436a": {
      "model_module": "@jupyter-widgets/controls",
      "model_module_version": "1.5.0",
      "model_name": "DescriptionStyleModel",
      "state": {
       "_model_module": "@jupyter-widgets/controls",
       "_model_module_version": "1.5.0",
       "_model_name": "DescriptionStyleModel",
       "_view_count": null,
       "_view_module": "@jupyter-widgets/base",
       "_view_module_version": "1.2.0",
       "_view_name": "StyleView",
       "description_width": ""
      }
     },
     "86ddd1c71e3048f69e30d393fb25811f": {
      "model_module": "@jupyter-widgets/controls",
      "model_module_version": "1.5.0",
      "model_name": "ProgressStyleModel",
      "state": {
       "_model_module": "@jupyter-widgets/controls",
       "_model_module_version": "1.5.0",
       "_model_name": "ProgressStyleModel",
       "_view_count": null,
       "_view_module": "@jupyter-widgets/base",
       "_view_module_version": "1.2.0",
       "_view_name": "StyleView",
       "bar_color": null,
       "description_width": ""
      }
     },
     "88f44f4ac3254a42bf663a2d3ce0186d": {
      "model_module": "@jupyter-widgets/controls",
      "model_module_version": "1.5.0",
      "model_name": "HTMLModel",
      "state": {
       "_dom_classes": [],
       "_model_module": "@jupyter-widgets/controls",
       "_model_module_version": "1.5.0",
       "_model_name": "HTMLModel",
       "_view_count": null,
       "_view_module": "@jupyter-widgets/controls",
       "_view_module_version": "1.5.0",
       "_view_name": "HTMLView",
       "description": "",
       "description_tooltip": null,
       "layout": "IPY_MODEL_28e06110cb714357a5c4d7af6dbf151a",
       "placeholder": "​",
       "style": "IPY_MODEL_65fe6235c6db41bc9e8ffa28a1e97217",
       "value": "modules.json: 100%"
      }
     },
     "8f47a0302e184d8e951b1c99490eea7a": {
      "model_module": "@jupyter-widgets/controls",
      "model_module_version": "1.5.0",
      "model_name": "DescriptionStyleModel",
      "state": {
       "_model_module": "@jupyter-widgets/controls",
       "_model_module_version": "1.5.0",
       "_model_name": "DescriptionStyleModel",
       "_view_count": null,
       "_view_module": "@jupyter-widgets/base",
       "_view_module_version": "1.2.0",
       "_view_name": "StyleView",
       "description_width": ""
      }
     },
     "90084c9e3d5045c6877ce19e24e20310": {
      "model_module": "@jupyter-widgets/controls",
      "model_module_version": "1.5.0",
      "model_name": "HBoxModel",
      "state": {
       "_dom_classes": [],
       "_model_module": "@jupyter-widgets/controls",
       "_model_module_version": "1.5.0",
       "_model_name": "HBoxModel",
       "_view_count": null,
       "_view_module": "@jupyter-widgets/controls",
       "_view_module_version": "1.5.0",
       "_view_name": "HBoxView",
       "box_style": "",
       "children": [
        "IPY_MODEL_a2ba8c2a339c417ca06ee6036b4a1e4c",
        "IPY_MODEL_51321eb72fe34b6aa2122c078291af48",
        "IPY_MODEL_457dca8f087e42369da14821fd31fbbd"
       ],
       "layout": "IPY_MODEL_f5a9e34f72e04754b25f4aeb9e93b85c"
      }
     },
     "937e332d96fb4f54bcb0601b5849d9a7": {
      "model_module": "@jupyter-widgets/base",
      "model_module_version": "1.2.0",
      "model_name": "LayoutModel",
      "state": {
       "_model_module": "@jupyter-widgets/base",
       "_model_module_version": "1.2.0",
       "_model_name": "LayoutModel",
       "_view_count": null,
       "_view_module": "@jupyter-widgets/base",
       "_view_module_version": "1.2.0",
       "_view_name": "LayoutView",
       "align_content": null,
       "align_items": null,
       "align_self": null,
       "border": null,
       "bottom": null,
       "display": null,
       "flex": null,
       "flex_flow": null,
       "grid_area": null,
       "grid_auto_columns": null,
       "grid_auto_flow": null,
       "grid_auto_rows": null,
       "grid_column": null,
       "grid_gap": null,
       "grid_row": null,
       "grid_template_areas": null,
       "grid_template_columns": null,
       "grid_template_rows": null,
       "height": null,
       "justify_content": null,
       "justify_items": null,
       "left": null,
       "margin": null,
       "max_height": null,
       "max_width": null,
       "min_height": null,
       "min_width": null,
       "object_fit": null,
       "object_position": null,
       "order": null,
       "overflow": null,
       "overflow_x": null,
       "overflow_y": null,
       "padding": null,
       "right": null,
       "top": null,
       "visibility": null,
       "width": null
      }
     },
     "9a65fdbea4384ff2bde19fef50bc935c": {
      "model_module": "@jupyter-widgets/controls",
      "model_module_version": "1.5.0",
      "model_name": "HTMLModel",
      "state": {
       "_dom_classes": [],
       "_model_module": "@jupyter-widgets/controls",
       "_model_module_version": "1.5.0",
       "_model_name": "HTMLModel",
       "_view_count": null,
       "_view_module": "@jupyter-widgets/controls",
       "_view_module_version": "1.5.0",
       "_view_name": "HTMLView",
       "description": "",
       "description_tooltip": null,
       "layout": "IPY_MODEL_3313808f9aab42969c3b246231a79617",
       "placeholder": "​",
       "style": "IPY_MODEL_7aea00547a8f4dec9934c1d2b9801fc4",
       "value": " 191/191 [00:00&lt;00:00, 16.4kB/s]"
      }
     },
     "9ce9ba64ba4841ec944252b0c7f5b063": {
      "model_module": "@jupyter-widgets/base",
      "model_module_version": "1.2.0",
      "model_name": "LayoutModel",
      "state": {
       "_model_module": "@jupyter-widgets/base",
       "_model_module_version": "1.2.0",
       "_model_name": "LayoutModel",
       "_view_count": null,
       "_view_module": "@jupyter-widgets/base",
       "_view_module_version": "1.2.0",
       "_view_name": "LayoutView",
       "align_content": null,
       "align_items": null,
       "align_self": null,
       "border": null,
       "bottom": null,
       "display": null,
       "flex": null,
       "flex_flow": null,
       "grid_area": null,
       "grid_auto_columns": null,
       "grid_auto_flow": null,
       "grid_auto_rows": null,
       "grid_column": null,
       "grid_gap": null,
       "grid_row": null,
       "grid_template_areas": null,
       "grid_template_columns": null,
       "grid_template_rows": null,
       "height": null,
       "justify_content": null,
       "justify_items": null,
       "left": null,
       "margin": null,
       "max_height": null,
       "max_width": null,
       "min_height": null,
       "min_width": null,
       "object_fit": null,
       "object_position": null,
       "order": null,
       "overflow": null,
       "overflow_x": null,
       "overflow_y": null,
       "padding": null,
       "right": null,
       "top": null,
       "visibility": null,
       "width": null
      }
     },
     "9d2353a254324e8396129adccfec5dc3": {
      "model_module": "@jupyter-widgets/controls",
      "model_module_version": "1.5.0",
      "model_name": "HBoxModel",
      "state": {
       "_dom_classes": [],
       "_model_module": "@jupyter-widgets/controls",
       "_model_module_version": "1.5.0",
       "_model_name": "HBoxModel",
       "_view_count": null,
       "_view_module": "@jupyter-widgets/controls",
       "_view_module_version": "1.5.0",
       "_view_name": "HBoxView",
       "box_style": "",
       "children": [
        "IPY_MODEL_0910b8ed8ede4a86b7f27ca3abb602e3",
        "IPY_MODEL_f3133e6feb75453ca4f458dc571bd4bd",
        "IPY_MODEL_9eb3bc1a01aa480199a92e97190ad7ad"
       ],
       "layout": "IPY_MODEL_ed42024a870f43ac93ab4d7f3d3ae3ff"
      }
     },
     "9eb3bc1a01aa480199a92e97190ad7ad": {
      "model_module": "@jupyter-widgets/controls",
      "model_module_version": "1.5.0",
      "model_name": "HTMLModel",
      "state": {
       "_dom_classes": [],
       "_model_module": "@jupyter-widgets/controls",
       "_model_module_version": "1.5.0",
       "_model_name": "HTMLModel",
       "_view_count": null,
       "_view_module": "@jupyter-widgets/controls",
       "_view_module_version": "1.5.0",
       "_view_name": "HTMLView",
       "description": "",
       "description_tooltip": null,
       "layout": "IPY_MODEL_1f20cfbba4a044e58ad379a8f6c51000",
       "placeholder": "​",
       "style": "IPY_MODEL_8f47a0302e184d8e951b1c99490eea7a",
       "value": " 67.9k/67.9k [00:00&lt;00:00, 174kB/s]"
      }
     },
     "9eef70aebf744820b797251cdb9d344c": {
      "model_module": "@jupyter-widgets/controls",
      "model_module_version": "1.5.0",
      "model_name": "HTMLModel",
      "state": {
       "_dom_classes": [],
       "_model_module": "@jupyter-widgets/controls",
       "_model_module_version": "1.5.0",
       "_model_name": "HTMLModel",
       "_view_count": null,
       "_view_module": "@jupyter-widgets/controls",
       "_view_module_version": "1.5.0",
       "_view_name": "HTMLView",
       "description": "",
       "description_tooltip": null,
       "layout": "IPY_MODEL_61d6802ac5c2419abe4573ef2495546c",
       "placeholder": "​",
       "style": "IPY_MODEL_d410deec2dfb4eadb1e9229a4629fdff",
       "value": "tokenizer.json: 100%"
      }
     },
     "a2ba8c2a339c417ca06ee6036b4a1e4c": {
      "model_module": "@jupyter-widgets/controls",
      "model_module_version": "1.5.0",
      "model_name": "HTMLModel",
      "state": {
       "_dom_classes": [],
       "_model_module": "@jupyter-widgets/controls",
       "_model_module_version": "1.5.0",
       "_model_name": "HTMLModel",
       "_view_count": null,
       "_view_module": "@jupyter-widgets/controls",
       "_view_module_version": "1.5.0",
       "_view_name": "HTMLView",
       "description": "",
       "description_tooltip": null,
       "layout": "IPY_MODEL_5080dbb3170a4a4883877ad458f9b733",
       "placeholder": "​",
       "style": "IPY_MODEL_c3b7791f78f84385ac32050812d15b2c",
       "value": "tokenizer_config.json: 100%"
      }
     },
     "a3f9fced78ab4d70b164238468de9894": {
      "model_module": "@jupyter-widgets/controls",
      "model_module_version": "1.5.0",
      "model_name": "HBoxModel",
      "state": {
       "_dom_classes": [],
       "_model_module": "@jupyter-widgets/controls",
       "_model_module_version": "1.5.0",
       "_model_name": "HBoxModel",
       "_view_count": null,
       "_view_module": "@jupyter-widgets/controls",
       "_view_module_version": "1.5.0",
       "_view_name": "HBoxView",
       "box_style": "",
       "children": [
        "IPY_MODEL_a4e6409234e44f8a86838c4d81dcbe2a",
        "IPY_MODEL_ee14bcc72895414eb432bcf9a9c324f1",
        "IPY_MODEL_73972c720078454e8ebd08292d038a51"
       ],
       "layout": "IPY_MODEL_da298df7a879408789902f0f2ecf71ff"
      }
     },
     "a4e6409234e44f8a86838c4d81dcbe2a": {
      "model_module": "@jupyter-widgets/controls",
      "model_module_version": "1.5.0",
      "model_name": "HTMLModel",
      "state": {
       "_dom_classes": [],
       "_model_module": "@jupyter-widgets/controls",
       "_model_module_version": "1.5.0",
       "_model_name": "HTMLModel",
       "_view_count": null,
       "_view_module": "@jupyter-widgets/controls",
       "_view_module_version": "1.5.0",
       "_view_name": "HTMLView",
       "description": "",
       "description_tooltip": null,
       "layout": "IPY_MODEL_cf18cd90f79a4b649f327b7c68670101",
       "placeholder": "​",
       "style": "IPY_MODEL_bda69af644224e688e6a4f988a12447f",
       "value": "model.safetensors: 100%"
      }
     },
     "a908f46fb4144481ad057477b44f8eb5": {
      "model_module": "@jupyter-widgets/controls",
      "model_module_version": "1.5.0",
      "model_name": "HTMLModel",
      "state": {
       "_dom_classes": [],
       "_model_module": "@jupyter-widgets/controls",
       "_model_module_version": "1.5.0",
       "_model_name": "HTMLModel",
       "_view_count": null,
       "_view_module": "@jupyter-widgets/controls",
       "_view_module_version": "1.5.0",
       "_view_name": "HTMLView",
       "description": "",
       "description_tooltip": null,
       "layout": "IPY_MODEL_70d39f6a08be44ad83ad4c3364004f0b",
       "placeholder": "​",
       "style": "IPY_MODEL_b110f1234ad740cb8c6f1371b0b69ae6",
       "value": "config.json: 100%"
      }
     },
     "a9aafe275d704c0bb7cb8d6104222bef": {
      "model_module": "@jupyter-widgets/controls",
      "model_module_version": "1.5.0",
      "model_name": "FloatProgressModel",
      "state": {
       "_dom_classes": [],
       "_model_module": "@jupyter-widgets/controls",
       "_model_module_version": "1.5.0",
       "_model_name": "FloatProgressModel",
       "_view_count": null,
       "_view_module": "@jupyter-widgets/controls",
       "_view_module_version": "1.5.0",
       "_view_name": "ProgressView",
       "bar_style": "success",
       "description": "",
       "description_tooltip": null,
       "layout": "IPY_MODEL_d27ca6e8c34b4898a71b1b9def54823e",
       "max": 57.0,
       "min": 0.0,
       "orientation": "horizontal",
       "style": "IPY_MODEL_aa8a28659568467fb391711d1b58c563",
       "value": 57.0
      }
     },
     "aa8a28659568467fb391711d1b58c563": {
      "model_module": "@jupyter-widgets/controls",
      "model_module_version": "1.5.0",
      "model_name": "ProgressStyleModel",
      "state": {
       "_model_module": "@jupyter-widgets/controls",
       "_model_module_version": "1.5.0",
       "_model_name": "ProgressStyleModel",
       "_view_count": null,
       "_view_module": "@jupyter-widgets/base",
       "_view_module_version": "1.2.0",
       "_view_name": "StyleView",
       "bar_color": null,
       "description_width": ""
      }
     },
     "abffd34fd08e488db194001b43dab97e": {
      "model_module": "@jupyter-widgets/controls",
      "model_module_version": "1.5.0",
      "model_name": "DescriptionStyleModel",
      "state": {
       "_model_module": "@jupyter-widgets/controls",
       "_model_module_version": "1.5.0",
       "_model_name": "DescriptionStyleModel",
       "_view_count": null,
       "_view_module": "@jupyter-widgets/base",
       "_view_module_version": "1.2.0",
       "_view_name": "StyleView",
       "description_width": ""
      }
     },
     "ae83104e24004bb98a91b49b48f16e62": {
      "model_module": "@jupyter-widgets/base",
      "model_module_version": "1.2.0",
      "model_name": "LayoutModel",
      "state": {
       "_model_module": "@jupyter-widgets/base",
       "_model_module_version": "1.2.0",
       "_model_name": "LayoutModel",
       "_view_count": null,
       "_view_module": "@jupyter-widgets/base",
       "_view_module_version": "1.2.0",
       "_view_name": "LayoutView",
       "align_content": null,
       "align_items": null,
       "align_self": null,
       "border": null,
       "bottom": null,
       "display": null,
       "flex": null,
       "flex_flow": null,
       "grid_area": null,
       "grid_auto_columns": null,
       "grid_auto_flow": null,
       "grid_auto_rows": null,
       "grid_column": null,
       "grid_gap": null,
       "grid_row": null,
       "grid_template_areas": null,
       "grid_template_columns": null,
       "grid_template_rows": null,
       "height": null,
       "justify_content": null,
       "justify_items": null,
       "left": null,
       "margin": null,
       "max_height": null,
       "max_width": null,
       "min_height": null,
       "min_width": null,
       "object_fit": null,
       "object_position": null,
       "order": null,
       "overflow": null,
       "overflow_x": null,
       "overflow_y": null,
       "padding": null,
       "right": null,
       "top": null,
       "visibility": null,
       "width": null
      }
     },
     "af16f7dca7b145b2836ae20e8db95fea": {
      "model_module": "@jupyter-widgets/base",
      "model_module_version": "1.2.0",
      "model_name": "LayoutModel",
      "state": {
       "_model_module": "@jupyter-widgets/base",
       "_model_module_version": "1.2.0",
       "_model_name": "LayoutModel",
       "_view_count": null,
       "_view_module": "@jupyter-widgets/base",
       "_view_module_version": "1.2.0",
       "_view_name": "LayoutView",
       "align_content": null,
       "align_items": null,
       "align_self": null,
       "border": null,
       "bottom": null,
       "display": null,
       "flex": null,
       "flex_flow": null,
       "grid_area": null,
       "grid_auto_columns": null,
       "grid_auto_flow": null,
       "grid_auto_rows": null,
       "grid_column": null,
       "grid_gap": null,
       "grid_row": null,
       "grid_template_areas": null,
       "grid_template_columns": null,
       "grid_template_rows": null,
       "height": null,
       "justify_content": null,
       "justify_items": null,
       "left": null,
       "margin": null,
       "max_height": null,
       "max_width": null,
       "min_height": null,
       "min_width": null,
       "object_fit": null,
       "object_position": null,
       "order": null,
       "overflow": null,
       "overflow_x": null,
       "overflow_y": null,
       "padding": null,
       "right": null,
       "top": null,
       "visibility": null,
       "width": null
      }
     },
     "b0e0d054bf4c4c73833487d4b9c9c98e": {
      "model_module": "@jupyter-widgets/base",
      "model_module_version": "1.2.0",
      "model_name": "LayoutModel",
      "state": {
       "_model_module": "@jupyter-widgets/base",
       "_model_module_version": "1.2.0",
       "_model_name": "LayoutModel",
       "_view_count": null,
       "_view_module": "@jupyter-widgets/base",
       "_view_module_version": "1.2.0",
       "_view_name": "LayoutView",
       "align_content": null,
       "align_items": null,
       "align_self": null,
       "border": null,
       "bottom": null,
       "display": null,
       "flex": null,
       "flex_flow": null,
       "grid_area": null,
       "grid_auto_columns": null,
       "grid_auto_flow": null,
       "grid_auto_rows": null,
       "grid_column": null,
       "grid_gap": null,
       "grid_row": null,
       "grid_template_areas": null,
       "grid_template_columns": null,
       "grid_template_rows": null,
       "height": null,
       "justify_content": null,
       "justify_items": null,
       "left": null,
       "margin": null,
       "max_height": null,
       "max_width": null,
       "min_height": null,
       "min_width": null,
       "object_fit": null,
       "object_position": null,
       "order": null,
       "overflow": null,
       "overflow_x": null,
       "overflow_y": null,
       "padding": null,
       "right": null,
       "top": null,
       "visibility": null,
       "width": null
      }
     },
     "b110f1234ad740cb8c6f1371b0b69ae6": {
      "model_module": "@jupyter-widgets/controls",
      "model_module_version": "1.5.0",
      "model_name": "DescriptionStyleModel",
      "state": {
       "_model_module": "@jupyter-widgets/controls",
       "_model_module_version": "1.5.0",
       "_model_name": "DescriptionStyleModel",
       "_view_count": null,
       "_view_module": "@jupyter-widgets/base",
       "_view_module_version": "1.2.0",
       "_view_name": "StyleView",
       "description_width": ""
      }
     },
     "b138d977ca534f5da07c6eb9daafbba8": {
      "model_module": "@jupyter-widgets/controls",
      "model_module_version": "1.5.0",
      "model_name": "FloatProgressModel",
      "state": {
       "_dom_classes": [],
       "_model_module": "@jupyter-widgets/controls",
       "_model_module_version": "1.5.0",
       "_model_name": "FloatProgressModel",
       "_view_count": null,
       "_view_module": "@jupyter-widgets/controls",
       "_view_module_version": "1.5.0",
       "_view_name": "ProgressView",
       "bar_style": "success",
       "description": "",
       "description_tooltip": null,
       "layout": "IPY_MODEL_2a7540f42fb54da08e328ffd8f165125",
       "max": 385.0,
       "min": 0.0,
       "orientation": "horizontal",
       "style": "IPY_MODEL_4add4c99d38542618b17636aa3c3f0a6",
       "value": 385.0
      }
     },
     "b1e43b656d0a45479ccb47e8b05e1ee3": {
      "model_module": "@jupyter-widgets/base",
      "model_module_version": "1.2.0",
      "model_name": "LayoutModel",
      "state": {
       "_model_module": "@jupyter-widgets/base",
       "_model_module_version": "1.2.0",
       "_model_name": "LayoutModel",
       "_view_count": null,
       "_view_module": "@jupyter-widgets/base",
       "_view_module_version": "1.2.0",
       "_view_name": "LayoutView",
       "align_content": null,
       "align_items": null,
       "align_self": null,
       "border": null,
       "bottom": null,
       "display": null,
       "flex": null,
       "flex_flow": null,
       "grid_area": null,
       "grid_auto_columns": null,
       "grid_auto_flow": null,
       "grid_auto_rows": null,
       "grid_column": null,
       "grid_gap": null,
       "grid_row": null,
       "grid_template_areas": null,
       "grid_template_columns": null,
       "grid_template_rows": null,
       "height": null,
       "justify_content": null,
       "justify_items": null,
       "left": null,
       "margin": null,
       "max_height": null,
       "max_width": null,
       "min_height": null,
       "min_width": null,
       "object_fit": null,
       "object_position": null,
       "order": null,
       "overflow": null,
       "overflow_x": null,
       "overflow_y": null,
       "padding": null,
       "right": null,
       "top": null,
       "visibility": null,
       "width": null
      }
     },
     "b2633b44aef647758cf5ef341848d1af": {
      "model_module": "@jupyter-widgets/controls",
      "model_module_version": "1.5.0",
      "model_name": "HTMLModel",
      "state": {
       "_dom_classes": [],
       "_model_module": "@jupyter-widgets/controls",
       "_model_module_version": "1.5.0",
       "_model_name": "HTMLModel",
       "_view_count": null,
       "_view_module": "@jupyter-widgets/controls",
       "_view_module_version": "1.5.0",
       "_view_name": "HTMLView",
       "description": "",
       "description_tooltip": null,
       "layout": "IPY_MODEL_b0e0d054bf4c4c73833487d4b9c9c98e",
       "placeholder": "​",
       "style": "IPY_MODEL_eb18b6f27b954bf4acb8e1672e68a61b",
       "value": "1_Pooling/config.json: 100%"
      }
     },
     "b2e135a7895f4be4a4c598dffc8a6dfc": {
      "model_module": "@jupyter-widgets/controls",
      "model_module_version": "1.5.0",
      "model_name": "DescriptionStyleModel",
      "state": {
       "_model_module": "@jupyter-widgets/controls",
       "_model_module_version": "1.5.0",
       "_model_name": "DescriptionStyleModel",
       "_view_count": null,
       "_view_module": "@jupyter-widgets/base",
       "_view_module_version": "1.2.0",
       "_view_name": "StyleView",
       "description_width": ""
      }
     },
     "b53d0a0bd89544f6a176df3ae6829df9": {
      "model_module": "@jupyter-widgets/controls",
      "model_module_version": "1.5.0",
      "model_name": "FloatProgressModel",
      "state": {
       "_dom_classes": [],
       "_model_module": "@jupyter-widgets/controls",
       "_model_module_version": "1.5.0",
       "_model_name": "FloatProgressModel",
       "_view_count": null,
       "_view_module": "@jupyter-widgets/controls",
       "_view_module_version": "1.5.0",
       "_view_name": "ProgressView",
       "bar_style": "success",
       "description": "",
       "description_tooltip": null,
       "layout": "IPY_MODEL_7c35c46a14f8465fa62118e30e552686",
       "max": 231508.0,
       "min": 0.0,
       "orientation": "horizontal",
       "style": "IPY_MODEL_e408c2653622495399a47698047ca525",
       "value": 231508.0
      }
     },
     "b9d655413cc6486dbf29649a25f2c8be": {
      "model_module": "@jupyter-widgets/controls",
      "model_module_version": "1.5.0",
      "model_name": "FloatProgressModel",
      "state": {
       "_dom_classes": [],
       "_model_module": "@jupyter-widgets/controls",
       "_model_module_version": "1.5.0",
       "_model_name": "FloatProgressModel",
       "_view_count": null,
       "_view_module": "@jupyter-widgets/controls",
       "_view_module_version": "1.5.0",
       "_view_name": "ProgressView",
       "bar_style": "success",
       "description": "",
       "description_tooltip": null,
       "layout": "IPY_MODEL_59fb59ce315e47f1b52609c261551c51",
       "max": 711661.0,
       "min": 0.0,
       "orientation": "horizontal",
       "style": "IPY_MODEL_fc7f96584b4641b0a1e51acb4e54cfa7",
       "value": 711661.0
      }
     },
     "baa7b772101846a39c8555071a93433d": {
      "model_module": "@jupyter-widgets/controls",
      "model_module_version": "1.5.0",
      "model_name": "HBoxModel",
      "state": {
       "_dom_classes": [],
       "_model_module": "@jupyter-widgets/controls",
       "_model_module_version": "1.5.0",
       "_model_name": "HBoxModel",
       "_view_count": null,
       "_view_module": "@jupyter-widgets/controls",
       "_view_module_version": "1.5.0",
       "_view_name": "HBoxView",
       "box_style": "",
       "children": [
        "IPY_MODEL_2e1f700ca5a041bf84546fa0496635c3",
        "IPY_MODEL_2b461f7c0bce4a5391f6be8c8ca75572",
        "IPY_MODEL_c041f8c5ba03430b819ce2a2c3aa03b2"
       ],
       "layout": "IPY_MODEL_3f5c90f2093e4b1d980e8dc05b866968"
      }
     },
     "bda69af644224e688e6a4f988a12447f": {
      "model_module": "@jupyter-widgets/controls",
      "model_module_version": "1.5.0",
      "model_name": "DescriptionStyleModel",
      "state": {
       "_model_module": "@jupyter-widgets/controls",
       "_model_module_version": "1.5.0",
       "_model_name": "DescriptionStyleModel",
       "_view_count": null,
       "_view_module": "@jupyter-widgets/base",
       "_view_module_version": "1.2.0",
       "_view_name": "StyleView",
       "description_width": ""
      }
     },
     "bfcd33e935d445ef8c8de47e80e842b3": {
      "model_module": "@jupyter-widgets/base",
      "model_module_version": "1.2.0",
      "model_name": "LayoutModel",
      "state": {
       "_model_module": "@jupyter-widgets/base",
       "_model_module_version": "1.2.0",
       "_model_name": "LayoutModel",
       "_view_count": null,
       "_view_module": "@jupyter-widgets/base",
       "_view_module_version": "1.2.0",
       "_view_name": "LayoutView",
       "align_content": null,
       "align_items": null,
       "align_self": null,
       "border": null,
       "bottom": null,
       "display": null,
       "flex": null,
       "flex_flow": null,
       "grid_area": null,
       "grid_auto_columns": null,
       "grid_auto_flow": null,
       "grid_auto_rows": null,
       "grid_column": null,
       "grid_gap": null,
       "grid_row": null,
       "grid_template_areas": null,
       "grid_template_columns": null,
       "grid_template_rows": null,
       "height": null,
       "justify_content": null,
       "justify_items": null,
       "left": null,
       "margin": null,
       "max_height": null,
       "max_width": null,
       "min_height": null,
       "min_width": null,
       "object_fit": null,
       "object_position": null,
       "order": null,
       "overflow": null,
       "overflow_x": null,
       "overflow_y": null,
       "padding": null,
       "right": null,
       "top": null,
       "visibility": null,
       "width": null
      }
     },
     "c041f8c5ba03430b819ce2a2c3aa03b2": {
      "model_module": "@jupyter-widgets/controls",
      "model_module_version": "1.5.0",
      "model_name": "HTMLModel",
      "state": {
       "_dom_classes": [],
       "_model_module": "@jupyter-widgets/controls",
       "_model_module_version": "1.5.0",
       "_model_name": "HTMLModel",
       "_view_count": null,
       "_view_module": "@jupyter-widgets/controls",
       "_view_module_version": "1.5.0",
       "_view_name": "HTMLView",
       "description": "",
       "description_tooltip": null,
       "layout": "IPY_MODEL_b1e43b656d0a45479ccb47e8b05e1ee3",
       "placeholder": "​",
       "style": "IPY_MODEL_267c7903e1984a37a746080aa9611279",
       "value": " 125/125 [00:00&lt;00:00, 11.1kB/s]"
      }
     },
     "c3b7791f78f84385ac32050812d15b2c": {
      "model_module": "@jupyter-widgets/controls",
      "model_module_version": "1.5.0",
      "model_name": "DescriptionStyleModel",
      "state": {
       "_model_module": "@jupyter-widgets/controls",
       "_model_module_version": "1.5.0",
       "_model_name": "DescriptionStyleModel",
       "_view_count": null,
       "_view_module": "@jupyter-widgets/base",
       "_view_module_version": "1.2.0",
       "_view_name": "StyleView",
       "description_width": ""
      }
     },
     "cb2b86fb99944b93ad4277eab43bdad5": {
      "model_module": "@jupyter-widgets/controls",
      "model_module_version": "1.5.0",
      "model_name": "HTMLModel",
      "state": {
       "_dom_classes": [],
       "_model_module": "@jupyter-widgets/controls",
       "_model_module_version": "1.5.0",
       "_model_name": "HTMLModel",
       "_view_count": null,
       "_view_module": "@jupyter-widgets/controls",
       "_view_module_version": "1.5.0",
       "_view_name": "HTMLView",
       "description": "",
       "description_tooltip": null,
       "layout": "IPY_MODEL_23c5767535a14e1a936f2803e6135982",
       "placeholder": "​",
       "style": "IPY_MODEL_1278e737c79b4639a5969764da7add55",
       "value": "Loading checkpoint shards: 100%"
      }
     },
     "cd4c24bf7a894e17ae479f94736141ae": {
      "model_module": "@jupyter-widgets/controls",
      "model_module_version": "1.5.0",
      "model_name": "DescriptionStyleModel",
      "state": {
       "_model_module": "@jupyter-widgets/controls",
       "_model_module_version": "1.5.0",
       "_model_name": "DescriptionStyleModel",
       "_view_count": null,
       "_view_module": "@jupyter-widgets/base",
       "_view_module_version": "1.2.0",
       "_view_name": "StyleView",
       "description_width": ""
      }
     },
     "cd52b262a39243b09d7de12c4d80ac33": {
      "model_module": "@jupyter-widgets/controls",
      "model_module_version": "1.5.0",
      "model_name": "DescriptionStyleModel",
      "state": {
       "_model_module": "@jupyter-widgets/controls",
       "_model_module_version": "1.5.0",
       "_model_name": "DescriptionStyleModel",
       "_view_count": null,
       "_view_module": "@jupyter-widgets/base",
       "_view_module_version": "1.2.0",
       "_view_name": "StyleView",
       "description_width": ""
      }
     },
     "cd7bfb4be844444190d6e55275ed04d6": {
      "model_module": "@jupyter-widgets/controls",
      "model_module_version": "1.5.0",
      "model_name": "HBoxModel",
      "state": {
       "_dom_classes": [],
       "_model_module": "@jupyter-widgets/controls",
       "_model_module_version": "1.5.0",
       "_model_name": "HBoxModel",
       "_view_count": null,
       "_view_module": "@jupyter-widgets/controls",
       "_view_module_version": "1.5.0",
       "_view_name": "HBoxView",
       "box_style": "",
       "children": [
        "IPY_MODEL_229912c7374245b0ae3820eabda1790e",
        "IPY_MODEL_a9aafe275d704c0bb7cb8d6104222bef",
        "IPY_MODEL_30713be059c54edfb39410a3d9fdcf0f"
       ],
       "layout": "IPY_MODEL_74513005e58b4d2dba30755077717f82"
      }
     },
     "cf18cd90f79a4b649f327b7c68670101": {
      "model_module": "@jupyter-widgets/base",
      "model_module_version": "1.2.0",
      "model_name": "LayoutModel",
      "state": {
       "_model_module": "@jupyter-widgets/base",
       "_model_module_version": "1.2.0",
       "_model_name": "LayoutModel",
       "_view_count": null,
       "_view_module": "@jupyter-widgets/base",
       "_view_module_version": "1.2.0",
       "_view_name": "LayoutView",
       "align_content": null,
       "align_items": null,
       "align_self": null,
       "border": null,
       "bottom": null,
       "display": null,
       "flex": null,
       "flex_flow": null,
       "grid_area": null,
       "grid_auto_columns": null,
       "grid_auto_flow": null,
       "grid_auto_rows": null,
       "grid_column": null,
       "grid_gap": null,
       "grid_row": null,
       "grid_template_areas": null,
       "grid_template_columns": null,
       "grid_template_rows": null,
       "height": null,
       "justify_content": null,
       "justify_items": null,
       "left": null,
       "margin": null,
       "max_height": null,
       "max_width": null,
       "min_height": null,
       "min_width": null,
       "object_fit": null,
       "object_position": null,
       "order": null,
       "overflow": null,
       "overflow_x": null,
       "overflow_y": null,
       "padding": null,
       "right": null,
       "top": null,
       "visibility": null,
       "width": null
      }
     },
     "d27ca6e8c34b4898a71b1b9def54823e": {
      "model_module": "@jupyter-widgets/base",
      "model_module_version": "1.2.0",
      "model_name": "LayoutModel",
      "state": {
       "_model_module": "@jupyter-widgets/base",
       "_model_module_version": "1.2.0",
       "_model_name": "LayoutModel",
       "_view_count": null,
       "_view_module": "@jupyter-widgets/base",
       "_view_module_version": "1.2.0",
       "_view_name": "LayoutView",
       "align_content": null,
       "align_items": null,
       "align_self": null,
       "border": null,
       "bottom": null,
       "display": null,
       "flex": null,
       "flex_flow": null,
       "grid_area": null,
       "grid_auto_columns": null,
       "grid_auto_flow": null,
       "grid_auto_rows": null,
       "grid_column": null,
       "grid_gap": null,
       "grid_row": null,
       "grid_template_areas": null,
       "grid_template_columns": null,
       "grid_template_rows": null,
       "height": null,
       "justify_content": null,
       "justify_items": null,
       "left": null,
       "margin": null,
       "max_height": null,
       "max_width": null,
       "min_height": null,
       "min_width": null,
       "object_fit": null,
       "object_position": null,
       "order": null,
       "overflow": null,
       "overflow_x": null,
       "overflow_y": null,
       "padding": null,
       "right": null,
       "top": null,
       "visibility": null,
       "width": null
      }
     },
     "d2e0a45cfbfc491b99e7ab1687538182": {
      "model_module": "@jupyter-widgets/base",
      "model_module_version": "1.2.0",
      "model_name": "LayoutModel",
      "state": {
       "_model_module": "@jupyter-widgets/base",
       "_model_module_version": "1.2.0",
       "_model_name": "LayoutModel",
       "_view_count": null,
       "_view_module": "@jupyter-widgets/base",
       "_view_module_version": "1.2.0",
       "_view_name": "LayoutView",
       "align_content": null,
       "align_items": null,
       "align_self": null,
       "border": null,
       "bottom": null,
       "display": null,
       "flex": null,
       "flex_flow": null,
       "grid_area": null,
       "grid_auto_columns": null,
       "grid_auto_flow": null,
       "grid_auto_rows": null,
       "grid_column": null,
       "grid_gap": null,
       "grid_row": null,
       "grid_template_areas": null,
       "grid_template_columns": null,
       "grid_template_rows": null,
       "height": null,
       "justify_content": null,
       "justify_items": null,
       "left": null,
       "margin": null,
       "max_height": null,
       "max_width": null,
       "min_height": null,
       "min_width": null,
       "object_fit": null,
       "object_position": null,
       "order": null,
       "overflow": null,
       "overflow_x": null,
       "overflow_y": null,
       "padding": null,
       "right": null,
       "top": null,
       "visibility": null,
       "width": null
      }
     },
     "d410deec2dfb4eadb1e9229a4629fdff": {
      "model_module": "@jupyter-widgets/controls",
      "model_module_version": "1.5.0",
      "model_name": "DescriptionStyleModel",
      "state": {
       "_model_module": "@jupyter-widgets/controls",
       "_model_module_version": "1.5.0",
       "_model_name": "DescriptionStyleModel",
       "_view_count": null,
       "_view_module": "@jupyter-widgets/base",
       "_view_module_version": "1.2.0",
       "_view_name": "StyleView",
       "description_width": ""
      }
     },
     "d6bf59df0d6a496dafd468ed991fc872": {
      "model_module": "@jupyter-widgets/base",
      "model_module_version": "1.2.0",
      "model_name": "LayoutModel",
      "state": {
       "_model_module": "@jupyter-widgets/base",
       "_model_module_version": "1.2.0",
       "_model_name": "LayoutModel",
       "_view_count": null,
       "_view_module": "@jupyter-widgets/base",
       "_view_module_version": "1.2.0",
       "_view_name": "LayoutView",
       "align_content": null,
       "align_items": null,
       "align_self": null,
       "border": null,
       "bottom": null,
       "display": null,
       "flex": null,
       "flex_flow": null,
       "grid_area": null,
       "grid_auto_columns": null,
       "grid_auto_flow": null,
       "grid_auto_rows": null,
       "grid_column": null,
       "grid_gap": null,
       "grid_row": null,
       "grid_template_areas": null,
       "grid_template_columns": null,
       "grid_template_rows": null,
       "height": null,
       "justify_content": null,
       "justify_items": null,
       "left": null,
       "margin": null,
       "max_height": null,
       "max_width": null,
       "min_height": null,
       "min_width": null,
       "object_fit": null,
       "object_position": null,
       "order": null,
       "overflow": null,
       "overflow_x": null,
       "overflow_y": null,
       "padding": null,
       "right": null,
       "top": null,
       "visibility": null,
       "width": null
      }
     },
     "da298df7a879408789902f0f2ecf71ff": {
      "model_module": "@jupyter-widgets/base",
      "model_module_version": "1.2.0",
      "model_name": "LayoutModel",
      "state": {
       "_model_module": "@jupyter-widgets/base",
       "_model_module_version": "1.2.0",
       "_model_name": "LayoutModel",
       "_view_count": null,
       "_view_module": "@jupyter-widgets/base",
       "_view_module_version": "1.2.0",
       "_view_name": "LayoutView",
       "align_content": null,
       "align_items": null,
       "align_self": null,
       "border": null,
       "bottom": null,
       "display": null,
       "flex": null,
       "flex_flow": null,
       "grid_area": null,
       "grid_auto_columns": null,
       "grid_auto_flow": null,
       "grid_auto_rows": null,
       "grid_column": null,
       "grid_gap": null,
       "grid_row": null,
       "grid_template_areas": null,
       "grid_template_columns": null,
       "grid_template_rows": null,
       "height": null,
       "justify_content": null,
       "justify_items": null,
       "left": null,
       "margin": null,
       "max_height": null,
       "max_width": null,
       "min_height": null,
       "min_width": null,
       "object_fit": null,
       "object_position": null,
       "order": null,
       "overflow": null,
       "overflow_x": null,
       "overflow_y": null,
       "padding": null,
       "right": null,
       "top": null,
       "visibility": null,
       "width": null
      }
     },
     "db11bdb91db44d1a978fea3409cd940c": {
      "model_module": "@jupyter-widgets/base",
      "model_module_version": "1.2.0",
      "model_name": "LayoutModel",
      "state": {
       "_model_module": "@jupyter-widgets/base",
       "_model_module_version": "1.2.0",
       "_model_name": "LayoutModel",
       "_view_count": null,
       "_view_module": "@jupyter-widgets/base",
       "_view_module_version": "1.2.0",
       "_view_name": "LayoutView",
       "align_content": null,
       "align_items": null,
       "align_self": null,
       "border": null,
       "bottom": null,
       "display": null,
       "flex": null,
       "flex_flow": null,
       "grid_area": null,
       "grid_auto_columns": null,
       "grid_auto_flow": null,
       "grid_auto_rows": null,
       "grid_column": null,
       "grid_gap": null,
       "grid_row": null,
       "grid_template_areas": null,
       "grid_template_columns": null,
       "grid_template_rows": null,
       "height": null,
       "justify_content": null,
       "justify_items": null,
       "left": null,
       "margin": null,
       "max_height": null,
       "max_width": null,
       "min_height": null,
       "min_width": null,
       "object_fit": null,
       "object_position": null,
       "order": null,
       "overflow": null,
       "overflow_x": null,
       "overflow_y": null,
       "padding": null,
       "right": null,
       "top": null,
       "visibility": null,
       "width": null
      }
     },
     "e408c2653622495399a47698047ca525": {
      "model_module": "@jupyter-widgets/controls",
      "model_module_version": "1.5.0",
      "model_name": "ProgressStyleModel",
      "state": {
       "_model_module": "@jupyter-widgets/controls",
       "_model_module_version": "1.5.0",
       "_model_name": "ProgressStyleModel",
       "_view_count": null,
       "_view_module": "@jupyter-widgets/base",
       "_view_module_version": "1.2.0",
       "_view_name": "StyleView",
       "bar_color": null,
       "description_width": ""
      }
     },
     "e4d8af625af3498bbadd9fed49345358": {
      "model_module": "@jupyter-widgets/controls",
      "model_module_version": "1.5.0",
      "model_name": "HTMLModel",
      "state": {
       "_dom_classes": [],
       "_model_module": "@jupyter-widgets/controls",
       "_model_module_version": "1.5.0",
       "_model_name": "HTMLModel",
       "_view_count": null,
       "_view_module": "@jupyter-widgets/controls",
       "_view_module_version": "1.5.0",
       "_view_name": "HTMLView",
       "description": "",
       "description_tooltip": null,
       "layout": "IPY_MODEL_ae83104e24004bb98a91b49b48f16e62",
       "placeholder": "​",
       "style": "IPY_MODEL_abffd34fd08e488db194001b43dab97e",
       "value": " 712k/712k [00:01&lt;00:00, 613kB/s]"
      }
     },
     "e648f6588d3b4ad3b3a0b909d19d7c23": {
      "model_module": "@jupyter-widgets/controls",
      "model_module_version": "1.5.0",
      "model_name": "ProgressStyleModel",
      "state": {
       "_model_module": "@jupyter-widgets/controls",
       "_model_module_version": "1.5.0",
       "_model_name": "ProgressStyleModel",
       "_view_count": null,
       "_view_module": "@jupyter-widgets/base",
       "_view_module_version": "1.2.0",
       "_view_name": "StyleView",
       "bar_color": null,
       "description_width": ""
      }
     },
     "e6654dae5f2f45ccb799d9097e09e010": {
      "model_module": "@jupyter-widgets/controls",
      "model_module_version": "1.5.0",
      "model_name": "DescriptionStyleModel",
      "state": {
       "_model_module": "@jupyter-widgets/controls",
       "_model_module_version": "1.5.0",
       "_model_name": "DescriptionStyleModel",
       "_view_count": null,
       "_view_module": "@jupyter-widgets/base",
       "_view_module_version": "1.2.0",
       "_view_name": "StyleView",
       "description_width": ""
      }
     },
     "e7945d58751f4957bc78efdb31cbc526": {
      "model_module": "@jupyter-widgets/base",
      "model_module_version": "1.2.0",
      "model_name": "LayoutModel",
      "state": {
       "_model_module": "@jupyter-widgets/base",
       "_model_module_version": "1.2.0",
       "_model_name": "LayoutModel",
       "_view_count": null,
       "_view_module": "@jupyter-widgets/base",
       "_view_module_version": "1.2.0",
       "_view_name": "LayoutView",
       "align_content": null,
       "align_items": null,
       "align_self": null,
       "border": null,
       "bottom": null,
       "display": null,
       "flex": null,
       "flex_flow": null,
       "grid_area": null,
       "grid_auto_columns": null,
       "grid_auto_flow": null,
       "grid_auto_rows": null,
       "grid_column": null,
       "grid_gap": null,
       "grid_row": null,
       "grid_template_areas": null,
       "grid_template_columns": null,
       "grid_template_rows": null,
       "height": null,
       "justify_content": null,
       "justify_items": null,
       "left": null,
       "margin": null,
       "max_height": null,
       "max_width": null,
       "min_height": null,
       "min_width": null,
       "object_fit": null,
       "object_position": null,
       "order": null,
       "overflow": null,
       "overflow_x": null,
       "overflow_y": null,
       "padding": null,
       "right": null,
       "top": null,
       "visibility": null,
       "width": null
      }
     },
     "e8c915adc665499cb6864de0b8f561f5": {
      "model_module": "@jupyter-widgets/controls",
      "model_module_version": "1.5.0",
      "model_name": "HBoxModel",
      "state": {
       "_dom_classes": [],
       "_model_module": "@jupyter-widgets/controls",
       "_model_module_version": "1.5.0",
       "_model_name": "HBoxModel",
       "_view_count": null,
       "_view_module": "@jupyter-widgets/controls",
       "_view_module_version": "1.5.0",
       "_view_name": "HBoxView",
       "box_style": "",
       "children": [
        "IPY_MODEL_ecd3930e8d5545a4b4223b995d4abbbe",
        "IPY_MODEL_b53d0a0bd89544f6a176df3ae6829df9",
        "IPY_MODEL_5121ebb157224526bb3a8bb4e38f60ea"
       ],
       "layout": "IPY_MODEL_52ede2f391754924b6b81c3018b68244"
      }
     },
     "e8e4f2af94094e479355f2d970c1eb8c": {
      "model_module": "@jupyter-widgets/controls",
      "model_module_version": "1.5.0",
      "model_name": "ProgressStyleModel",
      "state": {
       "_model_module": "@jupyter-widgets/controls",
       "_model_module_version": "1.5.0",
       "_model_name": "ProgressStyleModel",
       "_view_count": null,
       "_view_module": "@jupyter-widgets/base",
       "_view_module_version": "1.2.0",
       "_view_name": "StyleView",
       "bar_color": null,
       "description_width": ""
      }
     },
     "e9ddc6150db6461d9cc89683d30e4a2e": {
      "model_module": "@jupyter-widgets/base",
      "model_module_version": "1.2.0",
      "model_name": "LayoutModel",
      "state": {
       "_model_module": "@jupyter-widgets/base",
       "_model_module_version": "1.2.0",
       "_model_name": "LayoutModel",
       "_view_count": null,
       "_view_module": "@jupyter-widgets/base",
       "_view_module_version": "1.2.0",
       "_view_name": "LayoutView",
       "align_content": null,
       "align_items": null,
       "align_self": null,
       "border": null,
       "bottom": null,
       "display": null,
       "flex": null,
       "flex_flow": null,
       "grid_area": null,
       "grid_auto_columns": null,
       "grid_auto_flow": null,
       "grid_auto_rows": null,
       "grid_column": null,
       "grid_gap": null,
       "grid_row": null,
       "grid_template_areas": null,
       "grid_template_columns": null,
       "grid_template_rows": null,
       "height": null,
       "justify_content": null,
       "justify_items": null,
       "left": null,
       "margin": null,
       "max_height": null,
       "max_width": null,
       "min_height": null,
       "min_width": null,
       "object_fit": null,
       "object_position": null,
       "order": null,
       "overflow": null,
       "overflow_x": null,
       "overflow_y": null,
       "padding": null,
       "right": null,
       "top": null,
       "visibility": null,
       "width": null
      }
     },
     "eb18b6f27b954bf4acb8e1672e68a61b": {
      "model_module": "@jupyter-widgets/controls",
      "model_module_version": "1.5.0",
      "model_name": "DescriptionStyleModel",
      "state": {
       "_model_module": "@jupyter-widgets/controls",
       "_model_module_version": "1.5.0",
       "_model_name": "DescriptionStyleModel",
       "_view_count": null,
       "_view_module": "@jupyter-widgets/base",
       "_view_module_version": "1.2.0",
       "_view_name": "StyleView",
       "description_width": ""
      }
     },
     "ecd3930e8d5545a4b4223b995d4abbbe": {
      "model_module": "@jupyter-widgets/controls",
      "model_module_version": "1.5.0",
      "model_name": "HTMLModel",
      "state": {
       "_dom_classes": [],
       "_model_module": "@jupyter-widgets/controls",
       "_model_module_version": "1.5.0",
       "_model_name": "HTMLModel",
       "_view_count": null,
       "_view_module": "@jupyter-widgets/controls",
       "_view_module_version": "1.5.0",
       "_view_name": "HTMLView",
       "description": "",
       "description_tooltip": null,
       "layout": "IPY_MODEL_e9ddc6150db6461d9cc89683d30e4a2e",
       "placeholder": "​",
       "style": "IPY_MODEL_cd4c24bf7a894e17ae479f94736141ae",
       "value": "vocab.txt: 100%"
      }
     },
     "ed42024a870f43ac93ab4d7f3d3ae3ff": {
      "model_module": "@jupyter-widgets/base",
      "model_module_version": "1.2.0",
      "model_name": "LayoutModel",
      "state": {
       "_model_module": "@jupyter-widgets/base",
       "_model_module_version": "1.2.0",
       "_model_name": "LayoutModel",
       "_view_count": null,
       "_view_module": "@jupyter-widgets/base",
       "_view_module_version": "1.2.0",
       "_view_name": "LayoutView",
       "align_content": null,
       "align_items": null,
       "align_self": null,
       "border": null,
       "bottom": null,
       "display": null,
       "flex": null,
       "flex_flow": null,
       "grid_area": null,
       "grid_auto_columns": null,
       "grid_auto_flow": null,
       "grid_auto_rows": null,
       "grid_column": null,
       "grid_gap": null,
       "grid_row": null,
       "grid_template_areas": null,
       "grid_template_columns": null,
       "grid_template_rows": null,
       "height": null,
       "justify_content": null,
       "justify_items": null,
       "left": null,
       "margin": null,
       "max_height": null,
       "max_width": null,
       "min_height": null,
       "min_width": null,
       "object_fit": null,
       "object_position": null,
       "order": null,
       "overflow": null,
       "overflow_x": null,
       "overflow_y": null,
       "padding": null,
       "right": null,
       "top": null,
       "visibility": null,
       "width": null
      }
     },
     "ee14bcc72895414eb432bcf9a9c324f1": {
      "model_module": "@jupyter-widgets/controls",
      "model_module_version": "1.5.0",
      "model_name": "FloatProgressModel",
      "state": {
       "_dom_classes": [],
       "_model_module": "@jupyter-widgets/controls",
       "_model_module_version": "1.5.0",
       "_model_name": "FloatProgressModel",
       "_view_count": null,
       "_view_module": "@jupyter-widgets/controls",
       "_view_module_version": "1.5.0",
       "_view_name": "ProgressView",
       "bar_style": "success",
       "description": "",
       "description_tooltip": null,
       "layout": "IPY_MODEL_d2e0a45cfbfc491b99e7ab1687538182",
       "max": 670332568.0,
       "min": 0.0,
       "orientation": "horizontal",
       "style": "IPY_MODEL_f5ed9675be294ac783f05a6ff6fd8be0",
       "value": 670332568.0
      }
     },
     "ef5da42bf9e7461299d90f6839318bf1": {
      "model_module": "@jupyter-widgets/controls",
      "model_module_version": "1.5.0",
      "model_name": "FloatProgressModel",
      "state": {
       "_dom_classes": [],
       "_model_module": "@jupyter-widgets/controls",
       "_model_module_version": "1.5.0",
       "_model_name": "FloatProgressModel",
       "_view_count": null,
       "_view_module": "@jupyter-widgets/controls",
       "_view_module_version": "1.5.0",
       "_view_name": "ProgressView",
       "bar_style": "success",
       "description": "",
       "description_tooltip": null,
       "layout": "IPY_MODEL_db11bdb91db44d1a978fea3409cd940c",
       "max": 191.0,
       "min": 0.0,
       "orientation": "horizontal",
       "style": "IPY_MODEL_86ddd1c71e3048f69e30d393fb25811f",
       "value": 191.0
      }
     },
     "f3133e6feb75453ca4f458dc571bd4bd": {
      "model_module": "@jupyter-widgets/controls",
      "model_module_version": "1.5.0",
      "model_name": "FloatProgressModel",
      "state": {
       "_dom_classes": [],
       "_model_module": "@jupyter-widgets/controls",
       "_model_module_version": "1.5.0",
       "_model_name": "FloatProgressModel",
       "_view_count": null,
       "_view_module": "@jupyter-widgets/controls",
       "_view_module_version": "1.5.0",
       "_view_name": "ProgressView",
       "bar_style": "success",
       "description": "",
       "description_tooltip": null,
       "layout": "IPY_MODEL_e7945d58751f4957bc78efdb31cbc526",
       "max": 67863.0,
       "min": 0.0,
       "orientation": "horizontal",
       "style": "IPY_MODEL_6554659b16e747c3bfd27605e409379b",
       "value": 67863.0
      }
     },
     "f46895edb2a04e579a9ae785a2aaea8a": {
      "model_module": "@jupyter-widgets/base",
      "model_module_version": "1.2.0",
      "model_name": "LayoutModel",
      "state": {
       "_model_module": "@jupyter-widgets/base",
       "_model_module_version": "1.2.0",
       "_model_name": "LayoutModel",
       "_view_count": null,
       "_view_module": "@jupyter-widgets/base",
       "_view_module_version": "1.2.0",
       "_view_name": "LayoutView",
       "align_content": null,
       "align_items": null,
       "align_self": null,
       "border": null,
       "bottom": null,
       "display": null,
       "flex": null,
       "flex_flow": null,
       "grid_area": null,
       "grid_auto_columns": null,
       "grid_auto_flow": null,
       "grid_auto_rows": null,
       "grid_column": null,
       "grid_gap": null,
       "grid_row": null,
       "grid_template_areas": null,
       "grid_template_columns": null,
       "grid_template_rows": null,
       "height": null,
       "justify_content": null,
       "justify_items": null,
       "left": null,
       "margin": null,
       "max_height": null,
       "max_width": null,
       "min_height": null,
       "min_width": null,
       "object_fit": null,
       "object_position": null,
       "order": null,
       "overflow": null,
       "overflow_x": null,
       "overflow_y": null,
       "padding": null,
       "right": null,
       "top": null,
       "visibility": null,
       "width": null
      }
     },
     "f5a9e34f72e04754b25f4aeb9e93b85c": {
      "model_module": "@jupyter-widgets/base",
      "model_module_version": "1.2.0",
      "model_name": "LayoutModel",
      "state": {
       "_model_module": "@jupyter-widgets/base",
       "_model_module_version": "1.2.0",
       "_model_name": "LayoutModel",
       "_view_count": null,
       "_view_module": "@jupyter-widgets/base",
       "_view_module_version": "1.2.0",
       "_view_name": "LayoutView",
       "align_content": null,
       "align_items": null,
       "align_self": null,
       "border": null,
       "bottom": null,
       "display": null,
       "flex": null,
       "flex_flow": null,
       "grid_area": null,
       "grid_auto_columns": null,
       "grid_auto_flow": null,
       "grid_auto_rows": null,
       "grid_column": null,
       "grid_gap": null,
       "grid_row": null,
       "grid_template_areas": null,
       "grid_template_columns": null,
       "grid_template_rows": null,
       "height": null,
       "justify_content": null,
       "justify_items": null,
       "left": null,
       "margin": null,
       "max_height": null,
       "max_width": null,
       "min_height": null,
       "min_width": null,
       "object_fit": null,
       "object_position": null,
       "order": null,
       "overflow": null,
       "overflow_x": null,
       "overflow_y": null,
       "padding": null,
       "right": null,
       "top": null,
       "visibility": null,
       "width": null
      }
     },
     "f5ed9675be294ac783f05a6ff6fd8be0": {
      "model_module": "@jupyter-widgets/controls",
      "model_module_version": "1.5.0",
      "model_name": "ProgressStyleModel",
      "state": {
       "_model_module": "@jupyter-widgets/controls",
       "_model_module_version": "1.5.0",
       "_model_name": "ProgressStyleModel",
       "_view_count": null,
       "_view_module": "@jupyter-widgets/base",
       "_view_module_version": "1.2.0",
       "_view_name": "StyleView",
       "bar_color": null,
       "description_width": ""
      }
     },
     "fa29739daad44bf3931a22c0cf92f97d": {
      "model_module": "@jupyter-widgets/base",
      "model_module_version": "1.2.0",
      "model_name": "LayoutModel",
      "state": {
       "_model_module": "@jupyter-widgets/base",
       "_model_module_version": "1.2.0",
       "_model_name": "LayoutModel",
       "_view_count": null,
       "_view_module": "@jupyter-widgets/base",
       "_view_module_version": "1.2.0",
       "_view_name": "LayoutView",
       "align_content": null,
       "align_items": null,
       "align_self": null,
       "border": null,
       "bottom": null,
       "display": null,
       "flex": null,
       "flex_flow": null,
       "grid_area": null,
       "grid_auto_columns": null,
       "grid_auto_flow": null,
       "grid_auto_rows": null,
       "grid_column": null,
       "grid_gap": null,
       "grid_row": null,
       "grid_template_areas": null,
       "grid_template_columns": null,
       "grid_template_rows": null,
       "height": null,
       "justify_content": null,
       "justify_items": null,
       "left": null,
       "margin": null,
       "max_height": null,
       "max_width": null,
       "min_height": null,
       "min_width": null,
       "object_fit": null,
       "object_position": null,
       "order": null,
       "overflow": null,
       "overflow_x": null,
       "overflow_y": null,
       "padding": null,
       "right": null,
       "top": null,
       "visibility": null,
       "width": null
      }
     },
     "fc7f96584b4641b0a1e51acb4e54cfa7": {
      "model_module": "@jupyter-widgets/controls",
      "model_module_version": "1.5.0",
      "model_name": "ProgressStyleModel",
      "state": {
       "_model_module": "@jupyter-widgets/controls",
       "_model_module_version": "1.5.0",
       "_model_name": "ProgressStyleModel",
       "_view_count": null,
       "_view_module": "@jupyter-widgets/base",
       "_view_module_version": "1.2.0",
       "_view_name": "StyleView",
       "bar_color": null,
       "description_width": ""
      }
     },
     "fe575612b6b54e3c8a3e1fa4e3eb5b11": {
      "model_module": "@jupyter-widgets/controls",
      "model_module_version": "1.5.0",
      "model_name": "DescriptionStyleModel",
      "state": {
       "_model_module": "@jupyter-widgets/controls",
       "_model_module_version": "1.5.0",
       "_model_name": "DescriptionStyleModel",
       "_view_count": null,
       "_view_module": "@jupyter-widgets/base",
       "_view_module_version": "1.2.0",
       "_view_name": "StyleView",
       "description_width": ""
      }
     }
    },
    "version_major": 2,
    "version_minor": 0
   }
  }
 },
 "nbformat": 4,
 "nbformat_minor": 5
}
